{
 "cells": [
  {
   "cell_type": "markdown",
   "metadata": {},
   "source": [
    "# Introducing PyGame\n",
    "\n",
    "In this section we will introduce the graphics python library PyGame. So far, we have written code that gets executed in the command line, but in order to create psychology experiments, we need to be able to present stimuli (e.g. words, shapes, pictures, etc.) on the screen in a nice way. For example, we might want to present red text on white background, or we might want to present differently colored shapes.<br>\n",
    "In order to achieve this, we need to use a graphics library for python. One such library that is very well suited for programming psychology experiments is [PyGame](www.pygame.org). PyGame is built on top of the low-level SDL library which enables a program to interact with graphics, keyboard, mouse, etc. Thus, by using PyGame in our program, we will be able to present graphic elements, and collect all kind of user input from the keyboard or the mouse.<br><br>\n",
    "This section is structured as follows:\n",
    "- PyGame Basics\n",
    "- Creating a Window with PyGame\n",
    "- Changing Window Parameters\n",
    "- PyGame Documentation\n",
    "- Did You Miss Functions?\n",
    "\n",
    "---"
   ]
  },
  {
   "cell_type": "markdown",
   "metadata": {},
   "source": [
    "## PyGame Basics\n",
    "\n",
    "As mentioned above, PyGame is a library that allows us to create graphical elements in Python. To import PyGame and iitialize all of the modules it contains, we do the following:\n",
    "\n",
    "```python\n",
    "# importing pygame\n",
    "import pygame\n",
    "\n",
    "# initializing pygame\n",
    "pygame.init()\n",
    "```\n",
    "\n",
    "From the previous sections we already know what the `import` statement does (e.g. `import time`), namely import python modules that we can use in our python code. In the case of the `time` module, we can control time properties of our program and in the case of the `pygame` module, we can control graphics, events, and also time elements in our program. The statement `pygame.init()` simply initializes all PyGame attributes. So after calling `pygame.init()` we are able to use all of the attributes of PyGame. In the following we will introduce some of the attributes and functions of PyGame:"
   ]
  },
  {
   "cell_type": "markdown",
   "metadata": {},
   "source": [
    "### pygame.display\n",
    "The pygame.display attribute contains all attributes and functions that we can use do to things to our display. For example, by typing `pygame.display.set_mode(400, 400)` we create a window surface with **width = 400** and **height = 400**. Now, you might ask what the dots `.` between the statements are? These *dots* are there because PyGame follows an object-oriented structure. You do not need to know what that is until the last section of this course, so for now all you need to know is that the syntax `attribute.otherattribute.somefunctuion()` calls a function of the attribute `otherattribute`, which is part of an `attribute`. So in the case of the above PyGame example, the statement `pygame.display.set_mode()` calls the function `set_mode()` of the attribute `display()` which is part of the module `pygame`. Because `set_mode()` is a function, it will do something for us, namely create a display. Here is an exmaple:"
   ]
  },
  {
   "cell_type": "markdown",
   "metadata": {},
   "source": [
    "```python\n",
    "# importing pygame\n",
    "import pygame\n",
    "\n",
    "# initialzing pygame\n",
    "pygame.init()\n",
    "\n",
    "# create a screen instance that we assign to the varibale screen\n",
    "screen = pygame.display.set_mode(400, 400)\n",
    "pygame.display.set_caption(\"My First PyGame Screen\")\n",
    "\n",
    "# filling background with red color\n",
    "screen.fill((25, 0, 0))\n",
    "```"
   ]
  },
  {
   "cell_type": "markdown",
   "metadata": {},
   "source": [
    "Note that once we have created a surface named `screen`, we can call the function `fill()` to change its background to red. If we run the above program from the command line, we would see the program execute, but the screen would not have a red background as specified. Instead, the follwing screen will apar with no background (black): <br>\n",
    "<img src=\"firstScreen.png\" alt=\"FirstScreenImage\" align=\"left\">\n",
    "<br>\n"
   ]
  },
  {
   "cell_type": "markdown",
   "metadata": {},
   "source": [
    "That is, we would not see anything appear on the screen. In order to be able to see somthing, we have to call another pygame function named `pygame.display.flip()`<br>\n",
    "This function will briefly draw everything to the screen and then close the program automatically. Here is the code of a program named `simple_screen.py`:"
   ]
  },
  {
   "cell_type": "markdown",
   "metadata": {},
   "source": [
    "```python\n",
    "# import pygame modules\n",
    "import pygame\n",
    "\n",
    "# initialize pygame\n",
    "pygame.init()\n",
    "\n",
    "# create screen\n",
    "screen = pygame.display.set_mode((400, 400))\n",
    "pygame.display.set_caption(\"My First PyGame Screen\")\n",
    "\n",
    "# filling background with red color\n",
    "screen.fill((25, 0, 0))\n",
    "\n",
    "# draw everything\n",
    "pygame.display.flip()\n",
    "```"
   ]
  },
  {
   "cell_type": "markdown",
   "metadata": {},
   "source": [
    "Running this from the command line by typing the follwing\n",
    "```bash\n",
    "python simple_screen.py\n",
    "```\n",
    "we would see this screen apear briefly and then disappear: <br><br>\n",
    "<img src=\"redBackground.png\" alt=\"RedScreenImage\" align=\"left\">"
   ]
  },
  {
   "cell_type": "markdown",
   "metadata": {},
   "source": [
    "Now you might ask why do we have to call `pygame.display.flip()` to be able to draw everything to the screen? Well, this has to do with a concept named **double buffering**. If we were able to draw everything directly to the screen, then our application (the python program) would draw and display the drawn contents at the same time in a continous fashion. This would cause the image on the screen to  flcker. You might know this phenomenon from old TV screens. <br><br>\n",
    "In order to avoid such flickering, we draw everything that we want to draw to a **back buffer** of the screen and once everything is drawn, we then flip the back buffer with the current **front buffer** in order to display the contents. Here is a graphic that illustrates this concept:"
   ]
  },
  {
   "cell_type": "markdown",
   "metadata": {},
   "source": [
    "<img src=\"DoubleBuffer.png\" alt=\"DoubleBufferImage\" align=\"left\">"
   ]
  },
  {
   "cell_type": "markdown",
   "metadata": {},
   "source": [
    "This process of flipping the back buffer to the front is usually done 60 times per second by modern monitors. This value is chosen because 60 frames per second (FPS) are perceived as a fluent image with no flickering. In the next part (below) we will see how we can specifiy this value explicitly."
   ]
  },
  {
   "cell_type": "markdown",
   "metadata": {},
   "source": [
    "Before introducing another pygame attribute, we will briefly demonstrate how we can change the background color of the window that we have created earlier to yet another color. Let's change it to purple. Here is the code: "
   ]
  },
  {
   "cell_type": "markdown",
   "metadata": {},
   "source": [
    "```python\n",
    "# import pygame modules\n",
    "import pygame\n",
    "\n",
    "# initialize pygame\n",
    "pygame.init()\n",
    "\n",
    "# create screen\n",
    "screen = pygame.display.set_mode((400, 400))\n",
    "pygame.display.set_caption(\"My First PyGame Screen\")\n",
    "\n",
    "# change color of screen and draw everything\n",
    "screen.fill((128, 0, 128))\n",
    "pygame.display.flip()\n",
    "```"
   ]
  },
  {
   "cell_type": "markdown",
   "metadata": {},
   "source": [
    "If we execute this code, the following window appears after a short time and then closes automatically:<br>\n",
    "<img src=\"purpleBackground.png\" alt=\"PurpleScreenImage\" align=\"left\">"
   ]
  },
  {
   "cell_type": "markdown",
   "metadata": {},
   "source": [
    "Note that the statement `screen.fill((128, 0, 128))` changes the color of the screen to purple. We are calling the function `fill()` on the object screen which we have created with `pygame.display.set_mode()`. This is possible, because by calling `pygame.display.set_mode()` we are creating a PyGame Surface that we name `screen` and that has the specified width and height. So `screen` is a **PyGame Surface** which allows us to use functions on it that can modify the surface. One such function is the function `fill()`. This function takes a tuple with [red green and blue (RGB)](https://en.wikipedia.org/wiki/RGB_color_model) color channels as an argument. For example, the tuple (0, 0, 0) will produce the color **BLACK** and the tuple (128, 0, 128) will produce the color **PURPLE**. You can figure out what colors can be produced from RGB tuples on [this website](http://www.rapidtables.com/web/color/RGB_Color.htm)."
   ]
  },
  {
   "cell_type": "markdown",
   "metadata": {},
   "source": [
    "### pygame.time\n",
    "Another attribute that we can use is the `pygame.time` attribute which allows us to control time with millisecond (ms) precision. For example, the statement `pygame.time.wait(5)` will pause the program for 5 ms. If we want to pause a program for 5 seconds, we would have to type `pygame.time.wait(5000)` because 5000 ms = 5 s.<br>\n",
    "Further, we can also create an instance of a clock in order to control the frames per second (FPS) that are drawn on the screen through the follwing code:\n",
    "```python\n",
    "# create clock\n",
    "clock = pygame.time.Clock()\n",
    "\n",
    "# set frame rate and pass it to the clock\n",
    "FPS = 60\n",
    "clock.tick(FPS)\n",
    "\n",
    "```"
   ]
  },
  {
   "cell_type": "markdown",
   "metadata": {},
   "source": [
    "So let's say we want the previously created surface to be visible for 10 seconds. We can achieve this by inserting the following line of code into our program after the display has been flipped:\n",
    "\n",
    "```python\n",
    "pygame.time.wait(10000)\n",
    "```\n",
    "Now that we know how to create surfaces and how to use the time module let us move to creating a simple window that stays open for a predefined amount of time."
   ]
  },
  {
   "cell_type": "markdown",
   "metadata": {},
   "source": [
    "## Creating a Window with PyGame\n",
    "The things we have learned so far can be combined to create a Window that stays open for 5 seconds and then closes automatically. This time we will use a while-loop to control the program and exit pygame in a propper way. Here is the code:"
   ]
  },
  {
   "cell_type": "markdown",
   "metadata": {},
   "source": [
    "```python\n",
    "# importing pygame\n",
    "import pygame\n",
    "\n",
    "# initialize pygame modules\n",
    "pygame.init()\n",
    "\n",
    "# define grey background color\n",
    "bgColor = (255, 255, 255)\n",
    "\n",
    "# define scren Settings\n",
    "size = (600, 400)\n",
    "screen = pygame.display.set_mode(size)\n",
    "pygame.display.set_caption(\"My First PyGame Screen\")\n",
    "\n",
    "# define main loop parameters and start the main loop\n",
    "FPS = 60 # frames per second (FPS)\n",
    "clock = pygame.time.Clock() # create pygame clock instance\n",
    "running = True # boolean value to control main loop\n",
    "\n",
    "# start main loop\n",
    "while running:\n",
    "\n",
    "    # limiting the while loop to FPS (60 times per second)\n",
    "    clock.tick(FPS)\n",
    "    # fill screen\n",
    "    screen.fill(bgColor)\n",
    "    # draw everything to foreground\n",
    "    pygame.display.flip()\n",
    "    # wait for 5 seconds then end the program\n",
    "    pygame.time.wait(5000)\n",
    "    running = False\n",
    "\n",
    "# quit program\n",
    "pygame.quit()\n",
    "```"
   ]
  },
  {
   "cell_type": "markdown",
   "metadata": {},
   "source": [
    "Running this program produces the following screen for 5 seconds:<br>\n",
    "<img src=\"greyBackground.png\" alt=\"GreyBackgroundImage\" align=\"left\">"
   ]
  },
  {
   "cell_type": "markdown",
   "metadata": {},
   "source": [
    "Note how we defined the background color as a tuple named `bgColor = (160, 160, 160)` and how the screen size is also passed to `pygame.display.set_mode()` as a variable containing the tuple `size = (600, 400)`.<br>\n",
    "Further, we are explicitly defining the FPS through `FPS = 60` and are creating a clock `clock = pygame.time.Clock()`. <br>\n",
    "Finally, `running = True` is created in order to be able to loop until 5 seconds are elapsed and that variable is set to `running = False` which exits the loop. At the end, pygame is exited with `pygame.quit()`."
   ]
  },
  {
   "cell_type": "markdown",
   "metadata": {},
   "source": [
    "## Changing Window Parameters\n",
    "Having implemented the above program, we can now change the window parameters. Here is an exmaple in which we will change the window size to be (800, 600), the caption of the window will be \"My Second PyGame Screen\", and the background color will be green (0, 204, 0). Here is the code:"
   ]
  },
  {
   "cell_type": "markdown",
   "metadata": {},
   "source": [
    "```python\n",
    "# importing pygame\n",
    "import pygame\n",
    "\n",
    "# initialize pygame modules\n",
    "pygame.init()\n",
    "\n",
    "# define background color\n",
    "bgColor = (0, 204, 0)\n",
    "\n",
    "# define scren Settings\n",
    "size = (800, 600)\n",
    "screen = pygame.display.set_mode(size)\n",
    "pygame.display.set_caption(\"My Second PyGame Screen\")\n",
    "\n",
    "# define main loop parameters and start the main loop\n",
    "FPS = 60 # frames per second (FPS)\n",
    "clock = pygame.time.Clock() # create pygame clock instance\n",
    "running = True # boolean value to control main loop\n",
    "\n",
    "# start mein loop\n",
    "while running:\n",
    "\n",
    "    # limiting the while loop to FPS (60 times per second)\n",
    "    clock.tick(FPS)\n",
    "    # fill screen\n",
    "    screen.fill(bgColor)\n",
    "    # draw everything to foreground\n",
    "    pygame.display.flip()\n",
    "    # wait for 5 seconds then end the program\n",
    "    pygame.time.wait(5000)\n",
    "    running = False\n",
    "\n",
    "# quit program\n",
    "pygame.quit()\n",
    "```"
   ]
  },
  {
   "cell_type": "markdown",
   "metadata": {},
   "source": [
    "This code produces the following window: <br>\n",
    "<img src=\"greenWindow.png\" alt=\"GreenWindowImage\" align=\"left\">"
   ]
  },
  {
   "cell_type": "markdown",
   "metadata": {},
   "source": [
    "## PyGame Documentation\n",
    "As you might have noticed, using the PyGame library involves dealing with many different attributes and functions. So in order to become familiar with graphical objects that can be created with PyGame, it is **extremely important** to get familiar with the syntax.\n",
    "\n",
    "Here is the link to the PyGame Documentation:\n",
    "<br><br>\n",
    "[PyGame Documentation](http://www.pygame.org/docs/)\n",
    "<br><br>\n",
    "Take some time to study the documentation and find out how the basics of it work. Again, we will show you how certain parts of PyGame are used, but your resposnibility will also be to explore the documentation yourself in order to be able to create graphical elements that interest you!\n",
    "\n",
    "---"
   ]
  },
  {
   "cell_type": "markdown",
   "metadata": {},
   "source": [
    "## Did You Miss Functions?\n",
    "We were able to create our first PyGame Window in an imperative way. But as we have mentioned in the earlier section, the same can be achieved using the functional programming paradigm. So let's try to structure the code above using functions.\n",
    "Here we go:"
   ]
  },
  {
   "cell_type": "markdown",
   "metadata": {},
   "source": [
    "```python\n",
    "# importing pygame\n",
    "import pygame\n",
    "\n",
    "# define global program parameters\n",
    "bgColor = (0, 204, 0)\n",
    "screenSize = (800, 600)\n",
    "FPS = 60\n",
    "screen = pygame.display.set_mode(screenSize)\n",
    "clock = pygame.time.Clock()\n",
    "\n",
    "# main function that runs the program\n",
    "def run_program():\n",
    "    \"\"\"runs the program\"\"\"\n",
    "\n",
    "    # initialize pygame\n",
    "    initPygame(screenSize, FPS)\n",
    "\n",
    "    # start main loop\n",
    "    mainloop()\n",
    "\n",
    "    # exit the program\n",
    "    quitProgram()\n",
    "\n",
    "\n",
    "def initPygame(screenSize, FPS):\n",
    "    \"\"\"\n",
    "    initializes pygame backends explicitly with\n",
    "    predefined settings\n",
    "    \"\"\"\n",
    "    # initialize pygame modules\n",
    "    pygame.init()\n",
    "\n",
    "    # define screen Settings\n",
    "    pygame.display.set_caption(\"My Second PyGame Screen\")\n",
    "\n",
    "    # set frame rate\n",
    "    clock.tick(FPS)\n",
    "\n",
    "def renderScreen(color):\n",
    "    \"\"\"renders something to screen\"\"\"\n",
    "    # fill screen\n",
    "    screen.fill(color)\n",
    "\n",
    "def drawScreen():\n",
    "    \"\"\"draws rendered content to screen\"\"\"\n",
    "    # render to screen backbuffer\n",
    "    renderScreen(bgColor)\n",
    "    # flip to foreground\n",
    "    pygame.display.flip()\n",
    "\n",
    "def mainloop():\n",
    "    \"\"\"runs the mainloop\"\"\"\n",
    "    # boolean value to control main loop\n",
    "    running = True\n",
    "    # start mein loop\n",
    "    while running:\n",
    "        # draw everyting\n",
    "        drawScreen()\n",
    "        # wait for 5 seconds then end the program\n",
    "        pygame.time.wait(5000)\n",
    "        running = False\n",
    "\n",
    "def quitProgram():\n",
    "    \"\"\"exits pygame explicitly\"\"\"\n",
    "    # quit program\n",
    "    pygame.quit()\n",
    "\n",
    "\n",
    "# == start program == #\n",
    "if __name__ == \"__main__\":\n",
    "    run_program()\n",
    "```"
   ]
  },
  {
   "cell_type": "markdown",
   "metadata": {},
   "source": [
    "Again, this code produces the same output as above, but now the code is broken down into functions and thus follows a clear structure where individual functions can be reused and modified without having to change the entire program layout.<br><br>\n",
    "For sake of completeness, here is the output the functional version produces (note that it is the same as above):<br>\n",
    "<img src=\"greenWindow.png\" alt=\"GreenWindowImage\" align=\"left\">\n",
    "\n",
    "---"
   ]
  }
 ],
 "metadata": {
  "kernelspec": {
   "display_name": "Python 3",
   "language": "python",
   "name": "python3"
  },
  "language_info": {
   "codemirror_mode": {
    "name": "ipython",
    "version": 3
   },
   "file_extension": ".py",
   "mimetype": "text/x-python",
   "name": "python",
   "nbconvert_exporter": "python",
   "pygments_lexer": "ipython3",
   "version": "3.5.2"
  }
 },
 "nbformat": 4,
 "nbformat_minor": 2
}
