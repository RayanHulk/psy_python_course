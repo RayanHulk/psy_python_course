{
 "cells": [
  {
   "cell_type": "markdown",
   "metadata": {},
   "source": [
    "# Presenting Text\n",
    "In this section we will learn how to present stimuli in the form of text to participants. We will start out with an introduction on how to present text and change text parameters and at the end of this section we will program a small learning phase in which word stimuli are presented to the participants for study.\n",
    "So we will cover the following topics:\n",
    "- Text in PyGame\n",
    "- Rendering and Blitting Text\n",
    "- Positioning of Text Relative to Screen\n",
    "- Presenting a Set of Stimuli\n",
    "\n",
    "---"
   ]
  },
  {
   "cell_type": "markdown",
   "metadata": {},
   "source": [
    "## Text in PyGame\n",
    "In PyGame, in order to present text, we need to create a **Text Surface** and blit that surface to the screen. So we cannot just use the `print()` function to present text. This is because we need to keep in mind that we are interacting with the computers graphics now, so even though it is just text that we are presenting, that text needs to be drawn to the screen in the same way that the background or some shapes are drawn to the screen.<br><br>\n",
    "Let's look at the following example:<br>\n",
    "<img src=\"screenCenteredText.png\" alt=\"CenteredTextSurface\" align=left>"
   ]
  },
  {
   "cell_type": "markdown",
   "metadata": {},
   "source": [
    "The text (\"Hello\") that is created, can be thought of as a rectangle object that is disaplayed on the screen. So when we want to present text, we need to do the following three steps:\n",
    "- create an object (rectangle) that can hold text\n",
    "- render that text rectangle to the backbuffer\n",
    "- flip the backbuffer to the foreground"
   ]
  },
  {
   "cell_type": "markdown",
   "metadata": {},
   "source": [
    "## Rendering and Blitting Text\n",
    "**1)** First, we will learn how to create the rectangle object that can hold our text. In PyGame this can be done like so:\n",
    "```python\n",
    "# create a font object\n",
    "# parameters are 'system font type' and 'size'\n",
    "font = pygame.font.SysFont(\"Arial\", 40)\n",
    "\n",
    "# create a text string, text color, background color, and a rendered text object\n",
    "# params of the render method are 'text', anti-aliasing, color and background color\n",
    "text = \"Hello\"\n",
    "textColor = (0, 0, 0) # text is black\n",
    "bgColor = (160, 160, 160) # bgColor will be light grey\n",
    "textItem = font.render(text, True, textColor, bgColor)\n",
    "```"
   ]
  },
  {
   "cell_type": "markdown",
   "metadata": {},
   "source": [
    "Let's go through the above code step by step. First we create a variable that represents our text named `text`. From earlier sections you should know that this variable is a *string*. Then, we are specifying the color of the text and the bgColor:<br><br>\n",
    "`textColor = (0, 0, 0) # text is black`<br>\n",
    "`bgColor = (160, 160, 160) # bgColor will be light grey`<br><br>\n",
    "Now we have all basic paramters that we need to create the text rectangle. We do this by creating a font instance and rendering the text which we save in the variable `textItem`. The creation of the font instance is done in the first line in the above code example:<br><br>\n",
    "`font = pygame.font.SysFont(\"Arial\", 40)`<br><br>\n",
    "Then, we render the text and thus create our text rectangle object:<br><br>\n",
    "`textItem = font.render(text, True, textColor, bgColor)`<br><br>\n",
    "The parameters that we pass to the `render()` function are **text**, **anti-aliasing (makes smoth edges)**, **the text color**, and **the background color**.\n"
   ]
  },
  {
   "cell_type": "markdown",
   "metadata": {},
   "source": [
    "**2)** Now that we have created our text rectangle, we can render it to the backbuffer using the following code:\n",
    "```python\n",
    "# specify positions\n",
    "position = (150, 200)\n",
    "\n",
    "# change color of screen and draw everything\n",
    "screen.fill(bgColor)\n",
    "# blit text\n",
    "screen.blit(textItem, position)\n",
    "```"
   ]
  },
  {
   "cell_type": "markdown",
   "metadata": {},
   "source": [
    "Let's go through this code snippet again. In order to render our text, we need to have a position. Thus, in the first line we are defining that position as a tuple of coordinates on the screen. So the tuple `(0, 0)` would be the **upper left corner** and in our example, as the screen width and height will be `(400, 400)`, the text will be placed fairly at the center of the screen if we specify `position = (150, 200)`.<br><br>\n",
    "Before blitting everyhing the next line is filling the screen with a predefined background color:<br><br>\n",
    "`screen.fill(bgColor)`<br><br>\n",
    "And finally, we can render everything to the backbuffer using<br><br>\n",
    "`screen.blit(textItem, position)`"
   ]
  },
  {
   "cell_type": "markdown",
   "metadata": {},
   "source": [
    "**3)** Finally we simply flip everything that we have drawn to the backbuffer to the foreground:\n",
    "```python\n",
    "# flip to foreground\n",
    "pygame.display.flip()\n",
    "```"
   ]
  },
  {
   "cell_type": "markdown",
   "metadata": {},
   "source": [
    "**Putting everything together:** Here is a small program that will present the word \"Hello\" at the upper left side of the screen:\n",
    "```python\n",
    "# import pygame modules\n",
    "import pygame\n",
    "\n",
    "# initialize pygame\n",
    "pygame.init()\n",
    "\n",
    "# create screen\n",
    "screen = pygame.display.set_mode((400, 400))\n",
    "pygame.display.set_caption(\"My First Text Screen\")\n",
    "\n",
    "# create a font object\n",
    "# parameters are 'system font type' and 'size'\n",
    "font = pygame.font.SysFont(\"Arial\", 40)\n",
    "\n",
    "# === section that creates the rendered text object === #\n",
    "# create a text string, text color, background color, and a rendered text object\n",
    "# params of the render method are 'text', anti-aliasing, color and background color\n",
    "text = \"Hello\"\n",
    "textColor = (0, 0, 0) # text is black\n",
    "bgColor = (160, 160, 160) # bgColor will be light grey\n",
    "textItem = font.render(text, True, textColor, bgColor)\n",
    "\n",
    "# specify positions\n",
    "position = (0, 0)\n",
    "\n",
    "# ===================================================== #\n",
    "\n",
    "# change color of screen and draw everything\n",
    "screen.fill(bgColor)\n",
    "# blit text\n",
    "screen.blit(textItem, position)\n",
    "# flip to foreground\n",
    "pygame.display.flip()\n",
    "\n",
    "# wait for 8 seconds\n",
    "pygame.time.wait(8000)\n",
    "```"
   ]
  },
  {
   "cell_type": "markdown",
   "metadata": {},
   "source": [
    "When running the program, we will see the following:<br>\n",
    "<img src=\"basicText.png\" alt=\"BasicTextSurface\" align=left>"
   ]
  },
  {
   "cell_type": "markdown",
   "metadata": {},
   "source": [
    "We can also change the position of the text on the screen, by modifying the follwing line in our code:\n",
    "```python\n",
    "# specify positions\n",
    "position = (150, 200)\n",
    "```"
   ]
  },
  {
   "cell_type": "markdown",
   "metadata": {},
   "source": [
    "Re-executing the above program with this modification will produce the following:<br>\n",
    "<img src=\"handCenteredText.png\" alt=\"CenteredTextSurface\" align=left>"
   ]
  },
  {
   "cell_type": "markdown",
   "metadata": {},
   "source": [
    "Note that the text is not exactly at the center of the screen, because we have specified it by hand when we set `position = (150, 200)`. Setting positions by hand is not a good option anyway, because what if the screen size changes? Thus, it is always best to specifiy th position of a text rectangle relative to the dimensions of the screen."
   ]
  },
  {
   "cell_type": "markdown",
   "metadata": {},
   "source": [
    "## Positioning of Text Relative to Screen\n",
    "In order to position text relative to the screen size, we can modify the above program sligtly. Specifically we will chnage the section where the positioning is specified. We do this with the following lines of code:\n",
    "```python\n",
    "# specify positions\n",
    "# first we get the textItem rectangle and the rectangle of the screen\n",
    "textRect = textItem.get_rect()\n",
    "screenRect = screen.get_rect()\n",
    "\n",
    "# next, we place the rect at the center of the screen\n",
    "textRect.center = screenRect.center\n",
    "```\n",
    "Let's go through what is happening here. This code assumes that we have created a text object `textItem` already. Thus, in the first line of code we are calling the function `get_rect()` on that object. This function returns another rectangle that covers the entire surface of the surface `textItem`. The same is done with the screen surface that we have created at the beginning of the program. So the following two lines<br><br>\n",
    "`textRect = textItem.get_rect()`<br>\n",
    "`screenRect = screen.get_rect()`<br><br>\n",
    "return the rectangle of the text and the screen respectively. Here is a graphical illustration of what these two lines do:\n",
    "<img src=\"rectsScreenText.png\" alt=\"RectsofTextandSurface\" align=left>"
   ]
  },
  {
   "cell_type": "markdown",
   "metadata": {},
   "source": [
    "So you can think of the two rects that are returned as the dimnesions of the respective object, namely the screen on the one hand and the text surface on the other hand. In the last line of the above code we are simply placing the text surface at the center of the screen:<br><br>\n",
    "`textRect.center = screenRect.center`"
   ]
  },
  {
   "cell_type": "markdown",
   "metadata": {},
   "source": [
    "**Putting everything together:** Here is the complete program that paces the text **EXACTLY** at the center of the screen:\n",
    "```python\n",
    "# import pygame modules\n",
    "import pygame\n",
    "\n",
    "# initialize pygame\n",
    "pygame.init()\n",
    "\n",
    "# create screen\n",
    "screen = pygame.display.set_mode((400, 400))\n",
    "pygame.display.set_caption(\"My First Text Screen\")\n",
    "\n",
    "# create a font object\n",
    "# parameters are 'system font type' and 'size'\n",
    "font = pygame.font.SysFont(\"Arial\", 40)\n",
    "\n",
    "# === section that creates the rendered text object === #\n",
    "# create a text string, text color, background color, and a rendered text object\n",
    "# params of the render method are 'text', anti-aliasing, color and background color\n",
    "text = \"Hello\"\n",
    "textColor = (0, 0, 0) # text is black\n",
    "bgColor = (160, 160, 160) # bgColor will be light grey\n",
    "textItem = font.render(text, True, textColor, bgColor)\n",
    "\n",
    "# specify positions\n",
    "# first we get the textItem rectangle and the rectangle of the screen\n",
    "textRect = textItem.get_rect()\n",
    "screenRect = screen.get_rect()\n",
    "\n",
    "# next, we place the rect at the center of the screen\n",
    "textRect.center = screenRect.center\n",
    "# ===================================================== #\n",
    "\n",
    "# change color of screen and draw everything\n",
    "screen.fill(bgColor)\n",
    "# blit text with the textRect as positional argument\n",
    "screen.blit(textItem, textRect)\n",
    "# flip to foreground\n",
    "pygame.display.flip()\n",
    "\n",
    "# wait for 8 seconds\n",
    "pygame.time.wait(8000)\n",
    "```"
   ]
  },
  {
   "cell_type": "markdown",
   "metadata": {},
   "source": [
    "Executing this program produces the following (notice how the text is centered exatly relative to the screen):<br>\n",
    "<img src=\"screenCenteredText.png\" alt=\"CenteredTextSurface\" align=left>"
   ]
  },
  {
   "cell_type": "markdown",
   "metadata": {},
   "source": [
    "## Presenting a Set of Stimuli\n",
    "Next, we will see how to present a set of stimuli in sequence to the screen. You can think of it as a learning phase of a memory experiment. Because we love functions, we will program this using functions. Here is the code:\n",
    "```python\n",
    "# import pygame module\n",
    "import pygame\n",
    "\n",
    "# === define global program parameters in a dict === #\n",
    "# this ensures that they are accessible in each function\n",
    "expGlobals = {\"bgColor\" : (180, 180, 180), # bg is light grey\n",
    "              \"textColor\" : (0, 0, 0), # text is black\n",
    "              \"screenSize\" : (800, 600), # set screen screenSize\n",
    "              \"FPS\" : 60, # frames per second\n",
    "              \"screen\" : None, # placeholder for screen instance\n",
    "              \"screenRect\" : None, # placeholder for screen rectangle\n",
    "              \"font\" : None, # placeholder for font\n",
    "              \"textItem\" : None, # placeholder for the text item\n",
    "              \"textItemRect\" : None # placeholder for the item rect\n",
    "}\n",
    "\n",
    "# list with study items\n",
    "studyItems = ['house', 'cat', 'grass', 'dog', 'table', 'pen', 'book']\n",
    "\n",
    "def runExperiment():\n",
    "    \"\"\"runs the experiment.\"\"\"\n",
    "\n",
    "    # initialize pygame and font\n",
    "    initPygame(expGlobals[\"screenSize\"], expGlobals[\"FPS\"])\n",
    "\n",
    "    # start study Block\n",
    "    startStudy(studyItems)\n",
    "\n",
    "    # exit Experiment\n",
    "    quitPygame()\n",
    "\n",
    "\n",
    "\n",
    "def initPygame(screenSize, FPS):\n",
    "    \"\"\"\n",
    "    initializes pygame backends explicitly with\n",
    "    predefined settings.\n",
    "    \"\"\"\n",
    "\n",
    "    # initialize pygame modules\n",
    "    pygame.init()\n",
    "\n",
    "    # define screen Settings\n",
    "    expGlobals[\"screen\"] = pygame.display.set_mode(expGlobals[\"screenSize\"])\n",
    "    pygame.display.set_caption(\"Learning Experiment\")\n",
    "\n",
    "    # set frame rate\n",
    "    clock = pygame.time.Clock()\n",
    "    clock.tick(expGlobals[\"FPS\"])\n",
    "\n",
    "    # get screen rect and set font\n",
    "    expGlobals[\"font\"] = pygame.font.SysFont(\"Arial\", 40)\n",
    "    expGlobals[\"screenRect\"] = expGlobals[\"screen\"].get_rect()\n",
    "\n",
    "\n",
    "\n",
    "\n",
    "def renderStimulus(itemlist, trial):\n",
    "    \"\"\"renders a stimulus at center of the screen.\"\"\"\n",
    "\n",
    "    # render textItem\n",
    "    expGlobals[\"textItem\"] = expGlobals[\"font\"].render(itemlist[trial], True, expGlobals[\"textColor\"], expGlobals[\"bgColor\"])\n",
    "\n",
    "    # get text item rect\n",
    "    expGlobals[\"textItemRect\"] = expGlobals[\"textItem\"].get_rect()\n",
    "\n",
    "    # place at center of the screen\n",
    "    expGlobals[\"textItemRect\"].center = expGlobals[\"screenRect\"].center\n",
    "\n",
    "\n",
    "def drawStimulus(duration):\n",
    "    \"\"\"draws a stimulus for a given duration of time.\"\"\"\n",
    "\n",
    "    # get time stamp and convert it to seonds\n",
    "    startTime = pygame.time.get_ticks() / 1000\n",
    "\n",
    "    # fill background\n",
    "    expGlobals[\"screen\"].fill(expGlobals[\"bgColor\"])\n",
    "\n",
    "    # while loop for drawing stimulus to screen for \"duration\" of time\n",
    "    while (pygame.time.get_ticks() / 1000) - startTime < duration:\n",
    "        # draw to backbuffer\n",
    "        expGlobals[\"screen\"].blit(expGlobals[\"textItem\"], expGlobals[\"textItemRect\"])\n",
    "        # flip to foreground\n",
    "        pygame.display.flip()\n",
    "\n",
    "def drawISI(duration):\n",
    "    \"\"\"\n",
    "    draws a blank screen for a given duration of time (inter stimulus intervall (ISI)).\n",
    "    Note that nothing needs to be rendered, as this is only the ISI\n",
    "    with a blank background.\"\"\"\n",
    "\n",
    "    # get time stamp and convert it to seconds\n",
    "    startTime = pygame.time.get_ticks() / 1000\n",
    "\n",
    "    # fill background\n",
    "    expGlobals[\"screen\"].fill(expGlobals[\"bgColor\"])\n",
    "\n",
    "    # while loop for drawing blank ISI screen for \"duration\" of time.\n",
    "    while (pygame.time.get_ticks() / 1000) - startTime < duration:\n",
    "        pygame.display.flip()\n",
    "\n",
    "def startStudy(itemlist):\n",
    "    \"loops through item list and presents each item.\"\n",
    "\n",
    "    for trialIdx in range(len(itemlist)):\n",
    "\n",
    "        # render stimuli stimuli\n",
    "        renderStimulus(itemlist, trialIdx)\n",
    "\n",
    "        # draw stimuli and ISI to screen\n",
    "        drawStimulus(5.0)\n",
    "        drawISI(1.0)\n",
    "\n",
    "def quitPygame():\n",
    "    \"\"\"exits pygame explicitly.\"\"\"\n",
    "    # quit program\n",
    "    pygame.quit()\n",
    "\n",
    "\n",
    "# == start the program == #\n",
    "if __name__ == '__main__':\n",
    "    runExperiment()\n",
    "\n",
    "```"
   ]
  },
  {
   "cell_type": "markdown",
   "metadata": {},
   "source": [
    "When running the above program, the stimuli should be presented one at a time with a 1 second inter-stimulus-interval (ISI). So on each item presentation the screen will look somthing like this:<br>\n",
    "<img src=\"stimSequence.png\" alt=\"StimuluSequence1Trial\" align=left>"
   ]
  },
  {
   "cell_type": "markdown",
   "metadata": {},
   "source": [
    "Study the above code carefully, to understand what it is doing. Here are some notes to help you:\n",
    "- the `runExperiment()` functions runs the experiment by calling other helper functions\n",
    "- these helper functions are also calling other helper functions that each do a very specific thing (e.g. rendering stimuli, drawing stimuli, running the loop over all items, etc.)\n",
    "- Note how variables that are used across multiple functions are stored in a dictionary from which each entry can be modified globally:\n",
    "```python\n",
    "expGlobals = {\"bgColor\" : (180, 180, 180), # bg is light grey\n",
    "              \"textColor\" : (0, 0, 0), # text is black\n",
    "              \"screenSize\" : (800, 600), # set screen screenSize\n",
    "              \"FPS\" : 60, # frames per second\n",
    "              \"screen\" : None, # placeholder for screen instance\n",
    "              \"screenRect\" : None, # placeholder for screen rectangle\n",
    "              \"font\" : None, # placeholder for font\n",
    "              \"textItem\" : None, # placeholder for the text item\n",
    "              \"textItemRect\" : None # placeholder for the item rect\n",
    "}\n",
    "```\n",
    "- the program is started in a friendly way which signals the program entry:\n",
    "```python\n",
    "# == start the program == #\n",
    "if __name__ == '__main__':\n",
    "    runExperiment()\n",
    "```"
   ]
  }
 ],
 "metadata": {
  "kernelspec": {
   "display_name": "Python 3",
   "language": "python",
   "name": "python3"
  },
  "language_info": {
   "codemirror_mode": {
    "name": "ipython",
    "version": 3
   },
   "file_extension": ".py",
   "mimetype": "text/x-python",
   "name": "python",
   "nbconvert_exporter": "python",
   "pygments_lexer": "ipython3",
   "version": "3.5.2"
  }
 },
 "nbformat": 4,
 "nbformat_minor": 2
}
