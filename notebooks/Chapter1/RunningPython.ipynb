{
 "cells": [
  {
   "cell_type": "markdown",
   "metadata": {},
   "source": [
    "# Running Python Programs\n",
    "\n",
    "In this section you will learn how to execute python scripts using the command line. We have already used the command line when installing python in the previous section, so you should already know how to start it on your operating system (e.g. Windows, Mac OS, Linux). The terminal commands that we will introduce in this section assume you are using Windows, but the commands are very similar on Mac OS and Linux as well (for a sample introduction on using the command line on these systems see [this website](https://www.taniarascia.com/how-to-use-the-command-line-for-apple-macos-and-linux/)."
   ]
  },
  {
   "cell_type": "markdown",
   "metadata": {},
   "source": [
    "## Working with the Command Line\n",
    "\n",
    "First open the command line by searching for \"cmd\" in the start menu.\n",
    "You should see something similar to this:\n",
    "\n",
    "![alt text](WindowsTerminal.png \"Windows Terminal\")"
   ]
  },
  {
   "cell_type": "markdown",
   "metadata": {},
   "source": [
    "The command line enables you to navigate the operating system by typing specific commands instead of double-clicking on graphical items on the Desktop or the Explorer. Even though you are not used to using Windows this way and this approach might seem odd to you, it is important that you develop this skill before starting to program. Later, you will see that testing and debuging programs is much easier if you execute python programs in the command line.\n",
    "\n",
    "\n",
    "When looking at the command line window, you can see that the current directory you are in is displayed: <br>\n",
    "For example: \n",
    "\n",
    "\n",
    "`C:\\Users\\Jon Doe >`"
   ]
  },
  {
   "cell_type": "markdown",
   "metadata": {},
   "source": [
    "Here you can type your commands and by hitting `Return` these commands will be executed by the system.\n",
    "To illsutrate the use of the command line, we will do the follwing:\n",
    "1. Navigating to a different directory\n",
    "2. Creating a new directory\n",
    "3. Adding a file to that directory\n",
    "4. Listing the contents of the directory\n"
   ]
  },
  {
   "cell_type": "markdown",
   "metadata": {},
   "source": [
    "#### 1. Navigating to a different directory\n",
    "\n",
    "To change the directory, we type `cd` followed by a space and the directory name:\n",
    "\n",
    "```bash\n",
    "cd Desktop\n",
    "```\n",
    "\n",
    "The `cd` command stands for \"change directory\". Keep in mind that the directory we type after the `cd` command needs to be a subdirectory of the current directory. Now you should se something like this:\n",
    "\n",
    "`C:\\Users\\Jon Doe\\Desktop >`\n",
    "\n",
    "We can see that we are now in the `Desktop` directory.\n",
    "To change to a directory that is in the `Desktop` directory, we can type `cd` again followed by the next directory name. Let's asume there is a directory named SampleDirectory on the Desktop. To change into that directory we can type:\n",
    "\n",
    "```bash\n",
    "cd SampleDirectory\n",
    "```\n",
    "\n",
    "Now you should see something like this:\n",
    "\n",
    "`C:\\Users\\Jon Doe\\Desktop\\SampleDirectory >`\n",
    "\n",
    "We could also do these two steps in one, by typing\n",
    "\n",
    "```bash\n",
    "cd Desktop\\SampleDirectory`\n",
    "```\n",
    "\n",
    "To go back one directory you can type\n",
    "\n",
    "```bash\n",
    "cd..\n",
    "```\n",
    "\n",
    "The follwing command takes you back to the root directory:\n",
    "\n",
    "```bash\n",
    "cd\\\n",
    "```\n",
    "\n"
   ]
  },
  {
   "cell_type": "markdown",
   "metadata": {},
   "source": [
    "#### 2. Creating a new directory\n",
    "\n",
    "Refering to the above example, let's asume we are in the following directory:\n",
    "\n",
    "`C:\\Users\\Jon Doe\\Desktop >`\n",
    "\n",
    "We now want to create a new directory named `NewDirectory`. We can do this by typing:\n",
    "\n",
    "```bash\n",
    "mkdir NewDirectory\n",
    "```\n",
    "\n",
    "If we want to navigate to this newly created directory we simply type\n",
    "\n",
    "```bash\n",
    "cd NewDirectory\n",
    "```"
   ]
  },
  {
   "cell_type": "markdown",
   "metadata": {},
   "source": [
    "#### 3. Adding a file to that directory\n",
    "\n",
    "Make sure that you are in your newly created directory `NewDirectory`.\n",
    "To add an empty text file to the directory type the following:\n",
    "\n",
    "```bash\n",
    "echo. > empty.txt\n",
    "```\n",
    "\n",
    "To ad a text file with some content type the follwing:\n",
    "\n",
    "```bash\n",
    "echo this is the content > content.txt\n",
    "```\n",
    "\n",
    "We can also create an empty python file by specifying a different file type (e.g. `filename.py`):\n",
    "\n",
    "```bash\n",
    "echo. > pythonfile.py\n",
    "```\n",
    "\n",
    "To open a file we simply type the filename and hit `Return`:\n",
    "\n",
    "```bash\n",
    "content.txt\n",
    "```"
   ]
  },
  {
   "cell_type": "markdown",
   "metadata": {},
   "source": [
    "#### 4. Listing the contents of the directory\n",
    "\n",
    "Make sure that you are in the just created directory `NewDirectory` and that you have created the files `empty.txt`, `content.txt`, and `pythonfile.py`.\n",
    "\n",
    "To list these contents of the directory type\n",
    "\n",
    "```bash\n",
    "dir\n",
    "```\n",
    "\n",
    "You can also list specific contents. Let's say we want to list all files and directories starting with the letter \"e\":\n",
    "```bash\n",
    "dir e*\n",
    "```\n",
    "\n"
   ]
  },
  {
   "cell_type": "markdown",
   "metadata": {},
   "source": [
    "#### Overview of useful commands\n",
    "\n",
    "This table gives an overview of useful commands. A complete list of command line prompts can be found in the [Windows Command Line Reference](https://technet.microsoft.com/de-de/library/cc772390.aspx).\n",
    "\n",
    "| Command        | Description           |\n",
    "| :------------- |:-------------|\n",
    "| cd | changes the directory to a sub-directory |\n",
    "| cls | clears the screen |\n",
    "| copy | copys a file from one location to another |\n",
    "| mkdir | creates a new directory |\n",
    "| echo | used to create anew file with or without content |\n",
    "| del | deletes one or more files |\n",
    "| dir | displays lsit of folder and files |\n",
    "| find | searches fo a file or multiple files |\n",
    "| exit | exits the current command control |\n",
    "\n"
   ]
  },
  {
   "cell_type": "markdown",
   "metadata": {},
   "source": [
    "## Running Python Programs\n",
    "\n",
    "The python interpreter can be started from the command line by typing `python`. \n",
    "You should see the following:\n",
    "\n",
    "![alt text](WindowsPythonTerminal.png \"Check Python Cmd\")\n",
    "\n",
    "After starting the python interpreter, we can use python. For example, we can do addition:\n",
    "\n",
    "\n",
    "![alt text](AdditionPythonTerminal.png \"Python Addition\")\n",
    "\n",
    "Or we can print something:\n",
    "\n",
    "![alt text](PrintPythonTerminal.png \"Python Print\")\n",
    "\n",
    "\n",
    "To exit the python interpreter type\n",
    "\n",
    "`quit()`\n",
    "\n",
    "If we want to write long programs, this approach is not very efficient and should only be used to test short code snippets. Thus, we will write python scripts in a text editor and execute these scripts from the command line.\n",
    "\n",
    "First, we need a text editor. We recommend you use the editor `Atom`. Follow this link to download and install `Atom` on your computer:\n",
    "\n",
    "https://atom.io \n",
    "\n",
    "There are many other text editors available for free. If you want to use another editor, feel free to do so. Here is a list of good alternatives:\n",
    "\n",
    "| Editor       | Supported Operating Systems | Link           |\n",
    "| :------------- |:--------------------------| :-----------: |\n",
    "| Notepad++ | Windows| https://notepad-plus-plus.org/ |\n",
    "| PyCharm | Windows, Mac OS, Linux| https://www.jetbrains.com/pycharm/ |\n",
    "| Geany | Windows, Linux | https://www.geany.org/ |\n",
    "| Textmate | Mac OS | https://macromates.com/ |"
   ]
  },
  {
   "cell_type": "markdown",
   "metadata": {},
   "source": [
    "Next, we will create a small python script in `Atom` and execute the script from the command line. Python scripts can be executed from the command line by navigating to the directory the script is in and executing the following command:\n",
    "\n",
    "`python filename.py`\n",
    "\n",
    "So let's open an editor and type the text bellow into the editor. Then save the file in a directory with the following filename:\n",
    "\n",
    "`example.py`"
   ]
  },
  {
   "cell_type": "markdown",
   "metadata": {},
   "source": [
    "```python\n",
    "print('Welcome to this Python Course')\n",
    "print('We are going to have a lot of fun with Python')\n",
    "print('Python is cool')\n",
    "```"
   ]
  },
  {
   "cell_type": "markdown",
   "metadata": {},
   "source": [
    "Using the command line change to the directory the file is located.\n",
    "Then type the following command and press `Return`:\n",
    "\n",
    "```bash\n",
    "python example.py\n",
    "```\n",
    "\n",
    "You should see the folllwing:\n",
    "\n",
    "![alt text](Example1PythonTerminal.png \"Python Example\")\n",
    "\n",
    "If we want to add another line of text in addition to the text we already have, we have to add it to the file `example.py`:\n",
    "\n",
    "```python\n",
    "print('This is a new line')\n",
    "```\n",
    "\n",
    "If we save the file and execute it using `python example.py`, we will see this output:\n",
    "\n",
    "![alt text](Example2PythonTerminal.png \"Python Example\")"
   ]
  },
  {
   "cell_type": "markdown",
   "metadata": {},
   "source": [
    "As you can see, editing and re-executing python files is really simple from the command line.\n",
    "In order to be able to switch between screens (the editor and the command line) using just the keyboard, we can use this keyboard-shortcut:\n",
    "\n",
    "`Alt` + `Tab`\n",
    "\n",
    "So the programming process using the command line and an editor always looks like this:\n",
    "\n",
    "1. Write a program using a text editor\n",
    "2. Change to the command line using `Alt` + `Tab`\n",
    "3. Run the programm\n",
    "4. Change back to the text editor using `Alt` + `Tab`\n",
    "5. Fix errors or make changes\n",
    "6. Repeat until satisfied with outcome\n"
   ]
  }
 ],
 "metadata": {
  "kernelspec": {
   "display_name": "Python 3",
   "language": "python",
   "name": "python3"
  },
  "language_info": {
   "codemirror_mode": {
    "name": "ipython",
    "version": 3
   },
   "file_extension": ".py",
   "mimetype": "text/x-python",
   "name": "python",
   "nbconvert_exporter": "python",
   "pygments_lexer": "ipython3",
   "version": "3.6.0"
  }
 },
 "nbformat": 4,
 "nbformat_minor": 2
}
