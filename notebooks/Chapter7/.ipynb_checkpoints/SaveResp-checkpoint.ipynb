{
 "cells": [
  {
   "cell_type": "markdown",
   "metadata": {},
   "source": [
    "# Saving Responses to a Data File\n",
    "In this section we will learn how to save responses to a data file. In order to achieve this, we will first create a **results dictionary** in which we store all responses and data that we are interested in. Then we will write the contents of that dictionary to a data file. In our case we will create a **comma separated values (CSV)** file as this file type can easily be read into data analysis software and statistical programming languages or frameworks (e.g. SPSS, R, SAS, etc.). The contents of this section are as follows:\n",
    "- Storing Responses in a Results Dictionary\n",
    "- Saving Results to File\n",
    "---\n"
   ]
  },
  {
   "cell_type": "markdown",
   "metadata": {},
   "source": [
    "## Storing Responses in a Results Dictionary"
   ]
  },
  {
   "cell_type": "markdown",
   "metadata": {},
   "source": [
    "In the previous section we have already seen examples where responses are stored in a results dictionary. In this section we will reiterate the logic behind storing responses from a user in a dictionary. We will not give a complete example, as this is already eveident from the program used in the last section. So in order to store user responses to a results dictionary, the following two steps are needed:"
   ]
  },
  {
   "cell_type": "markdown",
   "metadata": {},
   "source": [
    "**1. Create results dictionary:** At the beginning of the program a results dictionary with placeholders is created. These placeholders will be filled with participant responses during the execution of the program. Here is an example of a results dictionary:\n",
    "```python\n",
    "@@@\n",
    "```\n",
    "**2. Append responses to results dictionary:** Whenever a response is collected from the participant, it is then stored in the results dictionary. Here are some pseudo code examples:\n",
    "```python\n",
    "@@@\n",
    "```\n"
   ]
  },
  {
   "cell_type": "markdown",
   "metadata": {},
   "source": [
    "## Saving Results to File"
   ]
  },
  {
   "cell_type": "markdown",
   "metadata": {},
   "source": [
    "Once all responses are stored in a results dictionary they need to be written to a data file in a format that is suited for statistical analyses. A good format to use is the csv-format, characterized by the file extension **.csv**.<br>\n"
   ]
  },
  {
   "cell_type": "code",
   "execution_count": null,
   "metadata": {},
   "outputs": [],
   "source": []
  },
  {
   "cell_type": "code",
   "execution_count": null,
   "metadata": {},
   "outputs": [],
   "source": []
  }
 ],
 "metadata": {
  "kernelspec": {
   "display_name": "Python 3",
   "language": "python",
   "name": "python3"
  },
  "language_info": {
   "codemirror_mode": {
    "name": "ipython",
    "version": 3
   },
   "file_extension": ".py",
   "mimetype": "text/x-python",
   "name": "python",
   "nbconvert_exporter": "python",
   "pygments_lexer": "ipython3",
   "version": "3.5.2"
  }
 },
 "nbformat": 4,
 "nbformat_minor": 2
}
