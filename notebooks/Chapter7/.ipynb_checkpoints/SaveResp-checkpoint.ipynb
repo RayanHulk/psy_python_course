{
 "cells": [
  {
   "cell_type": "markdown",
   "metadata": {},
   "source": [
    "# Saving Responses to a Data File\n",
    "In this section we will learn how to save responses to a data file. In order to achieve this, we will first create a **results dictionary** in which we store all responses and data that we are interested in. Then we will write the contents of that dictionary to a data file. In our case we will create a **comma separated values (CSV)** file as this file type can easily be read into data analysis software and statistical programming languages or frameworks (e.g. SPSS, R, SAS, etc.). The contents of this section are as follows:\n",
    "- Storing Responses in a Results Dictionary\n",
    "- Saving Results to File\n",
    "- Saving to a Results Directory\n",
    "---\n"
   ]
  },
  {
   "cell_type": "markdown",
   "metadata": {},
   "source": [
    "## Storing Responses in a Results Dictionary"
   ]
  },
  {
   "cell_type": "markdown",
   "metadata": {},
   "source": [
    "In the previous section we have already seen examples where responses are stored in a results dictionary. In this section we will reiterate the logic behind storing responses from a user in a dictionary. We will not give a complete example, as this is already eveident from the program used in the last section. So in order to store user responses to a results dictionary, the following two steps are needed:"
   ]
  },
  {
   "cell_type": "markdown",
   "metadata": {},
   "source": [
    "**1. Create results dictionary:** At the beginning of the program a results dictionary with placeholders is created. These placeholders will be filled with participant responses during the execution of the program. Here is an example of an empty results dictionary:\n",
    "```python\n",
    "results = {\"id\" : None,\n",
    "        \"age\" : None,\n",
    "        \"gender\" : None,\n",
    "        \"items\" : [],\n",
    "        \"responses\" : []\n",
    "        }\n",
    "```\n",
    "**2. Append responses to results dictionary:** Whenever a response is collected from the participant, it is then stored in the results dictionary. Here are some pseudo code examples:\n",
    "```python\n",
    "# storing inputs from the command line\n",
    "results[\"id\"] = input(\"pleas enter an ID: \")\n",
    "results[\"id\"] = input(\"pleas enter your age: \")\n",
    "\n",
    "...\n",
    "\n",
    "# appending presented items and participant responses\n",
    "# for each presentaition do the follwing:\n",
    "\n",
    "results[\"items\"].append(#presented item)\n",
    "results[\"respones\"].append(#part. response)\n",
    "```\n"
   ]
  },
  {
   "cell_type": "markdown",
   "metadata": {},
   "source": [
    "## Saving Results to File"
   ]
  },
  {
   "cell_type": "markdown",
   "metadata": {},
   "source": [
    "Once all responses are stored in a results dictionary they need to be written to a data file in a format that is suited for statistical analyses. A good format to use is the csv-format, characterized by the file extension **.csv**.<br>\n",
    "In the follwing, we will assume tat a results dictionary with data already exists and we will write the contents to a csv file. For this purpose we will store each value of the dictionary as a list. In our opinion, this is the easiest way to extract these values and save them in a *\"nice\"* format that psychologists are used to with each variable name in the first row and the data (values) in the corresponding rows below each variable. We will use the folwoing two modules:\n",
    "- csv\n",
    "- zip_longest from the python built-in itertools module"
   ]
  },
  {
   "cell_type": "markdown",
   "metadata": {},
   "source": [
    "```python\n",
    "# import modules\n",
    "import csv\n",
    "from itertools import zip_longest\n",
    "\n",
    "# final results dictionary\n",
    "results = {\"id\" : [1],\n",
    "        \"age\" : [22],\n",
    "        \"gender\" : [\"female\"],\n",
    "        \"items\" : [\"circle\", \"square\", \"square\", \"circle\", \"circle\"],\n",
    "        \"responses\" : [\"square\", \"square\", \"circle\", \"square\", \"circle\"]\n",
    "        }\n",
    "\n",
    "\n",
    "# write values of dict row wise\n",
    "with open('results.csv', 'w') as file:\n",
    "    # create writer\n",
    "    writer = csv.writer(file, delimiter=',')\n",
    "    # write first row with variable names (keys of the dict)\n",
    "    writer.writerow(results.keys())\n",
    "    # write values row wise\n",
    "    writer.writerows(zip_longest(*results.values())) # dict list values are unpacked first\n",
    "```"
   ]
  },
  {
   "cell_type": "markdown",
   "metadata": {},
   "source": [
    "Executing this program produces a csv file that we can open with any data viewing tool (e.g. Excel, SPSS, etc.):<br>\n",
    "<img src=\"resultsScreenshot.png\" alt=\"ResultsScreenshot\" align=\"left\">"
   ]
  },
  {
   "cell_type": "markdown",
   "metadata": {},
   "source": [
    "As is visisble from the above screenshot, using a regular dictionary does not necessarily asssure that the order of the dictionary entries is preserved:<br>\n",
    "- The variable **responses** is written one column before the variable **gender**, even though **responses** are the last entry of the results dictionary.\n",
    "If we want to preserve the initial order, we can use `OrderedDict()`:"
   ]
  },
  {
   "cell_type": "markdown",
   "metadata": {},
   "source": [
    "```python\n",
    "# import modules\n",
    "import csv\n",
    "from itertools import zip_longest\n",
    "from collections import OrderedDict\n",
    "\n",
    "# final results dictionary\n",
    "results = OrderedDict([(\"id\", [1]),\n",
    "        (\"age\", [22]),\n",
    "        (\"gender\", [\"female\"]),\n",
    "        (\"items\", [\"circle\", \"square\", \"square\", \"circle\", \"circle\"]),\n",
    "        (\"responses\", [\"square\", \"square\", \"circle\", \"square\", \"circle\"])\n",
    "])\n",
    "\n",
    "\n",
    "# write values of dict row wise\n",
    "with open('results.csv', 'w') as file:\n",
    "    # create writer\n",
    "    writer = csv.writer(file, delimiter=',')\n",
    "    # write first row with variable names (keys of the dict)\n",
    "    writer.writerow(results.keys())\n",
    "    # write values row wise\n",
    "    writer.writerows(zip_longest(*results.values())) # dict list values are unpacked first\n",
    "```\n"
   ]
  },
  {
   "cell_type": "markdown",
   "metadata": {},
   "source": [
    "Now, the order is preserved and we get the follwing result:<br>\n",
    "<img src=\"orderedDictScreenshot.png\" alt=\"OrderedDictScreenshot\" align=\"left\">"
   ]
  },
  {
   "cell_type": "markdown",
   "metadata": {},
   "source": [
    "---\n",
    "Finally, the follwing code presents a functional way of writing a results dictionary to a csv file:"
   ]
  },
  {
   "cell_type": "markdown",
   "metadata": {},
   "source": [
    "```python\n",
    "# import modules\n",
    "import csv\n",
    "from itertools import zip_longest\n",
    "from collections import OrderedDict\n",
    "\n",
    "# final results dictionary\n",
    "results = OrderedDict([(\"id\", [1]),\n",
    "        (\"age\", [22]),\n",
    "        (\"gender\", [\"female\"]),\n",
    "        (\"items\", [\"circle\", \"square\", \"square\", \"circle\", \"circle\"]),\n",
    "        (\"responses\", [\"square\", \"square\", \"circle\", \"square\", \"circle\"])\n",
    "])\n",
    "\n",
    "\n",
    "def saveResultsToFile(filename, dictname):\n",
    "    \"\"\"\n",
    "    Saves all exp. results to a csv file.\n",
    "    arg1: filename\n",
    "    arg2: dictionary that needs to bew ritten to csv.\n",
    "    \"\"\"\n",
    "    \n",
    "    # write values of dict row wise\n",
    "    with open(filename, 'w') as file:\n",
    "        # create writer\n",
    "        writer = csv.writer(file, delimiter=',')\n",
    "        # write first row with variable names (keys of the dict)\n",
    "        writer.writerow(dictname.keys())\n",
    "        # write values row wise\n",
    "        writer.writerows(zip_longest(*dictname.values())) # dict list values are unpacked first\n",
    "\n",
    "\n",
    "# calling the function\n",
    "saveResultsToFile(\"results.csv\", results)\n",
    "```"
   ]
  },
  {
   "cell_type": "markdown",
   "metadata": {},
   "source": [
    "## Saving to a Results Directory"
   ]
  },
  {
   "cell_type": "markdown",
   "metadata": {},
   "source": [
    "If we want to save the results to a specific results directory that already exists inside the directory where our file is located, we can do so as follows:<br>\n",
    "First, we get the **absolute path** from the system using the following code:\n",
    "```python\n",
    "absPath = os.path.abspath(os.curdir)\n",
    "```\n",
    "Then we **join** that path with our results directory name:\n",
    "```pyton\n",
    "resultsPath = os.path.join(absPath, \"data/\")\n",
    "```\n",
    "\n",
    "This final path is then used when saving the file. Here is a complete code example:\n",
    "```python\n",
    "# import modules\n",
    "import csv, os\n",
    "from itertools import zip_longest\n",
    "from collections import OrderedDict\n",
    "\n",
    "# final results dictionary\n",
    "results = OrderedDict([(\"id\", [1]),\n",
    "        (\"age\", [22]),\n",
    "        (\"gender\", [\"female\"]),\n",
    "        (\"items\", [\"circle\", \"square\", \"square\", \"circle\", \"circle\"]),\n",
    "        (\"responses\", [\"square\", \"square\", \"circle\", \"square\", \"circle\"])\n",
    "])\n",
    "\n",
    "# get absolute path and join it with data directory\n",
    "# note that the directory data ha to exist\n",
    "absPath = os.path.abspath(os.curdir)\n",
    "resultsPath = os.path.join(absPath, \"data/\")\n",
    "\n",
    "# define saver function\n",
    "def saveResultsToFile(filename, dictname):\n",
    "    \"\"\"\n",
    "    Saves all exp. results to a csv file.\n",
    "    arg1: filename\n",
    "    arg2: dictionary that needs to bew ritten to csv.\n",
    "    \"\"\"\n",
    "\n",
    "    # write values of dict row wise\n",
    "    with open(resultsPath + filename, 'w') as file:\n",
    "        # create writer\n",
    "        writer = csv.writer(file, delimiter=',')\n",
    "        # write first row with variable names (keys of the dict)\n",
    "        writer.writerow(dictname.keys())\n",
    "        # write values row wise\n",
    "        writer.writerows(zip_longest(*dictname.values())) # dict list values are unpacked first\n",
    "\n",
    "\n",
    "# calling the function\n",
    "saveResultsToFile(\"results.csv\", results)\n",
    "```"
   ]
  },
  {
   "cell_type": "markdown",
   "metadata": {},
   "source": [
    "**Note:** The above example demonstrates one way of specifying the directory and saving to an existing directory. There are many other ways of achieving this, so as always in programming it might be worth to do some research on alternative ways."
   ]
  }
 ],
 "metadata": {
  "kernelspec": {
   "display_name": "Python 3",
   "language": "python",
   "name": "python3"
  },
  "language_info": {
   "codemirror_mode": {
    "name": "ipython",
    "version": 3
   },
   "file_extension": ".py",
   "mimetype": "text/x-python",
   "name": "python",
   "nbconvert_exporter": "python",
   "pygments_lexer": "ipython3",
   "version": "3.5.2"
  }
 },
 "nbformat": 4,
 "nbformat_minor": 2
}
