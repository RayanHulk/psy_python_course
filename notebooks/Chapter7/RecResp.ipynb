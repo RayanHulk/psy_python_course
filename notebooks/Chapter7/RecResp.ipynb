{
 "cells": [
  {
   "cell_type": "markdown",
   "metadata": {},
   "source": [
    "# Recording Responses\n",
    "\n",
    "In this section we will learn how to handle events in PyGame. The focus will ly on keyboard events, as this is the most common hardware medium from which we collect participant responses in typical psychology experiments. This section is organized as follows:\n",
    "- Event Handling\n",
    "- Collecting Keyboard Responses\n",
    "- Collecting Mouse Responses\n",
    "- Event Handling Functions\n",
    "---"
   ]
  },
  {
   "cell_type": "markdown",
   "metadata": {},
   "source": [
    "## Handling Events\n",
    "In most psychology experiments we want to be able to handle specific events. For example, moving the mouse, pressing certain keys on the keyboard, or closing the program are all events that need to be processed by PyGame. In the context of psychology experiements, the two most important events are the **quit event** and **keyboard events**. The quit event enables exiting the program at any point if needed and keyboard events are necessary for collecting responses that we are interested in (e.g. response options in a reaction time task). The basic syntax of event handling in PyGame is as follows: <br>\n",
    "<img src=\"eventSyntax.png\" alt=\"EventSyntax\" align=\"left\" width=600px>\n"
   ]
  },
  {
   "cell_type": "markdown",
   "metadata": {},
   "source": [
    "Notice that the first statement gets all events that are currently in the event queue. The second part then checks whether a specific event has occured and executes the code inside the if-branch once that event has occured. The following example illustrates how the **quit event** is handled in a program that simply displays a square:"
   ]
  },
  {
   "cell_type": "markdown",
   "metadata": {},
   "source": [
    "```python\n",
    "# importing pygame\n",
    "import pygame\n",
    "\n",
    "# initialize pygame modules\n",
    "pygame.init()\n",
    "\n",
    "# define background color (grey)\n",
    "bgColor = (180, 180, 180)\n",
    "\n",
    "# define screen settings\n",
    "size = (400, 400)\n",
    "screen = pygame.display.set_mode(size)\n",
    "pygame.display.set_caption(\"PyGame Shape\")\n",
    "\n",
    "# define shape attributes\n",
    "shapeColor = (250, 0, 0)\n",
    "shapeWidth = 100\n",
    "shapeHeight = 100\n",
    "\n",
    "# positioning\n",
    "# get screen rect and place shape at center\n",
    "screenRect = screen.get_rect()\n",
    "shapeRect = pygame.Rect(screenRect.centerx - shapeWidth/2, screenRect.centery - shapeHeight/2,\n",
    "                        shapeWidth, shapeHeight)\n",
    "\n",
    "# define main loop parameters and start the main loop\n",
    "FPS = 60 # frames per second (FPS)\n",
    "clock = pygame.time.Clock() # create pygame clock instance\n",
    "running = True # boolean value to control main loop\n",
    "\n",
    "# start main loop\n",
    "while running:\n",
    "    # check for events\n",
    "    for event in pygame.event.get():\n",
    "        # if quit button pressed exit the loop\n",
    "        if event.type == pygame.QUIT:\n",
    "            running = False\n",
    "    # limiting the while loop to FPS (60 times per second)\n",
    "    clock.tick(FPS)\n",
    "    # fill screen\n",
    "    screen.fill(bgColor)\n",
    "    #  draw the shape\n",
    "    pygame.draw.rect(screen, shapeColor, shapeRect)\n",
    "    # draw everything to foreground\n",
    "    pygame.display.flip()\n",
    "\n",
    "# quit pygame\n",
    "pygame.quit()\n",
    "\n",
    "```"
   ]
  },
  {
   "cell_type": "markdown",
   "metadata": {},
   "source": [
    "Notice how the boolean variable `running` is set to `False` once the quit event has occured. This exits the loop and pygame.quit() is executed which closes the program. Alternatively, we could have specified the quit event explicitly when checking for the event. In this case the code would look as follows:\n",
    "```python\n",
    "for event in pygame.event.get():\n",
    "        # if quit button pressed exit the loop\n",
    "        if event.type == pygame.QUIT:\n",
    "            pygame.quit()\n",
    "```\n",
    "<br>\n",
    "Running the program produces the following output. The program can now be closed at any point in time:<br>\n",
    "<img src=\"rectangleShape.png\" alt=\"RectangleShape\" align=\"left\">"
   ]
  },
  {
   "cell_type": "markdown",
   "metadata": {},
   "source": [
    "## Collecting Keyboard Responses"
   ]
  },
  {
   "cell_type": "markdown",
   "metadata": {},
   "source": [
    "In the following we will demonstrate how specific keyboard events can be monitored. For this purpose we will use a program that presents squares and circles in alternation. You know a similar program already from the previous section. For this demonstration we will not use functions, but keep in mind that later you will learn how to handle events in the functional programming framework. Here is the complete code:"
   ]
  },
  {
   "cell_type": "code",
   "execution_count": null,
   "metadata": {},
   "outputs": [],
   "source": []
  },
  {
   "cell_type": "markdown",
   "metadata": {},
   "source": [
    "## Collecting Mouse Responses"
   ]
  },
  {
   "cell_type": "code",
   "execution_count": null,
   "metadata": {},
   "outputs": [],
   "source": []
  },
  {
   "cell_type": "code",
   "execution_count": null,
   "metadata": {},
   "outputs": [],
   "source": []
  },
  {
   "cell_type": "code",
   "execution_count": null,
   "metadata": {},
   "outputs": [],
   "source": []
  },
  {
   "cell_type": "code",
   "execution_count": null,
   "metadata": {},
   "outputs": [],
   "source": []
  },
  {
   "cell_type": "code",
   "execution_count": null,
   "metadata": {},
   "outputs": [],
   "source": []
  },
  {
   "cell_type": "markdown",
   "metadata": {},
   "source": [
    "## Event Handling Functions"
   ]
  },
  {
   "cell_type": "code",
   "execution_count": null,
   "metadata": {},
   "outputs": [],
   "source": []
  },
  {
   "cell_type": "code",
   "execution_count": null,
   "metadata": {},
   "outputs": [],
   "source": []
  },
  {
   "cell_type": "code",
   "execution_count": null,
   "metadata": {},
   "outputs": [],
   "source": []
  }
 ],
 "metadata": {
  "kernelspec": {
   "display_name": "Python 3",
   "language": "python",
   "name": "python3"
  },
  "language_info": {
   "codemirror_mode": {
    "name": "ipython",
    "version": 3
   },
   "file_extension": ".py",
   "mimetype": "text/x-python",
   "name": "python",
   "nbconvert_exporter": "python",
   "pygments_lexer": "ipython3",
   "version": "3.5.2"
  }
 },
 "nbformat": 4,
 "nbformat_minor": 2
}
