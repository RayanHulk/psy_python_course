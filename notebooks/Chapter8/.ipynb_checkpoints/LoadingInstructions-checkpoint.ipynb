{
 "cells": [
  {
   "cell_type": "markdown",
   "metadata": {},
   "source": [
    "# Loading Instructions\n",
    "\n",
    "In this section we will learn how to load instructions from a specific directory. You already know how to read form a file, so most of the contents that are described in this section should be familiar to you. This section is organized as follows:\n",
    "- Loading Instructions\n",
    "- Specifying a Path\n",
    "- Instruction Loading Function\n",
    "---"
   ]
  },
  {
   "cell_type": "markdown",
   "metadata": {},
   "source": [
    "## Loading Instructions\n",
    "We already know how to load or read instructions from a file that is located in the same directory than our python script. Here is a short recap that loads instructions located in a file named [welcome.txt](https://github.com/imarevic/PsyPythonCourse/blob/master/notebooks/Chapter8/welcome.txt) that is placed in the same directory:"
   ]
  },
  {
   "cell_type": "code",
   "execution_count": 1,
   "metadata": {},
   "outputs": [
    {
     "name": "stdout",
     "output_type": "stream",
     "text": [
      "Welcome to the Experiment,\n",
      "\n",
      "Welcome to the present study.\n",
      "We thank you for taking part in this study.\n",
      "\n",
      "To start the study, please press RETURN.\n",
      "\n"
     ]
    }
   ],
   "source": [
    "# reading file\n",
    "with open(\"welcome.txt\", 'r') as file:\n",
    "            infile = file.read()\n",
    "\n",
    "# printing contents\n",
    "print(infile)"
   ]
  },
  {
   "cell_type": "markdown",
   "metadata": {},
   "source": [
    "## Specifiying a Path\n",
    "We can also read a file from a directory that is specified within the directory our experiment is placed. That is particularly useful, as this way we can store all our instructions i  one directory and always load them from this location. For simplicity resaons we will place the same file as above in a directory named `instructions` Here is an example:"
   ]
  },
  {
   "cell_type": "code",
   "execution_count": 7,
   "metadata": {},
   "outputs": [
    {
     "name": "stdout",
     "output_type": "stream",
     "text": [
      "Welcome to the Experiment,\n",
      "\n",
      "Welcome to the present study.\n",
      "We thank you for taking part in this study.\n",
      "\n",
      "To start the study, please press RETURN.\n",
      "\n"
     ]
    }
   ],
   "source": [
    "# importing os module\n",
    "import os\n",
    "\n",
    "# specifiying directory path where instructions are located\n",
    "# first we get absolute path of currrent directory\n",
    "absPath = os.path.abspath(os.curdir)\n",
    "\n",
    "# then we join absPath with the taregt directory\n",
    "instPath = os.path.join(absPath, \"instructions/\")\n",
    "\n",
    "# reading file\n",
    "with open(instPath + \"welcome.txt\", 'r') as file:\n",
    "    infile = file.read()\n",
    "\n",
    "# printing contents\n",
    "print(infile)\n",
    "\n"
   ]
  },
  {
   "cell_type": "markdown",
   "metadata": {},
   "source": [
    "Note how we first get the absolute path where our python script is located using `os.path.abspath(os.curdir)`. Then we join that path with the target directory. In our case that directory is named `instructions` and it contains our experiment instructions. The syntax `os.path.join(absPath, \"instructions/\")` accomplishes this.\n",
    "Finally, when opening the file we just have to add the **path and filename** together to form one string that identifies the file that is to be read: `instPath + \"welcome.txt\", 'r'`"
   ]
  },
  {
   "cell_type": "markdown",
   "metadata": {},
   "source": [
    "## Instruction Loading Function\n",
    "We can also program a function that does the loading of the file for us. We can then call that function and store the contents of the read file ina dictionary which we name `instructions`:"
   ]
  },
  {
   "cell_type": "code",
   "execution_count": 21,
   "metadata": {},
   "outputs": [
    {
     "name": "stdout",
     "output_type": "stream",
     "text": [
      "The contents of the dictionary are:\n",
      "\n",
      "{'welcome': 'Welcome to the Experiment,\\n\\nWelcome to the present study.\\nWe thank you for taking part in this study.\\n\\nTo start the study, please press RETURN.\\n', 'studyBackground': 'The purpose of this study is to find\\nout how good people learn information.\\n\\nSpecifically we want to find out if people\\nare able to remember pictures better\\nthan words.\\n\\nContinue with RETURN.\\n'}\n",
      "\n",
      "\n",
      "Instructions printed to console in nice format:\n",
      "\n",
      "Welcome to the Experiment,\n",
      "\n",
      "Welcome to the present study.\n",
      "We thank you for taking part in this study.\n",
      "\n",
      "To start the study, please press RETURN.\n",
      "\n",
      "\n",
      "##################################################\n",
      "\n",
      "The purpose of this study is to find\n",
      "out how good people learn information.\n",
      "\n",
      "Specifically we want to find out if people\n",
      "are able to remember pictures better\n",
      "than words.\n",
      "\n",
      "Continue with RETURN.\n",
      "\n"
     ]
    }
   ],
   "source": [
    "# importing modules\n",
    "import os\n",
    "\n",
    "# specifiying directory path where instructions are located\n",
    "# first we get absolute path of currrent directory\n",
    "absPath = os.path.abspath(os.curdir)\n",
    "\n",
    "# then we join absPath with the taregt directory\n",
    "instPath = os.path.join(absPath, \"instructions/\")\n",
    "\n",
    "# initialyzing an empty instructions dictionary\n",
    "instructions = {\"welcome\" : None,\n",
    "                \"studyBackground\" : None}\n",
    "\n",
    "# defining instructions loading function\n",
    "def load_instructions(filename):\n",
    "    \"\"\"loads instructions from a text file\"\"\"\n",
    "    \n",
    "    with open(instPath + filename, 'r') as file:\n",
    "        infile = file.read()\n",
    "        \n",
    "    return infile\n",
    "\n",
    "# call function to store information in the \n",
    "# instructions dictionary\n",
    "instructions[\"welcome\"] = load_instructions(\"welcome.txt\")\n",
    "instructions[\"studyBackground\"] = load_instructions(\"studyintro.txt\")\n",
    "\n",
    "# print contents of the dictionary to check that they are stored correctly\n",
    "print(\"The contents of the dictionary are:\\n\")\n",
    "print(instructions)\n",
    "print(\"\\n\")\n",
    "print(\"Instructions printed to console in nice format:\\n\")\n",
    "print(instructions[\"welcome\"])\n",
    "print(\"\\n\" + (\"#\") * 50 + \"\\n\")\n",
    "print(instructions[\"studyBackground\"])"
   ]
  },
  {
   "cell_type": "markdown",
   "metadata": {},
   "source": [
    "Note how we first initialize an emmpty dictionary which we alter fill with the instructions by calling the function that loads instructions.<br>\n",
    "In the next section we will learn how to present instructions in PyGame in a blocked fashion and how we eanble users to advance from one instruction presentation to the next."
   ]
  }
 ],
 "metadata": {
  "kernelspec": {
   "display_name": "Python 3",
   "language": "python",
   "name": "python3"
  },
  "language_info": {
   "codemirror_mode": {
    "name": "ipython",
    "version": 3
   },
   "file_extension": ".py",
   "mimetype": "text/x-python",
   "name": "python",
   "nbconvert_exporter": "python",
   "pygments_lexer": "ipython3",
   "version": "3.5.2"
  }
 },
 "nbformat": 4,
 "nbformat_minor": 2
}
