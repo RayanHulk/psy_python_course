{
 "cells": [
  {
   "cell_type": "markdown",
   "metadata": {},
   "source": [
    "# Structuring a Program with Functions\n",
    "\n",
    "In this section we will show how functions can be used to structure a program in a way that keeps different tasks in a program separate.\n",
    "By separate we mean the following: We can use one function, for example, that presents stimuli, another function that presents instructions, and yet another function that collects responses. We can then call all these functions inside another function that simply runs the program. Thus, every function has its own job to perform. This way we increase the readability, simplicity, and reusability of our code.\n",
    "To understand this concept of using functions to structure a program or have individual tasks performed by individual functions, we will consider the follwing example which we will go through step-by-step in this section:\n",
    "\n",
    "- First, we define 2 functions that do the following each (we will call these functions **helper functions**):\n",
    "    - present instructions\n",
    "    - present stimuli\n",
    "- Second, we define another function that executes the previous 2 functions in sequence (we will call tis function the **run()** function).\n",
    "- Last, we will call the function that runs the program"
   ]
  },
  {
   "cell_type": "markdown",
   "metadata": {},
   "source": [
    "## Defining Helper Functions\n",
    "First, le's define the helper functions that do each of the follwing:\n",
    "- present instructions\n",
    "- present stimuli"
   ]
  },
  {
   "cell_type": "code",
   "execution_count": 6,
   "metadata": {},
   "outputs": [],
   "source": [
    "# importing time module\n",
    "import time\n",
    "\n",
    "# defining intruction presentation function\n",
    "def instPresentation(text):\n",
    "    \"\"\"\n",
    "    presents instructions and collects input\n",
    "    params: text\n",
    "    \"\"\"\n",
    "    \n",
    "    print(text)\n",
    "    input()\n",
    "\n",
    "# defining stimuli presentation function\n",
    "def stimPresentation(stimuli):\n",
    "    \"\"\"\n",
    "    presents stimuli\n",
    "    params: stimuli\n",
    "    \"\"\"\n",
    "    \n",
    "    for stimulus in stimuli:\n",
    "        print(stimulus)\n",
    "        time.sleep(1)"
   ]
  },
  {
   "cell_type": "markdown",
   "metadata": {},
   "source": [
    "## Defining the run() Function"
   ]
  },
  {
   "cell_type": "markdown",
   "metadata": {},
   "source": [
    "Now, that both funcitons are defined we can define a final function that calls both of the helper functions. We will call this function `run()`:"
   ]
  },
  {
   "cell_type": "code",
   "execution_count": 14,
   "metadata": {},
   "outputs": [],
   "source": [
    "# first we will define our instructions text and stimuli list globally\n",
    "instructions = \"\"\"Welcome to this Experiment,\\n \n",
    "In the following, you will be presented a list \\n\n",
    "of words. Please try to remember every word as \\n \n",
    "good as you can \\n\\n \n",
    "Press Enter to start.\"\"\"\n",
    "\n",
    "items = [\"house\", \"cat\", \"table\", \"carpet\", \"phone\"]\n",
    "\n",
    "# defining function that runs the session\n",
    "def run():\n",
    "    \"\"\"Runs the session\"\"\"\n",
    "    \n",
    "    # presenting instructions\n",
    "    instPresentation(instructions)\n",
    "    \n",
    "    # presenting stimuli\n",
    "    stimPresentation(items)"
   ]
  },
  {
   "cell_type": "markdown",
   "metadata": {},
   "source": [
    "## Running the Program"
   ]
  },
  {
   "cell_type": "markdown",
   "metadata": {},
   "source": [
    "Finally, we can run the program by calling the `run()` function:"
   ]
  },
  {
   "cell_type": "code",
   "execution_count": 15,
   "metadata": {},
   "outputs": [
    {
     "name": "stdout",
     "output_type": "stream",
     "text": [
      "Welcome to this Experiment,\n",
      " \n",
      "In the following, you will be presented a list \n",
      "\n",
      "of words. Please try to remember every word as \n",
      " \n",
      "good as you can \n",
      "\n",
      " \n",
      "Press Enter to start.\n",
      "\n",
      "house\n",
      "cat\n",
      "table\n",
      "carpet\n",
      "phone\n"
     ]
    }
   ],
   "source": [
    "# running the program\n",
    "run()"
   ]
  },
  {
   "cell_type": "markdown",
   "metadata": {},
   "source": [
    "If you want to execute the program in the command line, here is the entire program:"
   ]
  },
  {
   "cell_type": "code",
   "execution_count": 16,
   "metadata": {},
   "outputs": [
    {
     "name": "stdout",
     "output_type": "stream",
     "text": [
      "Welcome to this Experiment,\n",
      " \n",
      "In the following, you will be presented a list \n",
      "\n",
      "of words. Please try to remember every word as \n",
      " \n",
      "good as you can \n",
      "\n",
      " \n",
      "Press Enter to start.\n",
      "\n",
      "house\n",
      "cat\n",
      "table\n",
      "carpet\n",
      "phone\n"
     ]
    }
   ],
   "source": [
    "# importing time module\n",
    "import time\n",
    "\n",
    "# defining intruction presentation function\n",
    "def instPresentation(text):\n",
    "    \"\"\"\n",
    "    presents instructions and collects input\n",
    "    params: text\n",
    "    \"\"\"\n",
    "    \n",
    "    print(text)\n",
    "    input()\n",
    "\n",
    "# defining stimuli presentation function\n",
    "def stimPresentation(stimuli):\n",
    "    \"\"\"\n",
    "    presents stimuli\n",
    "    params: stimuli\n",
    "    \"\"\"\n",
    "    \n",
    "    for stimulus in stimuli:\n",
    "        print(stimulus)\n",
    "        time.sleep(1)\n",
    "\n",
    "# first we will define our instructions text and stimuli list globally\n",
    "instructions = \"\"\"Welcome to this Experiment,\\n \n",
    "In the following, you will be presented a list \\n\n",
    "of words. Please try to remember every word as \\n \n",
    "good as you can \\n\\n \n",
    "Press Enter to start.\"\"\"\n",
    "\n",
    "items = [\"house\", \"cat\", \"table\", \"carpet\", \"phone\"]\n",
    "\n",
    "# defining function that runs the session\n",
    "def run():\n",
    "    \"\"\"Runs the session\"\"\"\n",
    "    \n",
    "    # presenting instructions\n",
    "    instPresentation(instructions)\n",
    "    \n",
    "    # presenting stimuli\n",
    "    stimPresentation(items)\n",
    "\n",
    "# running the program\n",
    "run()"
   ]
  },
  {
   "cell_type": "markdown",
   "metadata": {},
   "source": [
    "As you may have noticed, this program behaves a lot like a real experiment. In fact, we are now very close to programing our first real experiment that can run in the command line/console.<br><br>\n",
    "In the next section, we will do exactly that and further, we will learn a few tricks on how to define reasonable helper functions and how to call the `run()` function in a safer way."
   ]
  }
 ],
 "metadata": {
  "kernelspec": {
   "display_name": "Python 3",
   "language": "python",
   "name": "python3"
  },
  "language_info": {
   "codemirror_mode": {
    "name": "ipython",
    "version": 3
   },
   "file_extension": ".py",
   "mimetype": "text/x-python",
   "name": "python",
   "nbconvert_exporter": "python",
   "pygments_lexer": "ipython3",
   "version": "3.5.2"
  }
 },
 "nbformat": 4,
 "nbformat_minor": 2
}
