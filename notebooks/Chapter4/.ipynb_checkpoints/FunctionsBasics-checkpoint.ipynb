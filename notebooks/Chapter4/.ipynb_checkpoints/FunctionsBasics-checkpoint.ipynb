{
 "cells": [
  {
   "cell_type": "markdown",
   "metadata": {},
   "source": [
    "# Functions Basics\n",
    "\n",
    "In this section we will introduce functions as one of the most important programming concepts. Functions allow us to write a function once and then be able to reuse it as many times and at any point in the program. You can think of functions as code fragments that do jobs for us and thus give structure and simplicity to a program to a great extent.\n",
    "In this section we will cover the basics of functions in Python:\n",
    "- Function syntax and function calls\n",
    "- Function argunments\n",
    "- Function arguments of variable length (_\\*args_ and _\\**kwargs_)\n",
    "- Variable scopes (global vs. local)"
   ]
  },
  {
   "cell_type": "markdown",
   "metadata": {},
   "source": [
    "## Function Syntax and Function Calls\n",
    "\n",
    "In Python a function definition followns a strict predifined syntax. First, the statement `def` is used to tell python that a function definition is follwing. This statement is follwod by the functions name and the parameters that are passed to the function in parentheses (e.g. `functionname(parameters)`). A colon defines the start of the codeblock of a function `:`.<br>\n",
    "What follows is the body of the function, in which the main code beogns that does the operations the function is intended to do. At the top of this body a `docstring` can be placed for documenting what the functions purpose is.<br>\n",
    "Finally, an optional `return` statement can be used to return some predifined expressions to the caller. Functions can return something but they do not have to.\n",
    "<br><br>\n",
    "**Here is the general syntax of a function:**"
   ]
  },
  {
   "cell_type": "markdown",
   "metadata": {},
   "source": [
    "<img src=\"functionSyntax.png\" alt=\"functionSyntax\" width=\"400\" height=\"500\" align=\"left\">"
   ]
  },
  {
   "cell_type": "markdown",
   "metadata": {},
   "source": [
    "Once a function is defined using the above syntax, it can be called by the programmer or a caller. Once the function is called, the function is evaluated and the result is returned.\n",
    "Here is an example of a simple function that prints a string that is passed to the function as an argument/parameter:"
   ]
  },
  {
   "cell_type": "code",
   "execution_count": 2,
   "metadata": {},
   "outputs": [
    {
     "name": "stdout",
     "output_type": "stream",
     "text": [
      "I am a printing function\n"
     ]
    }
   ],
   "source": [
    "def printFunction(string):\n",
    "    \"function that prints a string\"\n",
    "    print(string)\n",
    "    \n",
    "printFunction(\"I am a printing function\")"
   ]
  },
  {
   "cell_type": "markdown",
   "metadata": {},
   "source": [
    "Notice that this function does not return anything. We can also make the function return the string and save it in a variable named `returnValue`:"
   ]
  },
  {
   "cell_type": "code",
   "execution_count": 9,
   "metadata": {},
   "outputs": [
    {
     "name": "stdout",
     "output_type": "stream",
     "text": [
      "I am a printing function\n"
     ]
    }
   ],
   "source": [
    "def printFunction(string):\n",
    "    \"function that returnes a string\"\n",
    "    return string\n",
    "\n",
    "# calling function and storing returned value\n",
    "returnValue = printFunction(\"I am a printing function\")\n",
    "\n",
    "# printing string in 'returnedValue'\n",
    "print(returnValue)"
   ]
  },
  {
   "cell_type": "markdown",
   "metadata": {},
   "source": [
    "You may have noticed that functions are very similar to the concept of functions that you may know from *mathematics*. For example, the following function can also be implemented in Python: \\begin{equation*} f(x) = x^2 \\end{equation*}"
   ]
  },
  {
   "cell_type": "code",
   "execution_count": 36,
   "metadata": {},
   "outputs": [
    {
     "name": "stdout",
     "output_type": "stream",
     "text": [
      "x to the power of 2 is  25\n"
     ]
    }
   ],
   "source": [
    "# defining the function\n",
    "def squareFunction(x):\n",
    "    \"squares a number x\"\n",
    "    \n",
    "    result = x**2\n",
    "    return result\n",
    "\n",
    "# printing result with x=5\n",
    "print(\"x to the power of 2 is \", squareFunction(5))"
   ]
  },
  {
   "cell_type": "markdown",
   "metadata": {},
   "source": [
    "Now you see where the name function comes from. Even though mathematical functions can be defined in Python, in the context of programming psychology experiments, we will use functions more in the sense of executing specific code for a specific purpose. And this purpose is not of mathematical nature in most cases."
   ]
  },
  {
   "cell_type": "markdown",
   "metadata": {},
   "source": [
    "## Function Arguments"
   ]
  },
  {
   "cell_type": "markdown",
   "metadata": {},
   "source": [
    "In the above example we have already seen that arguments or parameters can be passed to a function. These parameters can be passed in different ways. We will demonstrate these in the following:\n",
    "<br>\n",
    "First, let's pass arguments to a function as **required arguments**:"
   ]
  },
  {
   "cell_type": "code",
   "execution_count": 37,
   "metadata": {},
   "outputs": [
    {
     "data": {
      "text/plain": [
       "4"
      ]
     },
     "execution_count": 37,
     "metadata": {},
     "output_type": "execute_result"
    }
   ],
   "source": [
    "# defining a function\n",
    "def addNumbers(number1, number2):\n",
    "    \"adds two numbers\"\n",
    "    \n",
    "    result = number1 + number2\n",
    "    return result\n",
    "\n",
    "# calling the function\n",
    "addNumbers(2, 2)"
   ]
  },
  {
   "cell_type": "markdown",
   "metadata": {},
   "source": [
    "In this examples, a function that adds two numbers is defined and called. If two arguments are passed in the call, the function executes fine. Now let us pass only one argument:"
   ]
  },
  {
   "cell_type": "code",
   "execution_count": 19,
   "metadata": {},
   "outputs": [
    {
     "ename": "TypeError",
     "evalue": "addNumbers() missing 1 required positional argument: 'number2'",
     "output_type": "error",
     "traceback": [
      "\u001b[0;31m---------------------------------------------------------------------------\u001b[0m",
      "\u001b[0;31mTypeError\u001b[0m                                 Traceback (most recent call last)",
      "\u001b[0;32m<ipython-input-19-a1b8c7b3c6b4>\u001b[0m in \u001b[0;36m<module>\u001b[0;34m()\u001b[0m\n\u001b[0;32m----> 1\u001b[0;31m \u001b[0maddNumbers\u001b[0m\u001b[0;34m(\u001b[0m\u001b[0;36m2\u001b[0m\u001b[0;34m)\u001b[0m\u001b[0;34m\u001b[0m\u001b[0m\n\u001b[0m",
      "\u001b[0;31mTypeError\u001b[0m: addNumbers() missing 1 required positional argument: 'number2'"
     ]
    }
   ],
   "source": [
    "addNumbers(2)"
   ]
  },
  {
   "cell_type": "markdown",
   "metadata": {},
   "source": [
    "We see that the specified arguments or parameters in the function definition are **required** and calling the function with less arguments is not allowed.\n",
    "\n",
    "---"
   ]
  },
  {
   "cell_type": "markdown",
   "metadata": {},
   "source": [
    "Next, we will see that we can also call a function and pass the arguments together with the keywords when calling the function. This allows us to pass arguments in a different order than was defined in the function definition. Here is an example of using **keyword arguments**:"
   ]
  },
  {
   "cell_type": "code",
   "execution_count": 38,
   "metadata": {},
   "outputs": [
    {
     "name": "stdout",
     "output_type": "stream",
     "text": [
      "My name is : John\n",
      "My age is : 22\n",
      "My gender is : male\n"
     ]
    }
   ],
   "source": [
    "# defining a function\n",
    "def demographics(name, age, gender):\n",
    "    \"prints demographics\"\n",
    "    \n",
    "    print(\"My name is :\", name)\n",
    "    print(\"My age is :\", age)\n",
    "    print(\"My gender is :\", gender)\n",
    "\n",
    "# calling function with different argument order\n",
    "demographics(age=22, gender=\"male\", name=\"John\")"
   ]
  },
  {
   "cell_type": "markdown",
   "metadata": {},
   "source": [
    "The result shows that even though we pass the arguments in a diferent order, the keywords ensure that they are assigned to the right references. Thus, the result is printed in the initial order as defined in the function definition.\n",
    "\n",
    "---"
   ]
  },
  {
   "cell_type": "markdown",
   "metadata": {},
   "source": [
    "Finally, we can also set default arguments when defining a function. If we do not pass a different argument when calling the function, the default will be used. Here is an example that illustrates the use of **default arguments**:"
   ]
  },
  {
   "cell_type": "code",
   "execution_count": 39,
   "metadata": {},
   "outputs": [
    {
     "name": "stdout",
     "output_type": "stream",
     "text": [
      "Overwriting defaults:\n",
      "My name is : John\n",
      "My gender is : male\n",
      "My age is : 22\n",
      "\n",
      "Leaving defaults:\n",
      "My name is : John\n",
      "My gender is : male\n",
      "My age is : 33\n"
     ]
    }
   ],
   "source": [
    "# defining function with defaults\n",
    "def defaultFunction(name, gender, age=33):\n",
    "    \"prints demographics with a default for age.\"\n",
    "    \n",
    "    print(\"My name is :\", name)\n",
    "    print(\"My gender is :\", gender)\n",
    "    print(\"My age is :\", age)\n",
    "    \n",
    "# calling function with overwriting default\n",
    "print(\"Overwriting defaults:\")\n",
    "defaultFunction(name=\"John\", gender=\"male\", age=22)\n",
    "\n",
    "# calling function without overwriting default\n",
    "print(\"\\nLeaving defaults:\")\n",
    "defaultFunction(name=\"John\", gender=\"male\")"
   ]
  },
  {
   "cell_type": "markdown",
   "metadata": {},
   "source": [
    "## Variable Length Arguments"
   ]
  },
  {
   "cell_type": "markdown",
   "metadata": {},
   "source": [
    "What if we want to process arguments in a function that we do not know the exact amount of when defining the function? Well, in this case we can pass varible length arguments to a function. This is done with prefixing the variable name that specifies the varying arguments by `*`. In Python this is often done by using `*args`, but this is not necessary as `args` can be any name. Important is only that the name you choose is preceded by `*`.<br><br>\n",
    "Here is an example of passing **arguments of variable length**:"
   ]
  },
  {
   "cell_type": "code",
   "execution_count": 42,
   "metadata": {},
   "outputs": [
    {
     "name": "stdout",
     "output_type": "stream",
     "text": [
      "Calling function with fixed argument only: \n",
      "cat\n",
      "\n",
      "Calling function with fixed and variable arguments: \n",
      "cat\n",
      "mouse\n",
      "house\n",
      "gras\n"
     ]
    }
   ],
   "source": [
    "# defining function with fixed and variable arguments\n",
    "def variablePrinter(word1, *words):\n",
    "    \"prints fixed and variable arguments\"\n",
    "    \n",
    "    print(word1) #ficed part\n",
    "    \n",
    "    for word in words:\n",
    "        print(word) #variable parts\n",
    "    return;\n",
    "\n",
    "# calling the function with fixed argument only\n",
    "print(\"Calling function with fixed argument only: \")\n",
    "variablePrinter(\"cat\")\n",
    "# calling function with fixed and variable args\n",
    "print(\"\\nCalling function with fixed and variable arguments: \")\n",
    "variablePrinter(\"cat\", \"mouse\", \"house\", \"gras\")"
   ]
  },
  {
   "cell_type": "markdown",
   "metadata": {},
   "source": [
    "We can also pass **keyworded arguments of variable length** `**kwargs` to a function. Notice that arguments passed as keyworded arguments need to be preceded by `**`. Again, the name `kwargs` can be replaced by any name. Here is an example:"
   ]
  },
  {
   "cell_type": "code",
   "execution_count": 109,
   "metadata": {},
   "outputs": [
    {
     "name": "stdout",
     "output_type": "stream",
     "text": [
      "First argument is 1\n",
      "Another Argument is 4\n",
      "Another Argument is 2\n",
      "Another Argument is 3\n"
     ]
    }
   ],
   "source": [
    "# defining function with keyworded arguments\n",
    "def kwargsFuntion(arg1, **kwargs):\n",
    "    \"prints fixed and varible keyworded arguments\"\n",
    "    \n",
    "    print(\"First argument is\", arg1)\n",
    "    \n",
    "    for key in kwargs:\n",
    "        print(\"Another Argument is {}\".format(kwargs[key]))\n",
    "    \n",
    "# calling the function with a dict as kwargs\n",
    "argDict = {\"arg2\" : 2, \"arg3\" : 3, \"arg4\": 4}\n",
    "kwargsFuntion(arg1=1, **argDict)"
   ]
  },
  {
   "cell_type": "markdown",
   "metadata": {},
   "source": [
    "Notice how we can pass a dictionary with `keys` and `values` to the function. Also notice that the output is unordered. This is important to note, because in contrast to lists, dictionaries are unnordered (see chapter 2). Next, let us consider an example where we unpack a dictionary."
   ]
  },
  {
   "cell_type": "code",
   "execution_count": 100,
   "metadata": {},
   "outputs": [
    {
     "name": "stdout",
     "output_type": "stream",
     "text": [
      "First argument is  1\n",
      "Second argument is  2\n",
      "Third argument is  3\n"
     ]
    }
   ],
   "source": [
    "# defining a regular function\n",
    "def regFunction(arg1, arg2, arg3):\n",
    "    print(\"First argument is \", arg1)\n",
    "    print(\"Second argument is \", arg2)\n",
    "    print(\"Third argument is \", arg3)\n",
    "\n",
    "# defining a dict and passing it to the function\n",
    "sampleDict = {\"arg1\" : 1, \"arg2\" : 2, \"arg3\": 3}\n",
    "regFunction(**sampleDict) # dict is unpacked\n"
   ]
  },
  {
   "cell_type": "markdown",
   "metadata": {},
   "source": [
    "Notice that with passing the dictinary as `**sampleDict` unpacks the dictionary and assings the values to associated keys inside the function. If this seems confusing, don't worry, you will get the logic behind `*args` and `**kwargs` once you use them more often."
   ]
  },
  {
   "cell_type": "markdown",
   "metadata": {},
   "source": [
    "## Variable Scopes"
   ]
  },
  {
   "cell_type": "markdown",
   "metadata": {},
   "source": [
    "Finally, we will discuss an important concpt that needs to be consider cautiously when writing functions, namely the **scope of variables**.\n",
    "By scope we mean that a variable within a function only exists within it and is not available globally. On the other hans, global variables are alway available, even within functions.<br>\n",
    "The following example illustrates the issue:"
   ]
  },
  {
   "cell_type": "code",
   "execution_count": 108,
   "metadata": {},
   "outputs": [
    {
     "name": "stdout",
     "output_type": "stream",
     "text": [
      "I am a local variable\n",
      "I am a global variable\n",
      "\n",
      "\n",
      "Only global variable is printed:\n",
      "I am a global variable\n"
     ]
    },
    {
     "ename": "NameError",
     "evalue": "name 'localVariable' is not defined",
     "output_type": "error",
     "traceback": [
      "\u001b[0;31m---------------------------------------------------------------------------\u001b[0m",
      "\u001b[0;31mNameError\u001b[0m                                 Traceback (most recent call last)",
      "\u001b[0;32m<ipython-input-108-e593084d9fd0>\u001b[0m in \u001b[0;36m<module>\u001b[0;34m()\u001b[0m\n\u001b[1;32m     16\u001b[0m \u001b[0mprint\u001b[0m\u001b[0;34m(\u001b[0m\u001b[0;34m\"Only global variable is printed:\"\u001b[0m\u001b[0;34m)\u001b[0m\u001b[0;34m\u001b[0m\u001b[0m\n\u001b[1;32m     17\u001b[0m \u001b[0mprint\u001b[0m\u001b[0;34m(\u001b[0m\u001b[0mglobalvar\u001b[0m\u001b[0;34m)\u001b[0m \u001b[0;31m#this gets printed\u001b[0m\u001b[0;34m\u001b[0m\u001b[0m\n\u001b[0;32m---> 18\u001b[0;31m \u001b[0mprint\u001b[0m\u001b[0;34m(\u001b[0m\u001b[0mlocalVariable\u001b[0m\u001b[0;34m)\u001b[0m \u001b[0;31m# this does not get printed\u001b[0m\u001b[0;34m\u001b[0m\u001b[0m\n\u001b[0m",
      "\u001b[0;31mNameError\u001b[0m: name 'localVariable' is not defined"
     ]
    }
   ],
   "source": [
    "#  a global variable\n",
    "globalvar = \"I am a global variable\"\n",
    "\n",
    "# defining a printing function\n",
    "def testFunction():\n",
    "    localVariable =  \"I am a local variable\"\n",
    "    print(localVariable)\n",
    "    print(globalvar)\n",
    "    \n",
    "# calling the function\n",
    "testFunction()\n",
    "\n",
    "# now let's try to print both local and global variables\n",
    "# directly (globally)\n",
    "print(\"\\n\")\n",
    "print(\"Only global variable is printed:\")\n",
    "print(globalvar) #this gets printed\n",
    "print(localVariable) # this does not get printed"
   ]
  },
  {
   "cell_type": "markdown",
   "metadata": {},
   "source": [
    "As you see, the follwing rules about **global and local variables** are apparent:\n",
    "- global varibales are available within and outside of functions\n",
    "- local variables only exist within functions\n",
    "\n",
    "---\n",
    "\n",
    "**Take home message:**\n",
    "- Functions are a powerful tool in programming\n",
    "- Functions can take required, keyword, and default arguments\n",
    "- Functions can take fixed and varible length arguments (\\*args and \\**kwargs)\n",
    "- Local variables are only available within functions and cannot be referenced globally"
   ]
  }
 ],
 "metadata": {
  "kernelspec": {
   "display_name": "Python 3",
   "language": "python",
   "name": "python3"
  },
  "language_info": {
   "codemirror_mode": {
    "name": "ipython",
    "version": 3
   },
   "file_extension": ".py",
   "mimetype": "text/x-python",
   "name": "python",
   "nbconvert_exporter": "python",
   "pygments_lexer": "ipython3",
   "version": "3.5.2"
  }
 },
 "nbformat": 4,
 "nbformat_minor": 2
}
