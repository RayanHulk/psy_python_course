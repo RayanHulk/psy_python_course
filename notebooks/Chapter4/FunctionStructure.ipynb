{
 "cells": [
  {
   "cell_type": "markdown",
   "metadata": {},
   "source": [
    "# Structuring a Program with Functions\n",
    "\n",
    "In this section we will show how functions can be used to structure a program in a way that keeps different tasks in a program separate.\n",
    "By separate we mean the following: We can use one function, for example, that presents stimuli, another function that presents instructions, and yet another function that collects responses. We can then call all these functions inside another function that simply runs the program. Thus, every function has its own job to perform. This way we increase the readability, simplicity, and reusability of our code.\n",
    "To understand this concept of using functions to structure a program or have individual tasks performed by individual functions, we will consider the follwing example which we will go through step-by-step in this section:\n",
    "\n",
    "- First, we define 3 functions that do the following each (we will call these functions **helper functions**):\n",
    "    - present instructions\n",
    "    - present stimuli\n",
    "    - collect responses\n",
    "- Second, we define another function that executes the previous 3 functions in sequence (we will call tis function the **run()** function).\n",
    "- Last, we will call the function that runs the program"
   ]
  },
  {
   "cell_type": "markdown",
   "metadata": {},
   "source": [
    "## Defining 3 Helper Functions"
   ]
  },
  {
   "cell_type": "code",
   "execution_count": null,
   "metadata": {},
   "outputs": [],
   "source": []
  },
  {
   "cell_type": "markdown",
   "metadata": {},
   "source": [
    "## Defining the run() Function"
   ]
  },
  {
   "cell_type": "code",
   "execution_count": null,
   "metadata": {},
   "outputs": [],
   "source": []
  },
  {
   "cell_type": "markdown",
   "metadata": {},
   "source": [
    "## Running the Program"
   ]
  },
  {
   "cell_type": "code",
   "execution_count": null,
   "metadata": {},
   "outputs": [],
   "source": []
  },
  {
   "cell_type": "code",
   "execution_count": null,
   "metadata": {},
   "outputs": [],
   "source": []
  },
  {
   "cell_type": "code",
   "execution_count": null,
   "metadata": {},
   "outputs": [],
   "source": []
  }
 ],
 "metadata": {
  "kernelspec": {
   "display_name": "Python 3",
   "language": "python",
   "name": "python3"
  },
  "language_info": {
   "codemirror_mode": {
    "name": "ipython",
    "version": 3
   },
   "file_extension": ".py",
   "mimetype": "text/x-python",
   "name": "python",
   "nbconvert_exporter": "python",
   "pygments_lexer": "ipython3",
   "version": "3.5.2"
  }
 },
 "nbformat": 4,
 "nbformat_minor": 2
}
