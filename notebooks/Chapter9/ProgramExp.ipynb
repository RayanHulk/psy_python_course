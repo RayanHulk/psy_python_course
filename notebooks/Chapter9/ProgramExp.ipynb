{
 "cells": [
  {
   "cell_type": "markdown",
   "metadata": {},
   "source": [
    "# Pogramming the Experiment\n",
    "In this section we will learn how we can complete the code outline from the previous section to form a coherent psychology experiment, namely a simplified **Stroop Experiment**. We will go through the code step-by-step and at the end all these elements that we will illustrate using code snippets will then form an entire python script that forms our experiment. So this section is organized as follows:\n",
    "- xy\n",
    "- xy\n",
    "- xy\n",
    "- xy\n",
    "- xyy\n",
    "- xy\n",
    "- Complete Stroop Experiment\n",
    "\n",
    "---"
   ]
  },
  {
   "cell_type": "code",
   "execution_count": null,
   "metadata": {},
   "outputs": [],
   "source": []
  },
  {
   "cell_type": "code",
   "execution_count": null,
   "metadata": {},
   "outputs": [],
   "source": []
  },
  {
   "cell_type": "code",
   "execution_count": null,
   "metadata": {},
   "outputs": [],
   "source": []
  },
  {
   "cell_type": "code",
   "execution_count": null,
   "metadata": {},
   "outputs": [],
   "source": []
  },
  {
   "cell_type": "markdown",
   "metadata": {},
   "source": [
    "## Complete Stroop Experiment\n",
    "The complete code for the experiment can be found here:<br><br>\n",
    "**[stroop.py](https://github.com/imarevic/PsyPythonCourse/blob/master/notebooks/Chapter9/stroop.py)**\n"
   ]
  }
 ],
 "metadata": {
  "kernelspec": {
   "display_name": "Python 3",
   "language": "python",
   "name": "python3"
  },
  "language_info": {
   "codemirror_mode": {
    "name": "ipython",
    "version": 3
   },
   "file_extension": ".py",
   "mimetype": "text/x-python",
   "name": "python",
   "nbconvert_exporter": "python",
   "pygments_lexer": "ipython3",
   "version": "3.5.2"
  }
 },
 "nbformat": 4,
 "nbformat_minor": 2
}
