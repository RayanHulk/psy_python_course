{
 "cells": [
  {
   "cell_type": "markdown",
   "metadata": {},
   "source": [
    "# Planning and Structuring the Experiment\n",
    "In this section we will start putting the things that we have learned in the previous sections together to form a complete experiment. First, we will discuss how to start planning and structuring our experiment, before we start implementing it in Python and PyGame. Thus, this section will focus on the following topics:\n",
    "- Experiment Outline\n",
    "- Code Outline\n",
    "\n",
    "---"
   ]
  },
  {
   "cell_type": "markdown",
   "metadata": {},
   "source": [
    "## Experiment Outline\n",
    "Before we start programming any psychological experiment, we need to know how the individual tasks and stages that we want to realize. In this first stage we are simply designing an experiment on the abstract level without writing an code. In psychology this stage is often part of the **reseach design** or **study design**.<br>\n",
    "Specifically, the goal of this stage is to clearly define the procedure of the experiment. So let's assume we want to program a simplified *Stroop Experiment* in which participants are presented with two color words (e.g. red, blue) in differing font colors (e.g. red, blue). So the font color can either match the meaning of the word or not. Participants are then asked to press one of two keys whenever the meaning of the word is **blue** another key whenever the meaning of the word is **red**. Thus, we want to find out if the *accuracy* and *latency* of responses differs when the meaning and color are congrunet in contrast to when they are incongruent. <br><br>The **experimental outline** of such an experiment could like like this:"
   ]
  },
  {
   "cell_type": "markdown",
   "metadata": {},
   "source": [
    "<img src=\"procedure.png\" alt=\"Experiment Procedure\" align=\"left\">"
   ]
  },
  {
   "cell_type": "markdown",
   "metadata": {},
   "source": [
    "Note that in this outline we did not specifiy specifics such as \"loading instructions from a file\", \"instructions about the task\", or \"saving resutls\". These specifics are inherent to our experiment and are defined in the next step.\n",
    "So given this abstract outline above, in the next step we need to translate the outline into a procedure that consisists of functions, with each function resembling one part of the outline and even some specifics that are needed for the experiment to run properly.  "
   ]
  },
  {
   "cell_type": "markdown",
   "metadata": {},
   "source": [
    "## Code Outline\n",
    "We will achieve this by defining a **global dict** in wich we store all our global variables, an **instructions dict** in which we store our insructions, a **results dict** in whihc our results will be stored, and a **main function** called `run_experiment()` in which we call all functions that we need for our experiement. Below the `run_experiemnt()` procedure we will then define the functions that make up our experiment. For our hypothetical *Stroop Experiemnt* the code outline could look like this:"
   ]
  },
  {
   "cell_type": "code",
   "execution_count": null,
   "metadata": {},
   "outputs": [],
   "source": []
  }
 ],
 "metadata": {
  "kernelspec": {
   "display_name": "Python 3",
   "language": "python",
   "name": "python3"
  },
  "language_info": {
   "codemirror_mode": {
    "name": "ipython",
    "version": 3
   },
   "file_extension": ".py",
   "mimetype": "text/x-python",
   "name": "python",
   "nbconvert_exporter": "python",
   "pygments_lexer": "ipython3",
   "version": "3.5.2"
  }
 },
 "nbformat": 4,
 "nbformat_minor": 2
}
