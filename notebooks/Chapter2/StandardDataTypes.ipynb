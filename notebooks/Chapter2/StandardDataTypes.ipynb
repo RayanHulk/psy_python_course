{
 "cells": [
  {
   "cell_type": "markdown",
   "metadata": {},
   "source": [
    "# Standard Data Types\n",
    "\n",
    "In this section we will cover the standard data types in Python. In the previous section we have already encountered one of the data types, namely numbers. The basic data types implemented in Python are the following:\n",
    "\n",
    "- numbers\n",
    "- strings\n",
    "- lists\n",
    "- tuples\n",
    "- dictionaries"
   ]
  },
  {
   "cell_type": "markdown",
   "metadata": {},
   "source": [
    "## Numbers\n",
    "\n",
    "Number data types are numeric values. For example, we can store a participant number or the age of a participant as a number in our experiment. These numbers are refered to as **integers** (numbers without a fractional component) and are ilustrated in the following example:"
   ]
  },
  {
   "cell_type": "code",
   "execution_count": 4,
   "metadata": {
    "collapsed": false
   },
   "outputs": [
    {
     "name": "stdout",
     "output_type": "stream",
     "text": [
      "1 23\n"
     ]
    }
   ],
   "source": [
    "# storing participant number and age\n",
    "partNumber = 1\n",
    "age = 23\n",
    "\n",
    "# printing variable contents\n",
    "print(partNumber, age)"
   ]
  },
  {
   "cell_type": "markdown",
   "metadata": {},
   "source": [
    "Numbers that do have a fractional component are referred to as floats (floating point real values).\n",
    "These numbers can be used when specifiying presentation durations of stimuli or the number of correct responses out of a set of all possible responses in a reaction time task (e.g. probability correct):"
   ]
  },
  {
   "cell_type": "code",
   "execution_count": 56,
   "metadata": {
    "collapsed": false
   },
   "outputs": [
    {
     "name": "stdout",
     "output_type": "stream",
     "text": [
      "0.85\n"
     ]
    }
   ],
   "source": [
    "# total trials and correct trials\n",
    "totalTrials = 20\n",
    "numberCorrect = 17\n",
    "\n",
    "# floating point representing the proportion correct\n",
    "propCorrect = 17/20\n",
    "\n",
    "# printing propCorrect\n",
    "print(propCorrect)"
   ]
  },
  {
   "cell_type": "markdown",
   "metadata": {},
   "source": [
    "In Python there are also two more number types, namely **long integers** and **complex numbers**, but these are almost never relevant in the context of programming psychology experiments.\n",
    "If you want to find out more about these number types please consult the [Python Documentation](https://docs.python.org/3.6/library/stdtypes.html)"
   ]
  },
  {
   "cell_type": "markdown",
   "metadata": {},
   "source": [
    "## Strings\n",
    "\n",
    "Strings are a series of characters that are represented in quotation marks. Often strings hold text that will be printed, but they can also hold number characters. Here is an example:"
   ]
  },
  {
   "cell_type": "code",
   "execution_count": 9,
   "metadata": {
    "collapsed": false
   },
   "outputs": [
    {
     "name": "stdout",
     "output_type": "stream",
     "text": [
      "gender:  female\n",
      "mothertongue:  English\n",
      "major:  Psychology\n"
     ]
    }
   ],
   "source": [
    "# storing strings in variables\n",
    "gender = \"female\"\n",
    "mothertongue = \"English\"\n",
    "major = \"Psychology\"\n",
    "\n",
    "# printing variable contents\n",
    "print(\"gender: \", gender)\n",
    "print(\"mothertongue: \", mothertongue)\n",
    "print(\"major: \", major)"
   ]
  },
  {
   "cell_type": "markdown",
   "metadata": {},
   "source": [
    "Notice that strings can also be used inside of print statements to label what gets printed. Another way of doing this is the use of the **format statement**. Using such positional formatting works as follows:\n",
    "<br>\n",
    "Within a string, we place placeholders such as `{}` and at the end of a string we use `.format()` with arguments that get placed in place of the placeholders in chronological order. This way we can construct entire sentences. \n",
    "<br>\n",
    "Here is an example:"
   ]
  },
  {
   "cell_type": "code",
   "execution_count": 15,
   "metadata": {
    "collapsed": false
   },
   "outputs": [
    {
     "name": "stdout",
     "output_type": "stream",
     "text": [
      "The gender of the participant is female, their mothertongue is English and their major is Psychology.\n"
     ]
    }
   ],
   "source": [
    "print(\"The gender of the participant is {}, their mothertongue is {} and their major is {}.\".format(gender, mothertongue, major))"
   ]
  },
  {
   "cell_type": "markdown",
   "metadata": {},
   "source": [
    "We can also **slice** strings by using positional arguments. This means that we can slice out some part of the string that we want to use.\n",
    "For example if we want to store the first word of a sentence in a variable we can slice that word out of the entire string by using square brackets `[]` that specify the characters that need to be sliced. For instance, if we want to slice the first 5 characters we would do `[0:5]`. Now you might ask why we start at 0 and not 1 ? Well, in Python positional arguments always start at 0 instead of 1, so keep that in mind when slicing.\n",
    "<br>\n",
    "Here is an example of slicing:"
   ]
  },
  {
   "cell_type": "code",
   "execution_count": 39,
   "metadata": {
    "collapsed": false
   },
   "outputs": [
    {
     "name": "stdout",
     "output_type": "stream",
     "text": [
      "Python\n",
      "cool\n",
      " is cool!\n"
     ]
    }
   ],
   "source": [
    "# a string\n",
    "sentence = \"Python is cool!\"\n",
    "\n",
    "# slicing first word and printing it\n",
    "print(sentence[0:6])\n",
    "\n",
    "# slicing last word and printing it\n",
    "print(sentence[10:14])\n",
    "\n",
    "# slicing from a starting point to end\n",
    "print(sentence[6:])"
   ]
  },
  {
   "cell_type": "markdown",
   "metadata": {},
   "source": [
    "We can also use operators on strings. For example, we can **concatenate** strings by using the `+` operator. We can also **repeat** a string multiple times by using the operator `*` followed by the number of times the string should be repeated.\n",
    "<br>\n",
    "Here is an example:"
   ]
  },
  {
   "cell_type": "code",
   "execution_count": 26,
   "metadata": {
    "collapsed": false
   },
   "outputs": [
    {
     "name": "stdout",
     "output_type": "stream",
     "text": [
      "I like Psychology\n",
      "Practice makes perfect! Practice makes perfect! Practice makes perfect! Practice makes perfect! \n"
     ]
    }
   ],
   "source": [
    "# some strings\n",
    "word1 = \"I\"\n",
    "word2 = \"like\"\n",
    "word3 = \"Psychology\"\n",
    "space = \" \"\n",
    "\n",
    "# concatenating strings\n",
    "finalWord = word1 + space + word2 + space + word3\n",
    "print(finalWord)\n",
    "\n",
    "# repeating a string\n",
    "perfect = \"Practice makes perfect! \"\n",
    "print(perfect * 4)"
   ]
  },
  {
   "cell_type": "markdown",
   "metadata": {},
   "source": [
    "## Lists\n"
   ]
  },
  {
   "cell_type": "markdown",
   "metadata": {},
   "source": [
    "Lists are data structures that are very useful when programming psychology experiments. For example, we can store stimuli in lists and present them to participants. The elements of a list a are separated by commas and are enclosed  in square brackets )e.g. [element1, element2, element3, ..., last element]). As with strings, individual elements of a list can be accessed through the use of the slice operator `[]`. Analogously, lists can also be concatenated.\n",
    "<br>\n",
    "Here is an example:"
   ]
  },
  {
   "cell_type": "code",
   "execution_count": 36,
   "metadata": {
    "collapsed": false
   },
   "outputs": [
    {
     "name": "stdout",
     "output_type": "stream",
     "text": [
      "['house', 'grass', 'cat', 'telephone']\n",
      "house\n",
      "grass\n",
      "['house', 'grass', 'cat', 'telephone', 'table', 'window', 'air', 'dog']\n"
     ]
    }
   ],
   "source": [
    "# storing stimuli in two lists\n",
    "list1 = [\"house\", \"grass\", \"cat\", \"telephone\"]\n",
    "list2 = [\"table\", \"window\", \"air\", \"dog\"]\n",
    "\n",
    "# printing entire list1\n",
    "print(list1)\n",
    "\n",
    "# accessing first two elements of list1\n",
    "print(list1[0])\n",
    "print(list1[1])\n",
    "\n",
    "# concatenating list1 and list2\n",
    "finalList = list1 + list2\n",
    "print(finalList)"
   ]
  },
  {
   "cell_type": "markdown",
   "metadata": {},
   "source": [
    "We can also update values of a list like this:"
   ]
  },
  {
   "cell_type": "code",
   "execution_count": 42,
   "metadata": {
    "collapsed": false
   },
   "outputs": [
    {
     "name": "stdout",
     "output_type": "stream",
     "text": [
      "['word1', 'word2', 'word3']\n",
      "['word1', 'update', 'word3']\n"
     ]
    }
   ],
   "source": [
    "# a list\n",
    "list = [\"word1\", \"word2\", \"word3\"]\n",
    "print(list)\n",
    "\n",
    "# updating second word of list\n",
    "list[1] = \"update\"\n",
    "\n",
    "# printing list\n",
    "print(list)"
   ]
  },
  {
   "cell_type": "markdown",
   "metadata": {},
   "source": [
    "*Notice how we use the index 0 to update the first element of the list!*"
   ]
  },
  {
   "cell_type": "markdown",
   "metadata": {},
   "source": [
    "## Tuples\n",
    "\n",
    "Tuples are similar to lists, with the difference that they can not be changed. Thus they are often called **immutable**.\n",
    "In contrast to lists, elements of a tuple are enclosed in parentheses `(element1, element2, ...)` and not brackets.\n",
    "<br>\n",
    "Here is an example:"
   ]
  },
  {
   "cell_type": "code",
   "execution_count": 47,
   "metadata": {
    "collapsed": false
   },
   "outputs": [
    {
     "name": "stdout",
     "output_type": "stream",
     "text": [
      "house\n",
      "mouse\n",
      "('house', 'mouse', 'cat', 'dog', 'grass', 'screen')\n"
     ]
    }
   ],
   "source": [
    "# storing stimuli in tuples\n",
    "tuple1 = (\"house\", \"mouse\", \"cat\")\n",
    "tuple2 = (\"dog\", \"grass\", \"screen\")\n",
    "\n",
    "# accessing first two elements of a tuple\n",
    "print(tuple1[0])\n",
    "print(tuple1[1])\n",
    "\n",
    "# concatenating tuples\n",
    "finalTuple = tuple1 + tuple2\n",
    "print(finalTuple)"
   ]
  },
  {
   "cell_type": "markdown",
   "metadata": {},
   "source": [
    "Here is an example that throws an error message when we try to change elements of a tuple:"
   ]
  },
  {
   "cell_type": "code",
   "execution_count": 49,
   "metadata": {
    "collapsed": false
   },
   "outputs": [
    {
     "ename": "TypeError",
     "evalue": "'tuple' object does not support item assignment",
     "output_type": "error",
     "traceback": [
      "\u001b[0;31m---------------------------------------------------------------------------\u001b[0m",
      "\u001b[0;31mTypeError\u001b[0m                                 Traceback (most recent call last)",
      "\u001b[0;32m<ipython-input-49-3c78cb775dff>\u001b[0m in \u001b[0;36m<module>\u001b[0;34m()\u001b[0m\n\u001b[1;32m      3\u001b[0m \u001b[0;34m\u001b[0m\u001b[0m\n\u001b[1;32m      4\u001b[0m \u001b[0;31m# changing elements throws an error\u001b[0m\u001b[0;34m\u001b[0m\u001b[0;34m\u001b[0m\u001b[0m\n\u001b[0;32m----> 5\u001b[0;31m \u001b[0mtuple\u001b[0m\u001b[0;34m[\u001b[0m\u001b[0;36m1\u001b[0m\u001b[0;34m]\u001b[0m \u001b[0;34m=\u001b[0m \u001b[0;34m\"update\"\u001b[0m\u001b[0;34m\u001b[0m\u001b[0m\n\u001b[0m",
      "\u001b[0;31mTypeError\u001b[0m: 'tuple' object does not support item assignment"
     ]
    }
   ],
   "source": [
    "# a tuple\n",
    "tuple = (\"word1\", \"word2\", \"word3\")\n",
    "\n",
    "# changing elements throws an error\n",
    "tuple[1] = \"update\""
   ]
  },
  {
   "cell_type": "markdown",
   "metadata": {},
   "source": [
    "## Dictionaries\n"
   ]
  },
  {
   "cell_type": "markdown",
   "metadata": {},
   "source": [
    "Dictionaries are also very useful data types when it comes to programming psychology ecperiments. A dictionary consists of **key-value-pairs**. That is, a key is ued as the index for the value that is stored. For example, we could use the key `\"age\"` to store the value `24` as the age of a participant.\n",
    "<br>\n",
    "Dictionaries are always enclosed with curly braces `{}`. As with lists, values of a dictionary can be added once the dictionary exists. The **keys** and **values** can also be accesed by the following command:\n",
    "```python\n",
    "dictname.keys() # returns keys\n",
    "dictname.values() # returns values\n",
    "```\n",
    "Here is an example:"
   ]
  },
  {
   "cell_type": "code",
   "execution_count": 55,
   "metadata": {
    "collapsed": false
   },
   "outputs": [
    {
     "name": "stdout",
     "output_type": "stream",
     "text": [
      "{'name of research assistant': 'Lisa', 'building': 'Psychology Department', 'experience': 'high'}\n",
      "{'name of research assistant': 'Lisa', 'building': 'Psychology Department', 'experience': 'high', 'age': 23}\n",
      "dict_keys(['name of research assistant', 'building', 'experience', 'age'])\n",
      "dict_values(['Lisa', 'Psychology Department', 'high', 23])\n"
     ]
    }
   ],
   "source": [
    "# creating a dictionary\n",
    "dict = {\"name of research assistant\" : \"Lisa\", \n",
    "        \"building\" : \"Psychology Department\",\n",
    "       \"experience\" : \"high\"}\n",
    "\n",
    "# print dictionary\n",
    "print(dict)\n",
    "\n",
    "# add values with key labels\n",
    "dict[\"age\"] = 23\n",
    "print(dict)\n",
    "\n",
    "# print all keys\n",
    "print(dict.keys())\n",
    "\n",
    "# print all values\n",
    "print(dict.values())"
   ]
  }
 ],
 "metadata": {
  "kernelspec": {
   "display_name": "Python 3",
   "language": "python",
   "name": "python3"
  },
  "language_info": {
   "codemirror_mode": {
    "name": "ipython",
    "version": 3
   },
   "file_extension": ".py",
   "mimetype": "text/x-python",
   "name": "python",
   "nbconvert_exporter": "python",
   "pygments_lexer": "ipython3",
   "version": "3.6.0"
  }
 },
 "nbformat": 4,
 "nbformat_minor": 2
}
