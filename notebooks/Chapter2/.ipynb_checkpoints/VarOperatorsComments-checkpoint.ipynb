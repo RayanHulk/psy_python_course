{
 "cells": [
  {
   "cell_type": "markdown",
   "metadata": {},
   "source": [
    "# Variables, Operators & Comments\n",
    "\n",
    "In this section you will learn what variables, operators, and commetns are in a Python Program. \n",
    "When explaining these concepts we will use examples from the field of psychology including typical psychology experiment examples."
   ]
  },
  {
   "cell_type": "markdown",
   "metadata": {},
   "source": [
    "## Variables\n",
    "\n",
    "In `Python`, variables are used to store information. To store information in a varible we type the variable name followed by `=`. The information that is entered after the `=` sign gets assigned to the variable name preceding the `=` sign.<br>\n",
    "For example, let's store some numbers in variables and use the `print()` statement on each of the variables:\n",
    "<br>\n",
    "<br>\n",
    "*Note: from the previous examples you should have noticed that `print()` simply prints whatever is inside the brackets of this statement*\n"
   ]
  },
  {
   "cell_type": "code",
   "execution_count": 2,
   "metadata": {
    "collapsed": false
   },
   "outputs": [
    {
     "name": "stdout",
     "output_type": "stream",
     "text": [
      "2\n",
      "5\n",
      "3\n"
     ]
    }
   ],
   "source": [
    "# storing information in variables a, b, and c\n",
    "a = 2\n",
    "b = 5\n",
    "c = 3\n",
    "\n",
    "# printing information stored in variables\n",
    "print(a)\n",
    "print(b)\n",
    "print(c)"
   ]
  },
  {
   "cell_type": "markdown",
   "metadata": {},
   "source": [
    "We can also use multiple assignment to store information in variables. This way we save space and our code is more readable. For example, we can store the same value in multiple variables or we can store multiple values in multiple variables using just one line of code:"
   ]
  },
  {
   "cell_type": "code",
   "execution_count": 6,
   "metadata": {
    "collapsed": false
   },
   "outputs": [
    {
     "name": "stdout",
     "output_type": "stream",
     "text": [
      "1\n",
      "1\n",
      "1\n",
      "2\n",
      "5\n",
      "3\n"
     ]
    }
   ],
   "source": [
    "# storing one value in multiple variables\n",
    "a = b = c = 1\n",
    "\n",
    "# storing different information in multiple variables\n",
    "d, e, f = 2, 5, 3\n",
    "\n",
    "# printing information stored in variables\n",
    "print(a)\n",
    "print(b)\n",
    "print(c)\n",
    "print(d)\n",
    "print(e)\n",
    "print(f)"
   ]
  },
  {
   "cell_type": "markdown",
   "metadata": {},
   "source": [
    "Variable names do not have to be single letters. They can also be names that carry meaning.\n",
    "This way it is easier for the programmer to make sense of her own code. Let's asume that we want to store the information of a participant of an experiment in variables. We could do the following:"
   ]
  },
  {
   "cell_type": "code",
   "execution_count": 10,
   "metadata": {
    "collapsed": false
   },
   "outputs": [
    {
     "name": "stdout",
     "output_type": "stream",
     "text": [
      "4\n",
      "1\n",
      "25\n",
      "3\n"
     ]
    }
   ],
   "source": [
    "participant = 4 #participant number\n",
    "session = 1 # session number\n",
    "age = 25 # participant's age\n",
    "semester = 3 # semester of participant\n",
    "\n",
    "# printing variable information\n",
    "print(participant); print(session); print(age); print(semester)"
   ]
  },
  {
   "cell_type": "markdown",
   "metadata": {},
   "source": [
    "*Notice how a `;` can be used to tell Python to start a new line and thus to treat the command following the `;` as if it was typed on a new line.*"
   ]
  },
  {
   "cell_type": "markdown",
   "metadata": {},
   "source": [
    "To preview the next section, we can also store text (e.g. series of letters) in variables. In computer science, a series of letters is referred to as a **string**. We will learn about the different Python data types in the next section. Here is a short example:"
   ]
  },
  {
   "cell_type": "code",
   "execution_count": 11,
   "metadata": {
    "collapsed": false
   },
   "outputs": [
    {
     "name": "stdout",
     "output_type": "stream",
     "text": [
      "Stroop Task\n",
      "Condition A\n",
      "Psychology\n"
     ]
    }
   ],
   "source": [
    "experiment = \"Stroop Task\"\n",
    "condition = \"Condition A\"\n",
    "major = \"Psychology\"\n",
    "\n",
    "print(experiment); print(condition); print(major) "
   ]
  },
  {
   "cell_type": "markdown",
   "metadata": {},
   "source": [
    "## Operators\n",
    "\n",
    "Just storing information is of no use if we can't do anything with it. When dealing with numbers, for instance, we often want to calculate something from the information that we have stored in the variables.\n",
    "<br>\n",
    "<br>\n",
    "Python offers a series of operators. In the following, we will introduce the most relevant ones when it comes to programming psychology experiments:\n",
    "\n",
    "- arithmetic operators\n",
    "- relational operators\n",
    "- assignment operators\n",
    "- logical operators"
   ]
  },
  {
   "cell_type": "markdown",
   "metadata": {},
   "source": [
    "### Arithmetic Operators\n",
    "\n",
    "Arithmetic operators are operators that you know from mathematics. For example, to add two numbers we use `+` and to subtract two numbers we use`-`. Likewise, for multiplication or division we us `*` and `/`.\n",
    "\n",
    "Look at the following example to understand the most commen operators:"
   ]
  },
  {
   "cell_type": "code",
   "execution_count": 12,
   "metadata": {
    "collapsed": false
   },
   "outputs": [
    {
     "name": "stdout",
     "output_type": "stream",
     "text": [
      "5\n",
      "4\n",
      "6\n",
      "3.0\n"
     ]
    }
   ],
   "source": [
    "# storing information in variables\n",
    "a, b, c = 2, 3, 6\n",
    "\n",
    "# addition and substraction\n",
    "add = a + b\n",
    "sub = c - a\n",
    "\n",
    "# multiplication and division\n",
    "multip = a * b\n",
    "div = c / a\n",
    "\n",
    "# printing results\n",
    "print(add)\n",
    "print(sub)\n",
    "print(multip)\n",
    "print(div)"
   ]
  },
  {
   "cell_type": "markdown",
   "metadata": {},
   "source": [
    "The following table gives an overview of Python operators:\n",
    "\n",
    "| Operator        | Description           | Example          |\n",
    "| :-------------- |:----------------------|:----------------:|\n",
    "| +               | Adds values on both sides of the operator | 2 + 3 = 5   |\n",
    "| -               | Substracts the right value from the left value | 6 - 2 = 4   |\n",
    "| *               | Multiplies left with right value | 2 * 3 = 6   |\n",
    "| /               | Divides let by right value | 6 / 2 = 3   |\n",
    "| **               | Raises left value to the power of right value | 2 ** 3 = 8   |\n",
    "| %              | Divides left by rigt value and returns remainder | 10 % 3 = 1   |\n",
    "| //               | Divides left by right value and removes the digits after the decimal point | 10 // 3 = 3   |"
   ]
  },
  {
   "cell_type": "markdown",
   "metadata": {},
   "source": [
    "### Relational Operators\n",
    "\n",
    "Relational operators compare two values. For example, one could compare if 2 is equal to 3. In this case we would use the operator `==`. Note that `=` is not used, as this operator is reserved for assigning information to variables. We could also test if 2 is smaller than 3. In this case we would us the operator `<`.\n",
    "<br>\n",
    "<br>\n",
    "Look at the following examples to understand how relational operators work:"
   ]
  },
  {
   "cell_type": "code",
   "execution_count": 30,
   "metadata": {
    "collapsed": false
   },
   "outputs": [
    {
     "name": "stdout",
     "output_type": "stream",
     "text": [
      "True\n",
      "False\n",
      "True\n",
      "False\n"
     ]
    }
   ],
   "source": [
    "# storing information in variables\n",
    "a, b, c, d = 2, 3, 6, 3\n",
    "\n",
    "# equal or not equal operators\n",
    "equal = (b == d); print(equal)\n",
    "notequal = (b != d); print (notequal)\n",
    "\n",
    "# greater and smaller\n",
    "greater = (b > a); print(greater)\n",
    "smaller = (b < a); print(smaller)"
   ]
  },
  {
   "cell_type": "markdown",
   "metadata": {},
   "source": [
    "The follwing table gives an overview of Python's relational operators (note that relational operators return either `True` or `False`):\n",
    "\n",
    "\n",
    "| Operator        | Description           | Example          |\n",
    "| :-------------- |:----------------------|:----------------:|\n",
    "|==               | Tests if left value equals right value | 3 == 3 returns True   |\n",
    "| !=               | Tests if left value is not equal to right value | 3 != 3 returns False |\n",
    "| >               | Tests if left value is greater than right value | 3 > 2 returns True   |\n",
    "| <               | Tests if left value is smaller than right value | 3 < 2 returns False   |\n",
    "| >=               | Tests if left value is greater or equal to right value | 3 >= 3 returns True   |\n",
    "| <=              | Tests if left value is smaller or equal to right value | 3 <= 4 returns True  |\n"
   ]
  },
  {
   "cell_type": "markdown",
   "metadata": {},
   "source": [
    "### Assignment Operators\n",
    "\n",
    "Assignment operators assign values to variables or update values of variables. For example, as in the above examples we can assign the variable `age` the value `25` by typing `age = 25`. We can also update a variable. Let's say we assign the variable `trial = 0` and we want to update the `trial` variable by increasing its vlaue by one. We do this by typing `trial += 1`. This is equivalent to typing `trial = trial + 1`.\n",
    "<br>\n",
    "<br>\n",
    "Look at the following examples to understand how assignment operators work:"
   ]
  },
  {
   "cell_type": "code",
   "execution_count": 35,
   "metadata": {
    "collapsed": false
   },
   "outputs": [
    {
     "name": "stdout",
     "output_type": "stream",
     "text": [
      "3\n",
      "2\n",
      "6\n",
      "5.0\n",
      "15\n"
     ]
    }
   ],
   "source": [
    "# assigning values to variables\n",
    "a = 2\n",
    "b = 3\n",
    "c = 5\n",
    "d = 10\n",
    "e = 7\n",
    "f = 8\n",
    "\n",
    "# updating vlaue of a varible through additiona and subtraction\n",
    "a += 1; print(a)\n",
    "b -= 1; print(b)\n",
    "\n",
    "# updating value of a varible through multiplication and division\n",
    "a *= 2; print(a)\n",
    "d /= 2; print(d)\n",
    "\n",
    "# we can also update by information stored in a variable\n",
    "e += f; print(e)"
   ]
  },
  {
   "cell_type": "markdown",
   "metadata": {},
   "source": [
    "The following table gives an overview of Python's assignment operators:\n",
    "\n",
    "| Operator        | Description           | Example          |\n",
    "| :-------------- |:----------------------|:----------------:|\n",
    "|=               | Assigns value from right side to left side | a = 3   |\n",
    "| +=               | Adds right side to left side and upates left side | a += 1 |\n",
    "| -=               | Subtracts right side from left side and upates left side | a -= 1   |\n",
    "| *=               | Multiplies left side by right side and updates left side | a *= 2   |\n",
    "| /=               | Divides left side by right side and updates left side | a /= 2   |\n",
    "| **=              | Raises left side to the power of right side and updates left side | a **= 2  |\n",
    "| %=              | Calculates remainder of dividing left by right side and updates left side | a %= 2  |\n",
    "| //=              | Performs floor division and updates left side | a //= 2  |\n"
   ]
  },
  {
   "cell_type": "markdown",
   "metadata": {},
   "source": [
    "### Logical Operators\n",
    "\n",
    "Logical operators are used for testing for equalities or for testing if one of two values are True or False. For example, let `a` and `b` both have the value 3. We can test if `a` and `b` both have the value 2 by typing `(a and b) == 2`. Logical operators deal with boolean values and might confuse you if to complex logical statements are involved. For more information on boolean algebara and logic see this [wikipedia entry](https://en.wikipedia.org/wiki/Boolean_algebra)\n",
    "<br>\n",
    "<br>\n",
    "Look at the follwing examples to get the gist of how logical operators work:"
   ]
  },
  {
   "cell_type": "code",
   "execution_count": 57,
   "metadata": {
    "collapsed": false
   },
   "outputs": [
    {
     "name": "stdout",
     "output_type": "stream",
     "text": [
      "True\n",
      "True\n",
      "False\n"
     ]
    }
   ],
   "source": [
    "# First let's initialize some variables\n",
    "a = 2\n",
    "b = 2\n",
    "c = True\n",
    "\n",
    "# and operator\n",
    "andOp = ((a and b) == 2); print(andOp)   \n",
    "\n",
    "# or operator\n",
    "orOp = ((a or b) == 2); print(orOp)\n",
    "\n",
    "# not operator\n",
    "notOp = (not c); print(notOp)"
   ]
  },
  {
   "cell_type": "markdown",
   "metadata": {},
   "source": [
    "The follwing table gives an overview of Python's logical operators:\n",
    "\n",
    "| Operator        | Description           | Example          |\n",
    "| :-------------- |:----------------------|:----------------:|\n",
    "|and               | Only if both sides are true the condition evaluates to True | True and True returns True   |\n",
    "| or               | If one side is True than the condition evaluates to True | True or False returns True <br> False or False returns False |\n",
    "| not               | Reverses logical state of operant that follows | not True returns False   |"
   ]
  },
  {
   "cell_type": "markdown",
   "metadata": {},
   "source": [
    "## Comments\n",
    "\n",
    "In the code you have seen so far you might have wondered what the lines ment that were preceded by `#` (e.g. `# this is a comment`). These lines are comments that are ignored by Python and thus do not get executed. \n",
    "Comments can help the programmer understend her code better or enable programmers to understand other programmers code better. \n",
    "\n",
    "In the following example we use comments to understand our code better:"
   ]
  },
  {
   "cell_type": "code",
   "execution_count": 72,
   "metadata": {
    "collapsed": false
   },
   "outputs": [
    {
     "name": "stdout",
     "output_type": "stream",
     "text": [
      "7\n"
     ]
    }
   ],
   "source": [
    "a = 2 # assigning value 2 to variable a\n",
    "b = 5 # asigning value 5 to variable b\n",
    "\n",
    "# printing the result of a + b\n",
    "print(a + b)"
   ]
  },
  {
   "cell_type": "markdown",
   "metadata": {},
   "source": [
    "Let's take a look at another example:"
   ]
  },
  {
   "cell_type": "code",
   "execution_count": 60,
   "metadata": {
    "collapsed": false
   },
   "outputs": [
    {
     "name": "stdout",
     "output_type": "stream",
     "text": [
      "This gets printed\n",
      "2\n"
     ]
    }
   ],
   "source": [
    "print('This gets printed')\n",
    "print (1+1)\n",
    "# This does not get printed\n",
    "# print (2*2)\n",
    "# print('This also does not get printed')"
   ]
  },
  {
   "cell_type": "markdown",
   "metadata": {},
   "source": [
    "In the above example we have seen that code can also be used to \"comment out\" some code that we do not wish to execute.\n",
    "This is particularly helpful when testing certain parts of a program.\n",
    "<br>\n",
    "<br>\n",
    "Finally, we can also write multiline comments. These comments are often used to describe entire blocks of code such as functions.\n",
    "\n",
    "Here is an example:"
   ]
  },
  {
   "cell_type": "code",
   "execution_count": 73,
   "metadata": {
    "collapsed": false
   },
   "outputs": [
    {
     "name": "stdout",
     "output_type": "stream",
     "text": [
      "Almost done with this section\n"
     ]
    },
    {
     "data": {
      "text/plain": [
       "'\\nThis is a multiline comment that does not get\\nprinted by Python.\\n'"
      ]
     },
     "execution_count": 73,
     "metadata": {},
     "output_type": "execute_result"
    }
   ],
   "source": [
    "print('Almost done with this section') # prints text\n",
    "\n",
    "'''\n",
    "This is a multiline comment that does not get\n",
    "printed by Python.\n",
    "'''"
   ]
  },
  {
   "cell_type": "markdown",
   "metadata": {},
   "source": [
    "*Note that this notebook prints a \"repeat out\" statement including the multiline comment. If you excute this code on your machine the multiline comment will not get printed.*"
   ]
  }
 ],
 "metadata": {
  "kernelspec": {
   "display_name": "Python 3",
   "language": "python",
   "name": "python3"
  },
  "language_info": {
   "codemirror_mode": {
    "name": "ipython",
    "version": 3
   },
   "file_extension": ".py",
   "mimetype": "text/x-python",
   "name": "python",
   "nbconvert_exporter": "python",
   "pygments_lexer": "ipython3",
   "version": "3.6.0"
  }
 },
 "nbformat": 4,
 "nbformat_minor": 2
}
