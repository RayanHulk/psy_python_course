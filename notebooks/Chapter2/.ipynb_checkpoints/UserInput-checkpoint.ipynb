{
 "cells": [
  {
   "cell_type": "markdown",
   "metadata": {},
   "source": [
    "# User Input\n",
    "\n",
    "In this section you will learn how to collect user input in programs that are run in the console. In PyGame this procedure will change a bit but we will get to that in later sections. \n",
    "<br>\n",
    "In psychology experiments we want the user to interact with the program. For example we might want the user to type in some demographic information or to press a key on the keyboard in response to seeing a stimulus on the screen.\n",
    "<br>\n",
    "In this section we will introduce how to collect such user inputs and store them in Python data structures."
   ]
  },
  {
   "cell_type": "markdown",
   "metadata": {},
   "source": [
    "## User-Entered Data\n",
    "\n",
    "The first useful application of collecting user input is at the very beginning of an experiment. Here we want the user to enter some demographic information about herself.\n",
    "<br>\n",
    "<br>\n",
    "In Python 3 this is done via the `input()` statement. This means that now the program is waiting for keyboard entries that can be stored in variables. We can also include a string in the `input()` statement to ask for specific input. For example, we could ask for the users age and store the input in the variable `age`: \n",
    "\n",
    "```python\n",
    "age = input(\"Please enter your age: \")\n",
    "```\n",
    "Once the user has entered the information and `Return` is pressed, the information gets collected by Python and the program continues.\n",
    "<br>\n",
    "<br>\n",
    "Here is a small program that asks for demographic information:"
   ]
  },
  {
   "cell_type": "code",
   "execution_count": 9,
   "metadata": {},
   "outputs": [
    {
     "name": "stdout",
     "output_type": "stream",
     "text": [
      "Please enter your age: 1\n",
      "Please enter your gender: 2\n",
      "What is your major? 3\n",
      "What semester are you in? 4\n",
      "\n",
      " age: 1\n",
      " gender: 2\n",
      " major: 3\n",
      " semester :4\n"
     ]
    }
   ],
   "source": [
    "## demographic input\n",
    "age = input(\"Please enter your age: \")\n",
    "gender = input(\"Please enter your gender: \")\n",
    "major = input(\"What is your major? \")\n",
    "semester = input(\"What semester are you in? \")\n",
    "\n",
    "# printing input\n",
    "print('\\n age: ' + age + '\\n gender: ' + gender + '\\n major: ' + major+ '\\n semester :' + semester)"
   ]
  },
  {
   "cell_type": "markdown",
   "metadata": {},
   "source": [
    "## User Responses in a Task\n",
    "\n",
    "We can also use the same `input()` statement to collect responses in a task of the experiment. So let's create a very rudimentary experiment in which we present words using `print()` statements and wait for a response from the user. We will choose color names as stimuli. On each color word presentation the user's task is to press one of two keys:\n",
    "\n",
    "- **BLUE** press \"J\"-key\n",
    "- **RED** press \"F\"-key\n",
    "\n",
    "Here is the implementation of this experiment:"
   ]
  },
  {
   "cell_type": "code",
   "execution_count": 5,
   "metadata": {},
   "outputs": [
    {
     "name": "stdout",
     "output_type": "stream",
     "text": [
      "In the follwing you will be presented with color words.\n",
      "Please press the J-key for the word BLUE and the F-key for the word RED.\n",
      "After each key press we ask you to press ENTER to get to the next trial.\n",
      "Press ENTER to start.\n",
      "\n",
      "BLUE\n",
      "f\n",
      "RED\n",
      "j\n",
      "RED\n",
      "f\n",
      "RED\n",
      "f\n",
      "BLUE\n",
      "f\n",
      "\n",
      "Your responses were:\n",
      "['f', 'j', 'f', 'f', 'f']\n"
     ]
    }
   ],
   "source": [
    "# storing stimuli\n",
    "blueWord = \"BLUE\"\n",
    "redWord = \"RED\"\n",
    "\n",
    "# instructions at the beginnig of experiment\n",
    "print(\"In the follwing you will be presented with color words.\\nPlease press the J-key for the word BLUE and the F-key for the word RED.\")\n",
    "print(\"After each key press we ask you to press ENTER to get to the next word.\")\n",
    "print(\"Press ENTER to start.\")\n",
    "input()\n",
    "\n",
    "# start of trials\n",
    "print(blueWord); resp1 = input()\n",
    "print(redWord); resp2 = input()\n",
    "print(redWord); resp3 = input()\n",
    "print(redWord); resp4 = input()\n",
    "print(blueWord); resp5 = input()\n",
    "\n",
    "# store responses in a list\n",
    "responses = [resp1, resp2, resp3, resp4, resp5]\n",
    "\n",
    "# print list of responses\n",
    "print('')\n",
    "print('Your responses were:')\n",
    "print(responses)"
   ]
  },
  {
   "cell_type": "markdown",
   "metadata": {},
   "source": [
    "This is the first experiment that we have built so far by just using the concepts of printing, python data types and user input. This is pretty impressive. However, please note that our implementation is very inefficient and can be optimized in many ways. For example:\n",
    "- We use `print()` every time we present a stimulus. It turns out this can be done way more efficient with loops.\n",
    "- We print every instruction to the screen one by one using 'print()'. This can be automized using functions.\n",
    "- The user has to press ENTER after each response. This is redundant.\n",
    "- We store the responses in separate variables only to add them to a list later. This can also be done way more efficient within a loop.\n",
    "\n",
    "If these concepts sound confusing, don't worry. We will learn about them in the next sections. For now let's enjoy the fact that we are able to create our first small experiment."
   ]
  }
 ],
 "metadata": {
  "kernelspec": {
   "display_name": "Python 3",
   "language": "python",
   "name": "python3"
  },
  "language_info": {
   "codemirror_mode": {
    "name": "ipython",
    "version": 3
   },
   "file_extension": ".py",
   "mimetype": "text/x-python",
   "name": "python",
   "nbconvert_exporter": "python",
   "pygments_lexer": "ipython3",
   "version": "3.5.2"
  }
 },
 "nbformat": 4,
 "nbformat_minor": 2
}
