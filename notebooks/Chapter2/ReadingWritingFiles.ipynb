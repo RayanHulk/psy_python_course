{
 "cells": [
  {
   "cell_type": "markdown",
   "metadata": {},
   "source": [
    "# Reading and Writing a File\n",
    "In this section you will learn how to read information from files and how to write information to failes (e.g. save them in files). This is particularly useful for programming psychology experiments as often information that is used in the experiment is stored in external files and data that is collected during the experiment is written to files.\n",
    "<br>\n",
    "<br>\n",
    "**Examples:**\n",
    "- Instructions are often stored in text files\n",
    "- Large lists of stimuli are often stored in `csv`-Files\n",
    "- Pictures or videos are often stored in a folder\n",
    "- Participant responses are stored in files\n",
    "<br>\n",
    "In this section we will focus on reading and writing **txt** files, as these is a common format dor storing text and experiment related information."
   ]
  },
  {
   "cell_type": "markdown",
   "metadata": {
    "collapsed": true
   },
   "source": [
    "## Reading from a File\n",
    "\n",
    "In order to read from a file, we need to perform the following steps:\n",
    "1. Open the file\n",
    "2. Read contents ans svae them in a data structure\n",
    "3. Close the file\n",
    "\n",
    "In Python a file can be opened with the `open()` statement which takes two parameters `open(filename, 'mode')`. The first parameter is a string with the name of the file and the second specifies the mode in which the file should be opened. To read from an opend file, we can simply call a `read()` method on the opened file object. The following modes are available when opening a file:\n",
    "\n",
    "| Mode       | Description           | \n",
    "| :--------------: |:----------------------|\n",
    "| 'r'               | file can only be **read** |\n",
    "| 'w'               | It can only be **written** to this file |\n",
    "| 'a'               | Information can be **appendend** to this file |\n",
    "| 'r+'               | file can be **read** from and **written** to |\n",
    "\n",
    "Here is an exmaple of opening a file that is stored in the same directory as our python program, reading from it and closing it:"
   ]
  },
  {
   "cell_type": "code",
   "execution_count": 5,
   "metadata": {
    "collapsed": false
   },
   "outputs": [
    {
     "name": "stdout",
     "output_type": "stream",
     "text": [
      "Welcome to this experiment.\n",
      "We are glad you were able to open this file\n",
      "and read its contents.\n",
      "\n"
     ]
    }
   ],
   "source": [
    "# opening file\n",
    "file = open('sampleInstructions.txt', 'r')\n",
    "# reading contents of file\n",
    "readfile = file.read()\n",
    "# cosing file\n",
    "file.close()\n",
    "# printing file contents\n",
    "print(readfile)"
   ]
  },
  {
   "cell_type": "markdown",
   "metadata": {
    "collapsed": true
   },
   "source": [
    "Even though the just ilustrated example wotks just fine, it is better to use a `with` statement when opening files. We will not got in to much detail why this is the case, but it has to do with the fact that it ensures that the file is properly opened and closed after reading from file is over. This way memory space is freed up after reading from the file and the file does not get destroyed by the Python garbage collector.\n",
    "Here is an example of how we should read from files:"
   ]
  },
  {
   "cell_type": "code",
   "execution_count": 10,
   "metadata": {
    "collapsed": false
   },
   "outputs": [
    {
     "name": "stdout",
     "output_type": "stream",
     "text": [
      "Welcome to this experiment.\n",
      "We are glad you were able to open this file\n",
      "and read its contents.\n",
      "\n"
     ]
    }
   ],
   "source": [
    "# reading from file\n",
    "with open('sampleInstructions.txt', 'r') as file:\n",
    "    readfile = file.read()\n",
    "\n",
    "# printing contents\n",
    "print(readfile)"
   ]
  },
  {
   "cell_type": "markdown",
   "metadata": {
    "collapsed": true
   },
   "source": [
    "## Writing to a file\n",
    "\n",
    "Analogous to reading from files, we ca also write information to a file using the `w` mode.\n",
    "Here is an exmaple how we would properly write information stored in a list to a text-file:"
   ]
  },
  {
   "cell_type": "code",
   "execution_count": 17,
   "metadata": {
    "collapsed": false
   },
   "outputs": [
    {
     "name": "stdout",
     "output_type": "stream",
     "text": [
      "24 Psychology 3 semester\n"
     ]
    }
   ],
   "source": [
    "# some string data\n",
    "age = '24 '\n",
    "major = 'Psychology '\n",
    "semester = '3 semester'\n",
    "\n",
    "# writig string data to files\n",
    "with open('responses.txt', 'w') as file:\n",
    "    file.write(age)\n",
    "    file.write(major)\n",
    "    file.write(semester)\n",
    "    \n",
    "# -------- check if written correctly ------ #\n",
    "# open resonses file\n",
    "with open('responses.txt', 'r') as file:\n",
    "    readfile = file.read()\n",
    "\n",
    "# print contents of responses file\n",
    "print(readfile)"
   ]
  },
  {
   "cell_type": "markdown",
   "metadata": {},
   "source": [
    "Now we know how to read and wroire files. Please keep in mind that we ca also read form oter file formats such as csv-files. We can also write to csv-files row wise and column wise. \n",
    "How that is achieved will be part of later sections as we need a litle more Python knowedge to achieve these tasks."
   ]
  }
 ],
 "metadata": {
  "kernelspec": {
   "display_name": "Python 3",
   "language": "python",
   "name": "python3"
  },
  "language_info": {
   "codemirror_mode": {
    "name": "ipython",
    "version": 3
   },
   "file_extension": ".py",
   "mimetype": "text/x-python",
   "name": "python",
   "nbconvert_exporter": "python",
   "pygments_lexer": "ipython3",
   "version": "3.6.0"
  }
 },
 "nbformat": 4,
 "nbformat_minor": 2
}
