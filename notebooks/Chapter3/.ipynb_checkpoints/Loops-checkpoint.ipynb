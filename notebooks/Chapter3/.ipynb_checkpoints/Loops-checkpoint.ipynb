{
 "cells": [
  {
   "cell_type": "markdown",
   "metadata": {},
   "source": [
    "# For and While Loops\n",
    "\n",
    "In this section we will cover `for` and `while` loops. Loops are used to do something repeatedly based on a condition that needs to be met. The following diagram illustrates this rationale:"
   ]
  },
  {
   "cell_type": "markdown",
   "metadata": {},
   "source": [
    "![alt text](generalloop.jpg \"generalloop\")"
   ]
  },
  {
   "cell_type": "markdown",
   "metadata": {},
   "source": [
    "As you can see the program encounters a condition. At this point code is executed repeatedly in a loop until that condition is no longer true anymore. Loops are a very powerful tool that enable you to reduce the amount of code you have to write. For example, recall that so far we had to print list items one by one using the `print()` statement each time we wanted to print an item of a list. As we will see, with loops such tasks can be handled way more efficiently."
   ]
  },
  {
   "cell_type": "markdown",
   "metadata": {},
   "source": [
    "## For Loop\n",
    "\n",
    "The for loop is used whenever we need to iterate over an object of type `iterable`. The following diagram illustrates the rationale behind for loops:"
   ]
  },
  {
   "cell_type": "markdown",
   "metadata": {},
   "source": [
    "![alt text](forloop.jpg \"forloop\")"
   ]
  },
  {
   "cell_type": "markdown",
   "metadata": {},
   "source": [
    "As you can see, an iterable object (e.g. a sequence) is iterated over using an iterating variable and for each item of the sequence certain code is executed until the sequence is empty. Let's iterate over a `string` and print each letter:"
   ]
  },
  {
   "cell_type": "code",
   "execution_count": 2,
   "metadata": {},
   "outputs": [
    {
     "name": "stdout",
     "output_type": "stream",
     "text": [
      "Current letter : P\n",
      "Current letter : s\n",
      "Current letter : y\n",
      "Current letter : c\n",
      "Current letter : h\n",
      "Current letter : o\n",
      "Current letter : l\n",
      "Current letter : o\n",
      "Current letter : g\n",
      "Current letter : y\n"
     ]
    }
   ],
   "source": [
    "# iterate over the string 'Psychology'\n",
    "for letter in \"Psychology\":\n",
    "    print(\"Current letter :\", letter)"
   ]
  },
  {
   "cell_type": "markdown",
   "metadata": {},
   "source": [
    "In the context of psychology experiments, it is very common to iterate over lists. In order to do this, we need to use the python built-in functions `len()` and `range()`. The `len()` function gives us the total number of objects to iterate over and the `range()` function gives us the actual sequence to iterate over. Please note that the iterating index can be any string but we use a word that is meaningful to us in the context of the object we want iterate over. For example, if want to iterate over a list called `stimuli` it makes sense to name the iterator `stimulus`. Also note that we use list indexing within the indexing variable as to present each stimulus from the list. <br><br>\n",
    "For instance, in the following example we will iterate over a list that contains stimuli to be presented to the participant until all items are presented (all items in the list have been iterated over):"
   ]
  },
  {
   "cell_type": "code",
   "execution_count": 6,
   "metadata": {},
   "outputs": [
    {
     "name": "stdout",
     "output_type": "stream",
     "text": [
      "house\n",
      "mouse\n",
      "dog\n",
      "cat\n",
      "table\n"
     ]
    }
   ],
   "source": [
    "# define a list with stimuli\n",
    "stimuli = [\"house\", \"mouse\", \"dog\", \"cat\", \"table\"]\n",
    "\n",
    "# iterating over the stimuli list and presenting each item\n",
    "for stimulus in range(len(stimuli)):\n",
    "    print(stimuli[stimulus])"
   ]
  },
  {
   "cell_type": "markdown",
   "metadata": {},
   "source": [
    "## While Loop\n",
    "\n",
    "While loops are used to excute certain code as long as a condition is `True` and to exit the loop whenever that conditions status changes to `False`. the following diagram illustrates the rationale of while loops:"
   ]
  },
  {
   "cell_type": "markdown",
   "metadata": {},
   "source": [
    "![alt text](whileloop.jpg \"whileloop\")"
   ]
  },
  {
   "cell_type": "markdown",
   "metadata": {},
   "source": [
    "In the context of psychology experiments while loops are often used when we want to present something to participants for a predefined amount of time or as long as an objective condition is met. For example, let's create a countdown and exit the loop when the countdown reaches 0:"
   ]
  },
  {
   "cell_type": "code",
   "execution_count": 7,
   "metadata": {},
   "outputs": [
    {
     "name": "stdout",
     "output_type": "stream",
     "text": [
      "The task starts in:  5\n",
      "The task starts in:  4\n",
      "The task starts in:  3\n",
      "The task starts in:  2\n",
      "The task starts in:  1\n",
      "End of countdown loop!!!\n"
     ]
    }
   ],
   "source": [
    "# initialize count\n",
    "count = 5\n",
    "\n",
    "# loop until count > 0\n",
    "while (count > 0):\n",
    "    print(\"The task starts in: \", count)\n",
    "    count -= 1 # decreasing count by 1\n",
    "\n",
    "print(\"End of countdown loop!!!\")"
   ]
  },
  {
   "cell_type": "markdown",
   "metadata": {},
   "source": [
    "Let's consider another example where we will print a message every second for a specific amount of time. Once the time (e.g. `duration`) elapses, we will print a message telling us that the time is over:"
   ]
  },
  {
   "cell_type": "code",
   "execution_count": 18,
   "metadata": {},
   "outputs": [
    {
     "name": "stdout",
     "output_type": "stream",
     "text": [
      "Loop is running!!\n",
      "Loop is running!!\n",
      "Loop is running!!\n",
      "Loop is running!!\n",
      "Loop is running!!\n",
      "Time has elapsed and loop stopped!!\n"
     ]
    }
   ],
   "source": [
    "# import time module\n",
    "import time\n",
    "\n",
    "# set timeout\n",
    "duration = 5  # 5 sec\n",
    "\n",
    "# first lets get a timestamp when starting the loop\n",
    "startTime = time.time()\n",
    "# start while loop\n",
    "while time.time() - startTime < duration:\n",
    "    print(\"Loop is running!!\")\n",
    "    time.sleep(1) # print every seconds\n",
    "\n",
    "# print something once loop is done\n",
    "print(\"Time has elapsed and loop stopped!!\")"
   ]
  },
  {
   "cell_type": "markdown",
   "metadata": {},
   "source": [
    "At first, the above code may seem confusing. Here is a brief explanation:<br><br>\n",
    "In order to enable timing, we need to import the python `time` module. This is done in line 1. <br>Next we set a duration for which the loop should run and assign it to the variable `duration`.\n",
    "Before the while loop starts, we get a timestamp `startTime` which we than compare to the actual time (time that has elapsed since the timestamp was created (`time.time() - startTime`). Once we have that, we can check if this condition is `< duration`. As long as this is the case (the difference between current time and `startTime` is smaller than `duration`) the while loop is run. Once that condition is `False`, the while loop terminates.<br>\n",
    "\n",
    "Note that within the while loop we use `time.sleep()` to wait for one second. As `duration = 5` and we print every second, 5 statements should be printed before the while loop terminates and the print statement outside of the loop gets printed.\n",
    "\n",
    "---"
   ]
  },
  {
   "cell_type": "markdown",
   "metadata": {},
   "source": [
    "Finally, we would like to introduce a special form of using the while loop that should be used with caution, namely the **infinite loop**. Infinite loops can be constructed whenever we want to execute some code infinitely. In such a case, either the user has to terminate the program manually or the program that is executed within the infinite loop needs to terminate itself explicitly by jumping out of the loop. Here is an example of an infinite loop:"
   ]
  },
  {
   "cell_type": "markdown",
   "metadata": {},
   "source": [
    "```python\n",
    "# infinite loop\n",
    "while True:\n",
    "    print(\"This is an infinte loop\")\n",
    "    print(\"it will run until the user exits the program\")\n",
    "    print(\"Or when the program exits itself\")\n",
    "```"
   ]
  },
  {
   "cell_type": "markdown",
   "metadata": {},
   "source": [
    "## Nested Loops\n",
    "\n",
    "As with If-Else Statements, loops can also be nested. That is, one loop can be placed within another loop, and so on.\n",
    "In the following we give one example of a nested for-loop followed by an example of a nested while-loop. <br><br>\n",
    "Here is an example of a nested for-loop:"
   ]
  },
  {
   "cell_type": "code",
   "execution_count": 35,
   "metadata": {},
   "outputs": [
    {
     "name": "stdout",
     "output_type": "stream",
     "text": [
      "1 word A\n",
      "1 word B\n",
      "1 word C\n",
      "1 word D\n",
      "2 word A\n",
      "2 word B\n",
      "2 word C\n",
      "2 word D\n",
      "3 word A\n",
      "3 word B\n",
      "3 word C\n",
      "3 word D\n",
      "4 word A\n",
      "4 word B\n",
      "4 word C\n",
      "4 word D\n"
     ]
    }
   ],
   "source": [
    "numbers = [1, 2, 3, 4]\n",
    "words = [\"word A\", \"word B\", \"word C\", \"word D\"]\n",
    "\n",
    "# nested for loop\n",
    "for number in numbers:\n",
    "    for word in words:\n",
    "        print(number, word)"
   ]
  },
  {
   "cell_type": "markdown",
   "metadata": {},
   "source": [
    "Notice how each number gets paired with each word. So nested for loops iterate over each item of the inner loop before moving to the next item of the outer loop."
   ]
  },
  {
   "cell_type": "markdown",
   "metadata": {},
   "source": [
    "Here is an example of a nested while-loop:"
   ]
  },
  {
   "cell_type": "code",
   "execution_count": 37,
   "metadata": {},
   "outputs": [
    {
     "name": "stdout",
     "output_type": "stream",
     "text": [
      "outer count:  0\n",
      "inner count : 0\n",
      "inner count : 1\n",
      "inner count : 2\n",
      "inner count : 3\n",
      "outer count:  1\n",
      "inner count : 0\n",
      "inner count : 1\n",
      "inner count : 2\n",
      "inner count : 3\n",
      "outer count:  2\n",
      "inner count : 0\n",
      "inner count : 1\n",
      "inner count : 2\n",
      "inner count : 3\n",
      "outer count:  3\n",
      "inner count : 0\n",
      "inner count : 1\n",
      "inner count : 2\n",
      "inner count : 3\n"
     ]
    }
   ],
   "source": [
    "# nested while loop\n",
    "outerCount = 0\n",
    "while outerCount <= 3:\n",
    "  innerCount = 0\n",
    "  print(\"outer count: \",outerCount)\n",
    "    \n",
    "  while innerCount <= 3:\n",
    "    print(\"inner count :\", innerCount)\n",
    "    innerCount += 1\n",
    "    \n",
    "  outerCount += 1"
   ]
  },
  {
   "cell_type": "markdown",
   "metadata": {},
   "source": [
    "Notice how the outer count is updated only after the inner loop is run. \n",
    "\n",
    "---\n",
    "\n",
    "**Note:** Please use nested loops with caution as they might complicate your program and are usually very inefficient. In fact, when programming psychology experiments we cannot think of any practical example where you would use nested loops deeper than 2 levels ever."
   ]
  },
  {
   "cell_type": "markdown",
   "metadata": {},
   "source": [
    "## Loop Control Statements\n",
    "\n",
    "Loop control statements change the normal behavior of loops. In Python the following control statements can be used to modify the behavior of loops:\n",
    "\n",
    "| Control Statement  | Description |\n",
    "| :--------------: | :----------------------|\n",
    "| `break`         | breaks out of a loopa and executes code that follows the loop|\n",
    "| `continue`         | skips all code in the current iteration and continues with next iteration|\n",
    "| `pass`         | empty statement that is required syntactically but does not do anything|"
   ]
  },
  {
   "cell_type": "markdown",
   "metadata": {},
   "source": [
    "Here is an example for each of the control statements:"
   ]
  },
  {
   "cell_type": "markdown",
   "metadata": {},
   "source": [
    "**The `break` statement:**"
   ]
  },
  {
   "cell_type": "code",
   "execution_count": 41,
   "metadata": {},
   "outputs": [
    {
     "name": "stdout",
     "output_type": "stream",
     "text": [
      "This is an infinte loop\n",
      "it will run until the user exits the program\n",
      "Or when the program exits itself\n",
      "As is done in the next line\n"
     ]
    }
   ],
   "source": [
    "# breaking out of an infinte loop\n",
    "while True:\n",
    "    print(\"This is an infinte loop\")\n",
    "    print(\"it will run until the user exits the program\")\n",
    "    print(\"Or when the program exits itself\")\n",
    "    print(\"As is done in the next line\")\n",
    "    break"
   ]
  },
  {
   "cell_type": "markdown",
   "metadata": {},
   "source": [
    "**The `continue` statement:**"
   ]
  },
  {
   "cell_type": "code",
   "execution_count": 2,
   "metadata": {},
   "outputs": [
    {
     "name": "stdout",
     "output_type": "stream",
     "text": [
      "current letter :  P\n",
      "current letter :  s\n",
      "current letter :  y\n",
      "current letter :  c\n",
      "current letter :  o\n",
      "current letter :  l\n",
      "current letter :  o\n",
      "current letter :  g\n",
      "current letter :  y\n"
     ]
    }
   ],
   "source": [
    "# continue statement to skip one iteration\n",
    "for letter in \"Psychology\":\n",
    "    if letter == \"h\": \n",
    "        continue  # skipping letter 'h' and continuing with next iteration\n",
    "    print(\"current letter : \", letter)"
   ]
  },
  {
   "cell_type": "markdown",
   "metadata": {},
   "source": [
    "**The `pass` statement:**"
   ]
  },
  {
   "cell_type": "code",
   "execution_count": 4,
   "metadata": {},
   "outputs": [
    {
     "name": "stdout",
     "output_type": "stream",
     "text": [
      "current letter :  P\n",
      "current letter :  s\n",
      "current letter :  y\n",
      "current letter :  c\n",
      "current letter :  h\n",
      "passing on this one\n",
      "current letter :  l\n",
      "passing on this one\n",
      "current letter :  g\n",
      "current letter :  y\n"
     ]
    }
   ],
   "source": [
    "# continue statement to skip one iteration\n",
    "for letter in \"Psychology\":\n",
    "    if letter == \"o\": \n",
    "        pass  # passing letter 'o'\n",
    "        print(\"passing on this one\")\n",
    "    else:\n",
    "        print(\"current letter : \", letter)"
   ]
  }
 ],
 "metadata": {
  "kernelspec": {
   "display_name": "Python 3",
   "language": "python",
   "name": "python3"
  },
  "language_info": {
   "codemirror_mode": {
    "name": "ipython",
    "version": 3
   },
   "file_extension": ".py",
   "mimetype": "text/x-python",
   "name": "python",
   "nbconvert_exporter": "python",
   "pygments_lexer": "ipython3",
   "version": "3.5.2"
  }
 },
 "nbformat": 4,
 "nbformat_minor": 2
}
