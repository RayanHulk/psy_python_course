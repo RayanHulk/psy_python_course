{
 "cells": [
  {
   "cell_type": "markdown",
   "metadata": {},
   "source": [
    "# If-Then Branching\n",
    "\n",
    "In this section we will cover If-Then Branching in Python. Branching is a very powerful way of controlling the sequence of events or dynamics in a program. For example, many psychology experiments have more than one condition. So some participants might get presented different information than other, depending on the experimental condition they are in.\n",
    "In order to realyze these dynamics in a python program we need if-then branches.\n",
    "<br><br>\n",
    "Examples of if-then brancing in psychology experiments include:\n",
    "- different program parts for different conditions\n",
    "- cheking if a specific key was pressed\n",
    "- checking if specific stimuli were selected by the program\n",
    "- etc."
   ]
  },
  {
   "cell_type": "markdown",
   "metadata": {},
   "source": [
    "## The If - Else Statement\n",
    "With an If-Else Statement we can execute some program code based on a condition. For example, assume we want to realize the following 2 conditions in an experiment: \n",
    "\n",
    "- Control\n",
    "- Experimental\n",
    "\n",
    "Depending on what condition a participant is in, differen stimuli should be presented. For instance, in the Control condition we would like the participants to be presented with information that is stored in`InstructionsA` and in the Experimental condition we would like the participants to be presented information that is stored in `InstructionsB`. So the program flow should be like this:\n",
    "\n",
    "![alt text](ifelsepic.jpg \"ifelsepic\")"
   ]
  },
  {
   "cell_type": "markdown",
   "metadata": {},
   "source": [
    "Here is a python example based on the above description:"
   ]
  },
  {
   "cell_type": "code",
   "execution_count": 15,
   "metadata": {},
   "outputs": [
    {
     "name": "stdout",
     "output_type": "stream",
     "text": [
      "please enter the condition ('1' or '2'): 1\n",
      "You are in the Control Condition.\n"
     ]
    }
   ],
   "source": [
    "# storing instructions\n",
    "InstructionsA = \"You are in the Control Condition.\"\n",
    "InstructionsB = \"You are in the Experimental Condition.\"\n",
    "\n",
    "# get condition from user\n",
    "# enter \"1\" for Experimental Condition and \"2\" for Control Condition\n",
    "condition = input(\"please enter the condition ('1' or '2'): \")\n",
    "\n",
    "# printing to console based on condition\n",
    "if condition == \"1\":\n",
    "    print(InstructionsA)\n",
    "else:\n",
    "    print(InstructionsB)        "
   ]
  },
  {
   "cell_type": "markdown",
   "metadata": {},
   "source": [
    "As you can see, the basic syntax of the If-Else Statement is as follows:\n",
    "\n",
    "```python\n",
    "if expression:\n",
    "    statement(s) A\n",
    "else:\n",
    "    statement(s) B\n",
    "```"
   ]
  },
  {
   "cell_type": "markdown",
   "metadata": {},
   "source": [
    "## The Elif Statement\n",
    "\n",
    "The Elif Statement allows to check more than one expression. For example, let's assume that we have 4 conditions in our experiment. We could run different program parts for each of the four conditions:"
   ]
  },
  {
   "cell_type": "code",
   "execution_count": 17,
   "metadata": {},
   "outputs": [
    {
     "name": "stdout",
     "output_type": "stream",
     "text": [
      "please enter the condition (1, 2, 3, or 4): 4\n",
      "You are in the fourth condition.\n"
     ]
    }
   ],
   "source": [
    "# storing instructions\n",
    "InstructionsA = \"You are in the first condition.\"\n",
    "InstructionsB = \"You are in the second condition.\"\n",
    "InstructionsC = \"You are in the third condition.\"\n",
    "InstructionsD = \"You are in the fourth condition.\"\n",
    "\n",
    "# get condition from user\n",
    "# enter 1, 2, 3, or 4 for each of the four conditions\n",
    "condition = input(\"please enter the condition (1, 2, 3, or 4): \")\n",
    "\n",
    "# printing to console based on condition\n",
    "if condition == \"1\":\n",
    "    print(InstructionsA)\n",
    "elif condition == \"2\":\n",
    "    print(InstructionsB)\n",
    "elif condition == \"3\":\n",
    "    print(InstructionsC)\n",
    "else:\n",
    "    print(InstructionsD)"
   ]
  },
  {
   "cell_type": "markdown",
   "metadata": {},
   "source": [
    "Note how multiple `elif` statements are allowed but only one `else` statement.\n",
    "So the complete syntax for If-Then statements that handles multiple expressions and includes one final `else` expression looks as follows:\n",
    "\n",
    "```python\n",
    "if expression:\n",
    "    statement(s) A\n",
    "elif expression:\n",
    "    statement(s) B\n",
    "elif expression:\n",
    "    statement(s) C\n",
    "else:\n",
    "    statement(s) D\n",
    "```"
   ]
  },
  {
   "cell_type": "markdown",
   "metadata": {},
   "source": [
    "## Nested If Statements\n",
    "Finally, nested if statements can bes used to check for conditions within subordinate conditions. For example, we might want to realize an experiment in which program parts are run depending of two inputs the participant gives sequentially.\n",
    "Let's say we want to filter out particiapnts that are left handed and run certain experimental manipulations with right handers only. We could first ask the participants to indicate whether they are right handed or left handed. If they are right handed we ask them to whether they are vegetarian or not. If they indicate that they are right handed, then we simply give the instructions to wait until the end of the experiment:"
   ]
  },
  {
   "cell_type": "code",
   "execution_count": 24,
   "metadata": {},
   "outputs": [
    {
     "name": "stdout",
     "output_type": "stream",
     "text": [
      "What is your dominant hand? (r=right ; l=left) r\n",
      "You indcated to be a righty\n",
      "Are you a vegetarian? (y=yes ; n=no) y\n",
      "You indicated that you are a vegitarian\n"
     ]
    }
   ],
   "source": [
    "# propmt for handedness input (r key = right, l key = left)\n",
    "handedness = input(\"What is your dominant hand? (r=right ; l=left) \")\n",
    "\n",
    "# check first expression\n",
    "if handedness == \"r\":\n",
    "    print(\"You indcated to be a righty\")\n",
    "    # prompt second question (y key = yes, n key = no)\n",
    "    vegetarian = input(\"Are you a vegetarian? (y=yes ; n=no) \")\n",
    "    # check second expression\n",
    "    if vegetarian == \"y\":\n",
    "        print(\"You indicated that you are a vegitarian\")\n",
    "    else:\n",
    "        print(\"You indicated that you are not a vegetarian\")\n",
    "# handle leftys in else statement\n",
    "else:\n",
    "    print(\"Unfortunately this experiment is for right-handers only.\")\n",
    "    print(\"Please wait.\")"
   ]
  },
  {
   "cell_type": "markdown",
   "metadata": {},
   "source": [
    "Nested If-Statements can become very complicated and thus are error prone. So try to avoid to deep of a nested structure in your experiments to keep your code simple and readable."
   ]
  }
 ],
 "metadata": {
  "kernelspec": {
   "display_name": "Python 3",
   "language": "python",
   "name": "python3"
  },
  "language_info": {
   "codemirror_mode": {
    "name": "ipython",
    "version": 3
   },
   "file_extension": ".py",
   "mimetype": "text/x-python",
   "name": "python",
   "nbconvert_exporter": "python",
   "pygments_lexer": "ipython3",
   "version": "3.5.2"
  }
 },
 "nbformat": 4,
 "nbformat_minor": 2
}
