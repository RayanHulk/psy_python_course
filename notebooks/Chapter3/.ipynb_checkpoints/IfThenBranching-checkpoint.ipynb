{
 "cells": [
  {
   "cell_type": "markdown",
   "metadata": {},
   "source": [
    "# If-Then Branching\n",
    "\n",
    "In this section we will cover If-Then Branching in Python. Branching is a very powerful way of controlling the sequence of events or dynamics in a program. For example, many psychology experiments have more than one condition. So some participants might get presented different information than other, depending on the experimental condition they are in.\n",
    "In order to realyze these dynamics in a python program we need if-then branches.\n",
    "<br><br>\n",
    "Examples of if-then brancing in psychology experiments include:\n",
    "- different program parts for different conditions\n",
    "- cheking if a specific key was pressed\n",
    "- checking if specific stimuli were selected by the program\n",
    "- etc."
   ]
  }
 ],
 "metadata": {
  "kernelspec": {
   "display_name": "Python 3",
   "language": "python",
   "name": "python3"
  },
  "language_info": {
   "codemirror_mode": {
    "name": "ipython",
    "version": 3
   },
   "file_extension": ".py",
   "mimetype": "text/x-python",
   "name": "python",
   "nbconvert_exporter": "python",
   "pygments_lexer": "ipython3",
   "version": "3.6.0"
  }
 },
 "nbformat": 4,
 "nbformat_minor": 2
}
