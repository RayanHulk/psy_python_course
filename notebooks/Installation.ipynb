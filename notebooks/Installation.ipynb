{
 "cells": [
  {
   "cell_type": "markdown",
   "metadata": {},
   "source": [
    "# Installation of Python and Pygame\n",
    "\n",
    "We have seen in the Introduction section that the programming language `Python` and the graphocs library `Pygame` are very powerful tools for designing psychological experiments. \n",
    "In this section we will outline the installation steps for both `Python` and `Pygame` regarding teh following operating systems:\n",
    "\n",
    "- Windows\n",
    "- Mac\n",
    "- Linux\n",
    "\n",
    "Please follow the instructions under the subsection describing the installation for your operating system."
   ]
  },
  {
   "cell_type": "markdown",
   "metadata": {},
   "source": [
    "## Windows\n",
    "If you are using a Windows operating system follow these steps:\n",
    "\n",
    "- Go to the [Python Website](https://www.python.org/downloads/windows/) and download a Python distribution for your system.\n",
    "\n",
    "- Run the Installer\n",
    "\n",
    "- Enable the \"Add Python 3.6 to PATH\" and click \"Install Now\"\n",
    "\n",
    "![alt text](WindowsInstaller.png \"Windows Installer\")\n",
    "\n",
    "- Thats it. Now the setup is finished and you should see the following:\n",
    "\n",
    "![alt text](FinishWindowsInstaller.png \"Finish Installler\")\n",
    "\n",
    "- You can check if the installation was succesfull by opening a terminal and typing `python` and pressing `Return`\n",
    "You should see the following:\n",
    "\n",
    "![alt text](TestPythonCmd.png \"Check Python Cmd\")\n",
    "\n",
    "- This means that the python installation was succesfull as you have started the python interpreter. To exit the interpreter type `quit()` and press `Return`.\n",
    "\n",
    "- Next we will install Pygame. In the Terminal type the following and press `Return`:\n",
    "\n",
    "```bash\n",
    "python3 -m pip install pygame --user\n",
    "```\n",
    "- To check whether the installatio worked type the following and press `Return`:\n",
    "\n",
    "```bash\n",
    "python3 -m pygame.examples.aliens\n",
    "```\n",
    "\n",
    "- If the program starts then pygame is installed sucessfully."
   ]
  },
  {
   "cell_type": "markdown",
   "metadata": {},
   "source": [
    "## Mac\n",
    "If you are using a Mac with the OS X operating system follow these steps:\n",
    "\n",
    "- Go to"
   ]
  },
  {
   "cell_type": "markdown",
   "metadata": {},
   "source": []
  },
  {
   "cell_type": "markdown",
   "metadata": {},
   "source": []
  }
 ],
 "metadata": {
  "kernelspec": {
   "display_name": "Python 3",
   "language": "python",
   "name": "python3"
  },
  "language_info": {
   "codemirror_mode": {
    "name": "ipython",
    "version": 3
   },
   "file_extension": ".py",
   "mimetype": "text/x-python",
   "name": "python",
   "nbconvert_exporter": "python",
   "pygments_lexer": "ipython3",
   "version": "3.6.0"
  }
 },
 "nbformat": 4,
 "nbformat_minor": 2
}
