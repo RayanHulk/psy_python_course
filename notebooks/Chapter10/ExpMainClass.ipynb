{
 "cells": [
  {
   "cell_type": "markdown",
   "metadata": {},
   "source": [
    "# The Experiment Main Class\n",
    "In this section we will create a main class that will model and contain the main loop of our experiment. Specifically we will cover the following topics:\n",
    "- The experiment class\n",
    "- Use of other classes and the main module\n",
    "- OOP Final Remarks\n",
    "---"
   ]
  },
  {
   "cell_type": "markdown",
   "metadata": {},
   "source": [
    "## The experiment class "
   ]
  },
  {
   "cell_type": "markdown",
   "metadata": {},
   "source": [
    "In the previous section we have encapsulated the settings of the experiment in the `Settings` class. We can do the same with the experiment logic itself and build an `Experiment` class. For this purpose we create a new module named `experiment.py`. First we import the usual libraries:\n",
    "```python\n",
    "# === import modules === #\n",
    "import pygame\n",
    "import sys\n",
    "# === import custom modules === #\n",
    "import TextPresenter\n",
    "from config import Settings\n",
    "```"
   ]
  },
  {
   "cell_type": "markdown",
   "metadata": {},
   "source": [
    "Next, instead of directly implementing a `run_experiment()` method and calling it at the end, we are creating an `Experiment` class where we will have attributes and methods specific to the experiment. First, we define the constructor:\n",
    "```python\n",
    "# ===  define class that handles experiment logic === #\n",
    "class Experiment():\n",
    "\n",
    "    # constructor\n",
    "    def __init__(self):\n",
    "\n",
    "        # instantiate settings class\n",
    "        self.settings = Settings()\n",
    "\n",
    "        # instance experiment attributes\n",
    "        self.startTime = None\n",
    "        self.color = None\n",
    "        self.t_zero = None\n",
    "        self.rt = None\n",
    "```\n",
    "Note how in the `Experiment` constructor and instance of the `Settings` class is created. This is to ensure that everytime `Experiment` is instantiated, `Settings` is also instantiated. Following this, some attributes are defined that will be used in the experiment logic."
   ]
  },
  {
   "cell_type": "markdown",
   "metadata": {},
   "source": [
    "The functions of the *imperative functional* implementation now als become methods that get `self` passed as argument and prefixed at method call (e.g. `self.process_start_event()`). An example implementation of the methods looks as follows:\n",
    "```python\n",
    "    def start_welcome_block(self):\n",
    "        \"\"\"presents welcome instructions to participant.\"\"\"\n",
    "\n",
    "        # set background\n",
    "        self.settings.screen.fill(self.settings.bgColor)\n",
    "        self.settings.continueVal = 0\n",
    "\n",
    "        while self.settings.continueVal != 1:\n",
    "\n",
    "            # create welcome instruction object\n",
    "            welcomeInst = TextPresenter.text_object(self.settings.inst_welcome, self.settings.instFont,\n",
    "                                                    self.settings.instWidth, self.settings.instHeight)\n",
    "            # blit instructions to screen\n",
    "            self.settings.screen.blit(welcomeInst, (self.settings.screenRect.centerx - (self.settings.instWidth // 2),\n",
    "                                                   self.settings.screenRect.centery - (self.settings.instHeight // 2)))\n",
    "            # flip to foreground\n",
    "            pygame.display.flip()\n",
    "\n",
    "            # process continue event\n",
    "            self.process_continue_event()\n",
    "```"
   ]
  },
  {
   "cell_type": "markdown",
   "metadata": {},
   "source": [
    "These methods can then be called in any other method inside the class as illustrated in the main `run(self)` method of the `Experiment` class:\n",
    "```python\n",
    "    def run(self):\n",
    "        \"\"\"runs the experiment.\"\"\"\n",
    "\n",
    "        # start welcome, inst1 and inst 2 block\n",
    "        self.start_welcome_block()\n",
    "        self.start_inst1_block()\n",
    "        self.start_inst2_block()\n",
    "        # start stroop task\n",
    "        self.start_begintask_block()\n",
    "        self.start_task()\n",
    "        self.start_endtask_block(1.0)\n",
    "\n",
    "        # debriefing and endtask\n",
    "        self.start_goodbye_block()\n",
    "\n",
    "        # save results to file\n",
    "        settings.save_results(self.settings.filename, self.settings.results)\n",
    "\n",
    "        # exit experiment\n",
    "        self.quit_pygame()\n",
    "```\n",
    "As this run method is the entry point to the experiment logic, the question arises where this method is called?\n",
    "In order to call this method, we are going to create another **main** module (`main_stroop.py`) where `Experiment` will be instantiated and `run()` called."
   ]
  },
  {
   "cell_type": "markdown",
   "metadata": {},
   "source": [
    "## Use of other classes and the main module"
   ]
  },
  {
   "cell_type": "markdown",
   "metadata": {},
   "source": [
    "We have now abstracted away the **settings** and **experiment** logic into objects by creating classes. Now it is time to create a final entry point module named `main_stroop.py` to our experimental program where both classes will be instantiated in sequence and the experiment will be run. The final object instantiation logic looks like so:<br><br>\n",
    "**main_stroop.py** --> instance of `Experiment` --> instance of `Settings`\n",
    "<br><br>\n",
    "This way each object is encapsulated and can be tested and debugged by itself with a unique entrypoint to the program. The final main entry point module is implemented like so:\n",
    "```python\n",
    "from experiment import Experiment\n",
    "\n",
    "def main():\n",
    "    # create instance of experiment and call run()\n",
    "    experiment = Experiment()\n",
    "    experiment.run()\n",
    "\n",
    "if __name__ == \"__main__\":\n",
    "    main()\n",
    "```"
   ]
  },
  {
   "cell_type": "markdown",
   "metadata": {},
   "source": [
    "## OOP final remarks"
   ]
  },
  {
   "cell_type": "markdown",
   "metadata": {},
   "source": [
    "OOP is a very powerful concept that enables the developer of a program to create independent objects that can commnicate with each other trough method calls. In the case of developping simple psychology experiments the OOP principles are mostly used to encapsulate code and give the entire implementation more structure, as the code base is rather small compared to more complex programs. So in the context of psychological experiments the functional non-OOP way of building programs is completely sufficient and OOP concepts can be used in addition, but do not have to be used.<br><br>\n",
    "The code for the complete OOP version of the Stroop task from chapter 9 can be found in the following modules:\n",
    "<br><br>\n",
    "**[config.py](https://github.com/imarevic/psy_python_course/blob/master/notebooks/Chapter10/config.py)**\n",
    "<br>\n",
    "**[experiment.py](https://github.com/imarevic/psy_python_course/blob/master/notebooks/Chapter10/experiment.py)**\n",
    "<br>\n",
    "**[main_stroop.py](https://github.com/imarevic/psy_python_course/blob/master/notebooks/Chapter10/main_stroop.py)**\n"
   ]
  }
 ],
 "metadata": {
  "kernelspec": {
   "display_name": "Python 3",
   "language": "python",
   "name": "python3"
  },
  "language_info": {
   "codemirror_mode": {
    "name": "ipython",
    "version": 3
   },
   "file_extension": ".py",
   "mimetype": "text/x-python",
   "name": "python",
   "nbconvert_exporter": "python",
   "pygments_lexer": "ipython3",
   "version": "3.6.9"
  }
 },
 "nbformat": 4,
 "nbformat_minor": 2
}
