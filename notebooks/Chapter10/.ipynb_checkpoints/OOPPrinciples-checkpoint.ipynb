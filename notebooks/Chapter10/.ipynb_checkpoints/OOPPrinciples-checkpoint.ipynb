{
 "cells": [
  {
   "cell_type": "markdown",
   "metadata": {},
   "source": [
    "# Object-oriented Programming Principles\n",
    "In this section we will learn the basics of object-oriented programming (OOP) and how these can be used to structure our code better and make it more reusable. Specifically we will cover the following topics:\n",
    "- Classes\n",
    "- Methods\n",
    "- High-level OOP Principles\n",
    "---"
   ]
  }
 ],
 "metadata": {
  "kernelspec": {
   "display_name": "Python 3",
   "language": "python",
   "name": "python3"
  },
  "language_info": {
   "codemirror_mode": {
    "name": "ipython",
    "version": 3
   },
   "file_extension": ".py",
   "mimetype": "text/x-python",
   "name": "python",
   "nbconvert_exporter": "python",
   "pygments_lexer": "ipython3",
   "version": "3.6.7"
  }
 },
 "nbformat": 4,
 "nbformat_minor": 2
}
