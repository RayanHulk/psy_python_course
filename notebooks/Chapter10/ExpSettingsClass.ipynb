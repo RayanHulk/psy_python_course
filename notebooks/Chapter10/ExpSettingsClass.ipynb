{
 "cells": [
  {
   "cell_type": "markdown",
   "metadata": {},
   "source": [
    "# The Experiment Settings Class\n",
    "In this section we will learn how to use OOP principles to create an experiments settings class that will hold all experiment settings and that we can instantiate in other modules. In doing so, we will use the simplified Stroop experiment that we programmed in chapter 9 and move all functionalities related to settings (e.g. settings dictionary, methods for loading from files, methods for getting and setting instructions text) into a separate **settings class**. Specifically we will cover the following topics:\n",
    "- Settings Class Setup\n",
    "- Modules and Classes\n",
    "- Classes as Independent Entities\n",
    "---"
   ]
  },
  {
   "cell_type": "markdown",
   "metadata": {},
   "source": [
    "## Settings class setup"
   ]
  },
  {
   "cell_type": "markdown",
   "metadata": {},
   "source": [
    "Our goal in this section is to replace the `config.py` settings logic by a settings class that we can then instantiate in our python module were the experiment logic resides. In order to achieve this, we will model all *constants* as class attributes and settings as insztance attributes that can be filled as needed by the respective class methods via **getter and setter methods**."
   ]
  },
  {
   "cell_type": "markdown",
   "metadata": {},
   "source": [
    "First we will move all imports that are related to settings to the `config.py` module:\n",
    "```python\n",
    "# imports\n",
    "import os\n",
    "from collections import OrderedDict\n",
    "from datetime import datetime\n",
    "import csv\n",
    "import random\n",
    "from itertools import zip_longest\n",
    "import pygame\n",
    "```"
   ]
  },
  {
   "cell_type": "markdown",
   "metadata": {},
   "source": [
    "Next, we create a class called `Settings()` and define the constants as class attributes. Note that the results dictionary is also a class attribute:\n",
    "\n",
    "```python\n",
    "class Settings():\n",
    "\n",
    "    # class attributes\n",
    "    bgColor = (180, 180, 180) # bg is light grey\n",
    "    blackColor = (0, 0, 0) # text is black\n",
    "    redColor = (250, 0, 0) # red color\n",
    "    blueColor = (0, 0, 250) # blue color\n",
    "    screenSize = (1200, 800) # set screen size\n",
    "    lineLength = 40 # line length of fixcross\n",
    "    lineWidth = 5 # line width of fixcross\n",
    "    FPS = 60 # frames per second\n",
    "\n",
    "    # results dicts\n",
    "    results = OrderedDict([(\"id\", []),\n",
    "                           (\"age\", []),\n",
    "                           (\"gender\", []),\n",
    "                           (\"major\", []),\n",
    "                           (\"items\", None),\n",
    "                           (\"colors\", None),\n",
    "                           (\"groundtruth\", []),\n",
    "                           (\"responses\", []),\n",
    "                           (\"rts\", []),\n",
    "                                   ])\n",
    "```"
   ]
  },
  {
   "cell_type": "markdown",
   "metadata": {},
   "source": [
    "In the constructor, defined by the `__init__(self)` method, we are placing all settings and fill them with the respective class methods:\n",
    "```python\n",
    "    # instance attributes (constructor)\n",
    "    def __init__(self):\n",
    "\n",
    "        # init experiment and pygame\n",
    "        self.init_pygame()\n",
    "        self.init_experiment()\n",
    "\n",
    "        # variable instance placeholders\n",
    "        self.verPoints = None # placeholder for vert. points of fixcross\n",
    "        self.horPoints = None # placeholder for hor. points of fixcross\n",
    "        self.stimlist = None # placeholder for stimulus list\n",
    "        self.item = None # placeholder for the item to be rendered\n",
    "        self.itemRect = None # placeholder for item rectangle\n",
    "        self.response = None # variable holding temporary response\n",
    "\n",
    "        # instance attributes we fill as needed\n",
    "        self.instWidth = self.screenSize[0] - self.screenSize[0] // 10 # placeholder for instruction width\n",
    "        self.instHeight = self.screenSize[1] - self.screenSize[1] // 10 # placeholder for instruction height\n",
    "        self.instPath = self.create_filepath(\"instructions\") # placeholder for relative path\n",
    "        self.stimuliPath = self.create_filepath(\"stimuli\") # placeholder for stimuli path\n",
    "        self.dataPath = self.create_filepath(\"data\") # pöaceholder for data path\n",
    "        self.continueVal=  0 # boolean value to control continue events\n",
    "        self.starter = 0 # boolean value to control task start events\n",
    "        self.quit = 0 # boolean value to control closing experiment at end\n",
    "        self.filename = self.get_filename() # placeholder for filename\n",
    "\n",
    "        # stimuli loading\n",
    "        self.load_stimuli()\n",
    "\n",
    "        # instructions placeholders\n",
    "        self.inst_welcome = self.load_instructions(\"welcome.txt\") # placeholder for welcome text\n",
    "        self.inst_intro1 = self.load_instructions(\"intro1.txt\") # placeholder for intro 1 text\n",
    "        self.inst_intro2 = self.load_instructions(\"intro2.txt\") # placeholder for intro 2 text\n",
    "        self.inst_startTask = self.load_instructions(\"starttask.txt\") # placeholder for starting task text\n",
    "        self.inst_endTask = self.load_instructions(\"endtask.txt\") # placeholder for end task text\n",
    "        self.inst_goodbye = self.load_instructions(\"goodbye.txt\") # placeholder for goodbye tex\n",
    "        \n",
    "```\n"
   ]
  },
  {
   "cell_type": "markdown",
   "metadata": {},
   "source": [
    "In the constructor there are different sections which all together make up the settings instance attributes. In order for these to be available and usable once the class is instantiated and the constructor is implicitly called, there are some points we have to consider. In the following thes points are explained and broken down in detail:\n",
    "\n",
    "- Initialization of pygame and experiment settings\n",
    "- Placeholders that are empty (`None`) but will be used during experiment\n",
    "- Setting of instance attributes\n",
    "- Stimuli loading and setting of instructions texts\n",
    "\n",
    "\n",
    "*Initialization of pygame and experiment settings*: <br>Note that in the first two lines of the constructor, we call two methods that initialize pygame, as we need it to first initialized in order to use the pygame attributes and methods (e.g. for defining shapes of rectangles). After that we initialize the experiment, where we use the pygame functionalities ti set up the experiments base settings. The implementations of these methods is as follows:\n",
    "```python\n",
    "    def init_pygame(self):\n",
    "        \"\"\"init pygame explicitly.\"\"\"\n",
    "\n",
    "        # initialize pygame modules\n",
    "        pygame.init()\n",
    "        pygame.mouse.set_visible(False) # disable mouse\n",
    "\n",
    "        # set frame rate\n",
    "        clock = pygame.time.Clock()\n",
    "        clock.tick(self.FPS)\n",
    "\n",
    "    def init_experiment(self):\n",
    "        \"\"\"\n",
    "        initializes pygame backends explicitly with\n",
    "        predefined settings.\n",
    "        \"\"\"\n",
    "        # get demographics\n",
    "        self.demographics_input()\n",
    "\n",
    "        # set and innit necessary pygame features\n",
    "        self.screen = pygame.display.set_mode(self.screenSize, pygame.FULLSCREEN) # placeholder for screen instance\n",
    "        self.itemFont = pygame.font.SysFont(\"Arial\", 40) # placeholder for item font\n",
    "        self.instFont = pygame.font.SysFont(\"Arial\", 30) # placeholder for instructions font\n",
    "        self.screenRect = self.screen.get_rect()\n",
    "```"
   ]
  },
  {
   "cell_type": "markdown",
   "metadata": {},
   "source": [
    "*Placeholders*:<br> In the next lines of the constructor, a few atttributes are set to null, so they can letter be filled with values once that settings class is instantiated:\n",
    "```python\n",
    "        # variable instance placeholders\n",
    "        self.verPoints = None # placeholder for vert. points of fixcross\n",
    "        self.horPoints = None # placeholder for hor. points of fixcross\n",
    "        ...\n",
    "```"
   ]
  },
  {
   "cell_type": "markdown",
   "metadata": {},
   "source": [
    "*Setting of instance attributes*:<br> Then, instance attributes that need to have values in it upon instantiation are set. Note that some attributes are set directly (e.g. `self.instWidth = self.screenSize[0] - self.screenSize[0] // 10`) and others are set via a function call (e.g.`self.instPath = self.create_filepath(\"instructions\")`). In this case, filpaths are created for `instructions`, `stimuli`, and `data`. The method implementation is as follows:\n",
    "```python\n",
    "    def create_filepath(self, appended_text_to_abs_path):\n",
    "        \"\"\" get os path and append to it custom directory.\"\"\"\n",
    "\n",
    "        absPath = os.path.abspath(os.curdir)\n",
    "        finalPath = os.path.join(absPath, appended_text_to_abs_path)\n",
    "        return finalPath\n",
    "```\n",
    "\n",
    "Note that when the class methods are called within the class, the `self` keyword always needs to be placed in front of it, because we are referring to the same calss instance. For the same reason `self` needs to be passed as first argument in the funtion definition."
   ]
  },
  {
   "cell_type": "markdown",
   "metadata": {},
   "source": [
    "*Stimuli loading and setting of instructions texts*:<br> In the last part, the text blocks that will be used in the experiment are created (e.g.`self.inst_welcome = self.load_instructions(\"welcome.txt\")`). This is done by using the following method:\n",
    "```python\n",
    "    def load_instructions(self, filename):\n",
    "        \"\"\"\n",
    "        loads instructions from a text file.\n",
    "        arg: name of file\n",
    "        returns: content of file\n",
    "        \"\"\"\n",
    "\n",
    "        # open file\n",
    "        with open(os.path.join(self.instPath, filename), 'r') as file:\n",
    "            infile = file.read()\n",
    "        # return content as string\n",
    "        return infile\n",
    "```"
   ]
  },
  {
   "cell_type": "markdown",
   "metadata": {},
   "source": [
    "As mentioned earlier, important to note here is that most helper methods in the `Settings()` class are used to set instance attributes that can be used once the class is instantiated. However, there are also methods that will be used in the experiment logic. One example is the method for saving results:\n",
    "```python\n",
    "def save_results(self, filename, resultsdict):\n",
    "        \"\"\"\n",
    "        saves results to a csv file.\n",
    "        arg1: filename\n",
    "        arg2: dictionary holding resultsdict\n",
    "        \"\"\"\n",
    "        # open data file\n",
    "        with open(os.path.join(self.dataPath, filename), 'w', newline=\"\") as file:\n",
    "            # create csv writer\n",
    "            w = csv.writer(file, delimiter=';')\n",
    "            # write first row (variable labels)\n",
    "            w.writerow(resultsdict.keys())\n",
    "            # write data row wise\n",
    "            w.writerows(zip_longest(*resultsdict.values()))\n",
    "```\n",
    "This method will be used in the main logic at the end of the experiment."
   ]
  },
  {
   "cell_type": "markdown",
   "metadata": {},
   "source": [
    "## Modules and Classes"
   ]
  },
  {
   "cell_type": "markdown",
   "metadata": {},
   "source": [
    "As you already know python modules can be impored into other modules via the `import` statement. Now that we have a settings class implementation in the config.py module, we can easily import the class into the main `stroop.py` module and use all of the attributes as before. The import and instantiation work like so:\n",
    "```python\n",
    "from config import Settings\n",
    "\n",
    "# instatiate classes\n",
    "settings = Settings()\n",
    "```"
   ]
  },
  {
   "cell_type": "markdown",
   "metadata": {},
   "source": [
    "From there on all the attributes and methods can be accessed via `settings.______`. This is identicall to how we use the pygame **application interface (API)**: `pygame.______`. Now it becomes clear that all libraries that we use (e.g. pygame, etc.) all have classes, methods or plain functions in them that we can use and Pygame is not exception here. Let's take a look at how the `settings` instance can be used in our code:\n",
    "```python\n",
    "def start_welcome_block():\n",
    "    \"\"\"presents welcome instructions to participant.\"\"\"\n",
    "\n",
    "    # set background\n",
    "    settings.screen.fill(settings.bgColor)\n",
    "    settings.continueVal = 0\n",
    "\n",
    "    while settings.continueVal != 1:\n",
    "\n",
    "        # create welcome instruction object\n",
    "        welcomeInst = TextPresenter.text_object(settings.inst_welcome, settings.instFont,\n",
    "                                                settings.instWidth, settings.instHeight)\n",
    "        # blit instructions to screen\n",
    "        settings.screen.blit(welcomeInst, (settings.screenRect.centerx - (settings.instWidth // 2),\n",
    "                                               settings.screenRect.centery - (settings.instHeight // 2)))\n",
    "        # flip to foreground\n",
    "        pygame.display.flip()\n",
    "\n",
    "        # process continue event\n",
    "        process_continue_event()\n",
    "```\n",
    "In this example we use the `start_welcome_block()` function, because here one can see that attributes of `settings` are used via `settings.______` (e.g. `settings.continueVal != 1`)."
   ]
  },
  {
   "cell_type": "markdown",
   "metadata": {},
   "source": [
    "## Classes as Independent Entities"
   ]
  },
  {
   "cell_type": "markdown",
   "metadata": {},
   "source": [
    "So what we have done is separate the settings logic into a settings class that, once instantiated provides us with all necesary settings. Note that this approach is also easier to debug, because we can now create an instance of our class in a test module and test all functionalities. Next, we will abstract even more and create an Experiment and Main class in which even the experiment logic is abstracted.\n",
    "<br>\n",
    "<br>\n",
    "The entire implementation changes that were applied so far can be found in the following python modules:<br><br>\n",
    "**[config.py](https://github.com/imarevic/psy_python_course/blob/master/notebooks/Chapter10/config.py)**\n",
    "<br>\n",
    "**[stroop.py](https://github.com/imarevic/psy_python_course/blob/master/notebooks/Chapter10/stroop.py)**\n",
    "<br><br>\n",
    "All other modules remain the same as in the chapter 9 implementation (e.g. TextPresenter.py, directory structure). Take your time and study the settings class implementation carefully and try to understand how the attributes and methods are used in `stroop.py`."
   ]
  }
 ],
 "metadata": {
  "kernelspec": {
   "display_name": "Python 3",
   "language": "python",
   "name": "python3"
  },
  "language_info": {
   "codemirror_mode": {
    "name": "ipython",
    "version": 3
   },
   "file_extension": ".py",
   "mimetype": "text/x-python",
   "name": "python",
   "nbconvert_exporter": "python",
   "pygments_lexer": "ipython3",
   "version": "3.6.9"
  }
 },
 "nbformat": 4,
 "nbformat_minor": 2
}
