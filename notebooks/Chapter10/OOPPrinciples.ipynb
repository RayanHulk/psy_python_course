{
 "cells": [
  {
   "cell_type": "markdown",
   "metadata": {},
   "source": [
    "# Object-oriented Programming Principles\n",
    "In this section we will learn the basics of object-oriented programming (OOP) and how these can be used to structure our code better and make it more reusable. Specifically we will cover the following topics:\n",
    "- High-level OOP Principles\n",
    "- Classes\n",
    "- Methods\n",
    "- Inheritance\n",
    "---"
   ]
  },
  {
   "cell_type": "markdown",
   "metadata": {},
   "source": [
    "## High-level OOP Principles\n",
    "\n",
    "Object-oriented programming (OOP) is a programming paradigm which allows for structuring a program in a way that properties and behaviors are bundled into individual objects.\n",
    "\n",
    "For instance, an object could represent a person with a name property, age, address, etc., with behaviors like walking, talking, breathing, and running. In the context of psychological experiments an object named `Experiment` could have properties about the experiment (screen, items, cue, etc.) as well as methods allowing for modifying or doing things with this attrinutes (e.g. blitting text, presenting a cue, etc.). In the previous sections we have already used an `experiment.py` module. This module could aslo be implemented as a **class** with **methods** that can be called to handle the procedures in the experiment.\n",
    "\n",
    "Put another way, object-oriented programming is an approach for modeling concrete, real-world things as well as relations between things like companies and employees, students and teachers, or even experiment settings and experiment procedures in the context of psychological experiments.\n",
    "So far, we have used Python built-in data structures (e.g. strings, lists, dictionaries, etc.) for modeling psychological experiments and using some functional programming concepts we got very far. But what about if we want to create more complex data structures and give our program more organization. For example, what if our experiment consists of multiple smaller sub-experiments (e.g. intelligence tests) and we want to use these in a way to not repeat code and be able to extend existing types (e.g. extend a test type by some additional features)? In theses cases (and to give our code more structure) OOP is very useful."
   ]
  },
  {
   "cell_type": "markdown",
   "metadata": {},
   "source": [
    "An object in OOP could thus for example be an experiment that holds certain properties and has methods that do a specific task. So **methods** in the context of OOP are just **functions** but they are now part of the object and thus act on it. The following illustration could be an example of an `Experiment` object:\n"
   ]
  },
  {
   "cell_type": "markdown",
   "metadata": {},
   "source": [
    "<img src=\"experiment_object.png\" alt=\"experiment_object.png\" width=\"200\" height=\"80\" align=\"center\">"
   ]
  },
  {
   "cell_type": "markdown",
   "metadata": {},
   "source": [
    "So objcets encapsulate propertis and functionalities in order for the programmer to be able to use them repeatedly somewhere else. They are a bit like functions in the sens of reusability but, objects can do much more due to the ability to extend them through inheritance to other objects. For example we could have a class `Shape` with a method `draw()`. This method would just have the functionality to draw to the screen. Further, we could then extend the `Shape` class to more specific classes such as `Circle`, `Rectangle`, or `Triangle` and these classes would all inherit the `draw()` functionality from the parent class but in addition also have their own properties and methods. The following illsutraion shows this parent-child relationship:"
   ]
  },
  {
   "cell_type": "markdown",
   "metadata": {},
   "source": [
    "<img src=\"inheritance_relation.png\" alt=\"inheritance_relation.png\" width=\"500\" height=\"300\" align=\"center\">"
   ]
  },
  {
   "cell_type": "markdown",
   "metadata": {},
   "source": [
    "---\n",
    "## Classes"
   ]
  },
  {
   "cell_type": "markdown",
   "metadata": {},
   "source": [
    "In order to understand the above OOP concepts in more detail we will now see how objects can be modelled in Python. First we will introduce the concept of a class which resembles an object. <br>\n",
    "A class is essentially a construct that descripes how things should be defined but does not carry content itseld. Once a class is **instantiated**, it is now an *object* in our program and can be used. So a class is a blueprint for objects and an instance of a class is the object with actual attributes and methods."
   ]
  },
  {
   "cell_type": "markdown",
   "metadata": {},
   "source": [
    "In the following examples we will use **Shapes** and **Subcategories of Shapes** to illustrate the basic concepts of classes. Herer is how we define a class:"
   ]
  },
  {
   "cell_type": "code",
   "execution_count": 1,
   "metadata": {},
   "outputs": [],
   "source": [
    "class Shape(object):\n",
    "    pass"
   ]
  },
  {
   "cell_type": "markdown",
   "metadata": {},
   "source": [
    "The `object` in parentheses specifies the parent class (we will cover this shortly).<br>\n",
    "Note that both `class Shape()` *[with brackets]* and `class Shape` *[without brackets]* are syntactically correct with the former causing syntax errors in verry old python versions (e.g. python 1.x). As we have seen above, classes can have *class attributes* and *instance attributes*. Class attributes are present for all instances of a class, whereas instance attributes can differ between instances. A class with just instance atributes could look like so:"
   ]
  },
  {
   "cell_type": "code",
   "execution_count": 2,
   "metadata": {},
   "outputs": [],
   "source": [
    "class Shape():\n",
    "    \n",
    "    def __init__(self, size, position):\n",
    "        \n",
    "        self.size = size\n",
    "        self.position = position"
   ]
  },
  {
   "cell_type": "markdown",
   "metadata": {},
   "source": [
    "The `__init__()` method here is used to initialize certein attributes of the class once instantiated and thes method is called autimaticall when an instance is created. Note that the self variable is also an instance of the class. Since not all Shapes neccessarily share the same name, we need to be able to assign different values to different instances. Hence the need for the special self variable, which helps to keep track of individual instances of each class. <br>\n",
    "The above class can be instantiated like so:"
   ]
  },
  {
   "cell_type": "code",
   "execution_count": 16,
   "metadata": {},
   "outputs": [
    {
     "name": "stdout",
     "output_type": "stream",
     "text": [
      "We see that both objects are of type class:\n",
      "Shape 1 is of type:  <class '__main__.Shape'>\n",
      "Shape 2 is of type:  <class '__main__.Shape'>\n",
      "Let's get the attribute values for size:\n",
      "Value for size attribute in Shape 1:  5 px\n",
      "Value for size attribute in Shape 2:  10 px\n"
     ]
    }
   ],
   "source": [
    "# instatiate two shapes\n",
    "shape_one = Shape(5, \"left\")\n",
    "shape_two = Shape(10, \"right\")\n",
    "\n",
    "# check what type these objects are\n",
    "print(\"We see that both objects are of type class:\")\n",
    "print(\"Shape 1 is of type: \", type(shape_one))\n",
    "print(\"Shape 2 is of type: \", type(shape_two))\n",
    "\n",
    "# get specific attributes\n",
    "print(\"Let's get the attribute values for size:\")\n",
    "print(\"Value for size attribute in Shape 1: \", shape_one.size, \"px\")\n",
    "print(\"Value for size attribute in Shape 2: \", shape_two.size, \"px\")"
   ]
  },
  {
   "cell_type": "markdown",
   "metadata": {},
   "source": [
    "We can see that the values differ between the two instances. Also, note how we pass the `size` and `position` as values to the class and that these are used automatically by the constructor `def __init__(size, position)` when creating an instance of the class. <br>Now let's add some class attributes:"
   ]
  },
  {
   "cell_type": "code",
   "execution_count": 11,
   "metadata": {},
   "outputs": [],
   "source": [
    "class Shape():\n",
    "    \n",
    "    # class attributes\n",
    "    type = \"Shape\"\n",
    "    \n",
    "    # initializer/constructor (instance attributes)\n",
    "    def __init__(self, size, position):\n",
    "        \n",
    "        self.size = size\n",
    "        self.position = position"
   ]
  },
  {
   "cell_type": "markdown",
   "metadata": {},
   "source": [
    "The class attribute is shared between all instances:"
   ]
  },
  {
   "cell_type": "code",
   "execution_count": 18,
   "metadata": {},
   "outputs": [
    {
     "name": "stdout",
     "output_type": "stream",
     "text": [
      "Let's get the instance attributes:\n",
      "Value for size attribute in Shape 1:  5 px\n",
      "Value for size attribute in Shape 2:  10 px\n",
      "Let's get the class attributes:\n",
      "Value for class attribute in Shape 1:  Shape\n",
      "Value for class attribute in Shape 2:  Shape\n"
     ]
    }
   ],
   "source": [
    "# instatiate two shapes\n",
    "shape_one = Shape(5, \"left\")\n",
    "shape_two = Shape(10, \"right\")\n",
    "\n",
    "# get instance attributes\n",
    "print(\"Let's get the instance attributes:\")\n",
    "print(\"Value for size attribute in Shape 1: \", shape_one.size, \"px\")\n",
    "print(\"Value for size attribute in Shape 2: \", shape_two.size, \"px\")\n",
    "\n",
    "# get class attributes\n",
    "print(\"Let's get the class attributes:\")\n",
    "print(\"Value for class attribute in Shape 1: \", shape_one.type)\n",
    "print(\"Value for class attribute in Shape 2: \", shape_two.type)"
   ]
  },
  {
   "cell_type": "markdown",
   "metadata": {},
   "source": [
    "---\n",
    "## Methods"
   ]
  },
  {
   "cell_type": "markdown",
   "metadata": {},
   "source": [
    "Instance methods are defined inside a class and are used to get contents of an instance or do modifications to the content of an instance. They are syntactically like normal functions, but as the `__init__(self, args)` method, `self` is always passed as the first argument to instance methods."
   ]
  },
  {
   "cell_type": "code",
   "execution_count": 21,
   "metadata": {},
   "outputs": [
    {
     "name": "stdout",
     "output_type": "stream",
     "text": [
      "position is: left\n",
      "new size is: 10\n"
     ]
    }
   ],
   "source": [
    "class Shape():\n",
    "    \n",
    "    # class attributes\n",
    "    type = \"Shape\"\n",
    "    \n",
    "    # initializer/constructor (instance attributes)\n",
    "    def __init__(self, size, position):\n",
    "        \n",
    "        self.size = size\n",
    "        self.position = position\n",
    "    \n",
    "    # method to get and print position\n",
    "    def print_position(self):\n",
    "        return \"position is: {}\".format(self.position)\n",
    "    # method to get, increase and print size\n",
    "    def print_increment_size(self, increase):\n",
    "        \n",
    "        new_size = self.size + increase\n",
    "        return \"new size is: {}\".format(new_size)\n",
    "\n",
    "\n",
    "# instantiate class and call the instance methods\n",
    "inst_shape = Shape(5, \"left\")\n",
    "print(inst_shape.print_position())\n",
    "print(inst_shape.print_increment_size(5))"
   ]
  },
  {
   "cell_type": "markdown",
   "metadata": {},
   "source": [
    "Note how we syntactically access the method through typing `instance.method()` -> example: inst_shape.print_position(). <br>\n",
    "In this example, by calling `inst_shape.print_increment_size(5)` we have incremented `self.size` and saved it in a new instance variable. We can also modify self.size directly like so:"
   ]
  },
  {
   "cell_type": "code",
   "execution_count": 25,
   "metadata": {},
   "outputs": [
    {
     "name": "stdout",
     "output_type": "stream",
     "text": [
      "updated size is: 10\n"
     ]
    }
   ],
   "source": [
    "class Shape():\n",
    "    \n",
    "    # class attributes\n",
    "    type = \"Shape\"\n",
    "    \n",
    "    # initializer/constructor (instance attributes)\n",
    "    def __init__(self, size, position):\n",
    "        \n",
    "        self.size = size\n",
    "        self.position = position\n",
    "    \n",
    "    # method to get and print position\n",
    "    def print_position(self):\n",
    "        return \"position is: {}\".format(self.position)\n",
    "    # method to modify size directly\n",
    "    def print_increment_size(self, increase):\n",
    "        \n",
    "        self.size += increase\n",
    "        return \"updated size is: {}\".format(self.size)\n",
    "\n",
    "\n",
    "# instantiate class and call the instance method\n",
    "inst_shape = Shape(5, \"left\")\n",
    "print(inst_shape.print_increment_size(5))"
   ]
  },
  {
   "cell_type": "markdown",
   "metadata": {},
   "source": [
    "---\n",
    "## Inheritance"
   ]
  },
  {
   "cell_type": "markdown",
   "metadata": {},
   "source": [
    "Lastly, we will cover object inheritance. Inheritance here means that child classes can inherited behaviors from parent classes and also extend or override these.\n",
    "Let's take a look at how we could extend the `Shape()` class through new subclasses `Circle()`, `Rectangle()`, and `Triangle()`."
   ]
  },
  {
   "cell_type": "code",
   "execution_count": 63,
   "metadata": {},
   "outputs": [],
   "source": [
    "# parent shape class that we will extend\n",
    "# (identical to above exmaples)\n",
    "class Shape():\n",
    "    \n",
    "    # class attributes\n",
    "    type = \"Shape\"\n",
    "    \n",
    "    # initializer/constructor (instance attributes)\n",
    "    def __init__(self, size, position):\n",
    "        \n",
    "        self.size = size\n",
    "        self.position = position\n",
    "    \n",
    "    # method to get and print position\n",
    "    def print_position(self):\n",
    "        return \"position is: {}\".format(self.position)\n",
    "    # method to modify size directly\n",
    "    def print_increment_size(self, increase):\n",
    "        \n",
    "        self.size += increase\n",
    "        return \"updated size is: {}\".format(self.size)\n",
    "    \n",
    "class Circle(Shape):\n",
    "    \n",
    "    def __init__(self, size, position, radius):\n",
    "        Shape.__init__(self, size, position)\n",
    "        self.radius = radius\n",
    "    \n",
    "    def print_characteristics(self):\n",
    "        return \"size: {}, position: {}, radius: {}\".format(self.size,\n",
    "                                                           self.position,\n",
    "                                                           self.radius)\n",
    "\n",
    "class Rectangle():\n",
    "    \n",
    "    def __init__(self, size, position, width, height):\n",
    "        Shape.__init__(self, size, position)\n",
    "        self.width = width\n",
    "        self.height = height\n",
    "    \n",
    "    def print_characteristics(self):\n",
    "        return \"size: {}, position: {}, width: {}, height: {}\".format(self.size,\n",
    "                                                           self.position,\n",
    "                                                           self.width,\n",
    "                                                           self.height)\n",
    "\n",
    "class Triangle():\n",
    "    \n",
    "    def __init__(self, size, position, base, height):\n",
    "        Shape.__init__(self, size, position)\n",
    "        self.base = base\n",
    "        self.height = height\n",
    "    \n",
    "    def print_characteristics(self):\n",
    "        return \"size: {}, position: {}, base: {}, height: {}\".format(self.size,\n",
    "                                                           self.position,\n",
    "                                                           self.base,\n",
    "                                                           self.height)"
   ]
  },
  {
   "cell_type": "code",
   "execution_count": 67,
   "metadata": {},
   "outputs": [
    {
     "name": "stdout",
     "output_type": "stream",
     "text": [
      "Circle characterisrics: size: 5, position: right, radius: 3\n",
      "Rectangle characterisrics: size: 5, position: right, width: 5, height: 17\n",
      "Triangle characterisrics: size: 5, position: right, base: 8, height: 16\n"
     ]
    }
   ],
   "source": [
    "# instances of subclasses\n",
    "my_circle = Circle(5, \"right\", 3)\n",
    "my_rectangle = Rectangle(5, \"right\", 5, 17)\n",
    "my_triangle = Triangle(5, \"right\", 8, 16)\n",
    "\n",
    "# method calls from subclasses accessing\n",
    "# parent class attributes\n",
    "print(\"Circle characterisrics:\", my_circle.print_characteristics())\n",
    "print(\"Rectangle characterisrics:\", my_rectangle.print_characteristics())\n",
    "print(\"Triangle characterisrics:\", my_triangle.print_characteristics())"
   ]
  },
  {
   "cell_type": "markdown",
   "metadata": {},
   "source": [
    "Note how, the parent class `Shape()` is passed to the child class (e.g. `Circle(Shape)`). It is also good practice to initialize the parent class constructor in the child class:<br>\n",
    "```python\n",
    "class Circle(Shape):\n",
    "    \n",
    "    def __init__(self, size, position, radius):\n",
    "        Shape.__init__(self, size, position)\n",
    "        self.radius = radius\n",
    "        \n",
    "    ...\n",
    "```"
   ]
  },
  {
   "cell_type": "markdown",
   "metadata": {},
   "source": [
    "Finally, we will can also override attributes from the parent class in a subclass. The following illustrates this:"
   ]
  },
  {
   "cell_type": "code",
   "execution_count": 60,
   "metadata": {},
   "outputs": [
    {
     "name": "stdout",
     "output_type": "stream",
     "text": [
      "5\n",
      "10\n"
     ]
    }
   ],
   "source": [
    "# base classe with class attribute size set\n",
    "class Shape():\n",
    "    size = 5\n",
    "\n",
    "# we do not change class attribute\n",
    "class Circle(Shape):\n",
    "    pass\n",
    "\n",
    "# we override class attribute\n",
    "class Rectangle(Shape):\n",
    "    size = 10\n",
    "\n",
    "# instate classes to demonstrate no-override vs. override\n",
    "# no override\n",
    "my_circle = Circle()\n",
    "print(my_circle.size)\n",
    "\n",
    "# override\n",
    "my_rectangle = Rectangle()\n",
    "print(my_rectangle.size)"
   ]
  },
  {
   "cell_type": "markdown",
   "metadata": {},
   "source": [
    "---\n",
    "This section introduced OOP which is quite different from what we have seen so far on the one hand, but on the other most concepts we have encountered so far can be reused in the context of OOP. For instance, functions inside classes are the same as regular functions, except that now they get passed `self` as first argument and are only available within an instance of that class (can only be used once an instance is created).\n",
    "<br><br>\n",
    "\n",
    "**Take-Home Message:** <br>\n",
    "- classes model objects\n",
    "- classes are blueprints for an object and get instantiated/created \n",
    "- classes have class attributes (same for all instances) and instance attributes (can differ between instances)\n",
    "- classes can have methods which can modify the contents of that class instance\n",
    "- classes can be extended and child classes can override parent class attributes"
   ]
  }
 ],
 "metadata": {
  "kernelspec": {
   "display_name": "Python 3",
   "language": "python",
   "name": "python3"
  },
  "language_info": {
   "codemirror_mode": {
    "name": "ipython",
    "version": 3
   },
   "file_extension": ".py",
   "mimetype": "text/x-python",
   "name": "python",
   "nbconvert_exporter": "python",
   "pygments_lexer": "ipython3",
   "version": "3.6.9"
  }
 },
 "nbformat": 4,
 "nbformat_minor": 2
}
