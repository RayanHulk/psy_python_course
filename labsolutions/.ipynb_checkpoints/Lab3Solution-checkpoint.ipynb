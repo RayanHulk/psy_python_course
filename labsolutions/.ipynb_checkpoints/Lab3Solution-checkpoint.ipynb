{
 "cells": [
  {
   "cell_type": "markdown",
   "metadata": {},
   "source": [
    "# Lab 3 Solution"
   ]
  },
  {
   "cell_type": "markdown",
   "metadata": {},
   "source": [
    "## Exercise 1 (10 points)"
   ]
  },
  {
   "cell_type": "code",
   "execution_count": 1,
   "metadata": {},
   "outputs": [
    {
     "name": "stdout",
     "output_type": "stream",
     "text": [
      "Please enter condition (1, 2, or 3) :2\n",
      "Please take medication B\n"
     ]
    }
   ],
   "source": [
    "# collecting user input\n",
    "userInput = input(\"Please enter condition (1, 2, or 3) :\")\n",
    "condition = int(userInput)\n",
    "\n",
    "# information to be printed dependent on condition\n",
    "cond1 = \"Please take medication A\"\n",
    "cond2 = \"Please take medication B\"\n",
    "cond3 = \"Please take medication C\"\n",
    "\n",
    "## START CODE HERE ## (6 lines of code)\n",
    "if condition == 1:\n",
    "    print(cond1)\n",
    "elif condition == 2:\n",
    "    print(cond2)\n",
    "else:\n",
    "    print(cond3)\n",
    "## END CODE HERE"
   ]
  },
  {
   "cell_type": "markdown",
   "metadata": {},
   "source": [
    "**Expected Result:**\n",
    "<table>\n",
    "<tr>\n",
    "    <td><b>When input = 1<b></td>\n",
    "    <td>Please take medication A</td>\n",
    "<tr>\n",
    "    <td><b>When input = 2<b></td>\n",
    "    <td>Please take medication B</td>\n",
    "<tr>\n",
    "     <td><b>When input = 3<b></td>\n",
    "    <td>Please take medication C</td>\n",
    "<tr>\n",
    "</table>"
   ]
  },
  {
   "cell_type": "markdown",
   "metadata": {},
   "source": [
    "## Exercise 2 (20 points)\n"
   ]
  },
  {
   "cell_type": "code",
   "execution_count": 1,
   "metadata": {},
   "outputs": [
    {
     "name": "stdout",
     "output_type": "stream",
     "text": [
      "Enter an integer from 1 to 99: 40\n",
      "guess is too low\n",
      "Enter an integer from 1 to 99: 50\n",
      "guess is too low\n",
      "Enter an integer from 1 to 99: 70\n",
      "guess is too low\n",
      "Enter an integer from 1 to 99: 80\n",
      "guess is too high\n",
      "Enter an integer from 1 to 99: 75\n",
      "guess is too high\n",
      "Enter an integer from 1 to 99: 73\n",
      "guess is too high\n",
      "Enter an integer from 1 to 99: 71\n",
      "guess is too low\n",
      "Enter an integer from 1 to 99: 72\n",
      "you guessed it!\n"
     ]
    }
   ],
   "source": [
    "# import random module (used to generate a random number)\n",
    "import random\n",
    "# generating random number\n",
    "n = random.randint(1, 99)\n",
    "# asking for first guess\n",
    "guess = int(input(\"Enter an integer from 1 to 99: \"))\n",
    "\n",
    "# infinfite while loop\n",
    "while True:\n",
    "    ## START CODE HERE ## (min. 9 lines of code)\n",
    "    if guess < n:\n",
    "        print(\"guess is too low\")\n",
    "        guess = int(input(\"Enter an integer from 1 to 99: \"))\n",
    "    elif guess > n:\n",
    "        print(\"guess is too high\")\n",
    "        guess = int(input(\"Enter an integer from 1 to 99: \"))\n",
    "    else:\n",
    "        print(\"you guessed it!\")\n",
    "        break\n",
    "    ## END CODE HERE ##"
   ]
  },
  {
   "cell_type": "markdown",
   "metadata": {},
   "source": [
    "**Expected Result:**<br>\n",
    "(Example of one guessing game)\n",
    "<table>\n",
    "<tr>\n",
    "    <td><b>Enter an integer from 1 to 99:<b></td>\n",
    "    <td>40</td>\n",
    "<tr>\n",
    "<tr>\n",
    "    <td>guess is too low</td>\n",
    "<tr>\n",
    "<tr>\n",
    "    <td><b>Enter an integer from 1 to 99:<b></td>\n",
    "    <td>58</td>\n",
    "<tr>\n",
    "    <td>guess is too high</td>\n",
    "<tr>\n",
    "<tr>\n",
    "    <td><b>Enter an integer from 1 to 99:<b></td>\n",
    "    <td>42</td>\n",
    "<tr>\n",
    "    <td>you guessed it!</td>\n",
    "<tr>\n",
    "<tr>\n",
    "</table>"
   ]
  },
  {
   "cell_type": "markdown",
   "metadata": {},
   "source": [
    "## Exercise 3 (20 points)"
   ]
  },
  {
   "cell_type": "code",
   "execution_count": 2,
   "metadata": {},
   "outputs": [
    {
     "name": "stdout",
     "output_type": "stream",
     "text": [
      "triangle-red\n",
      "triangle-green\n",
      "triangle-blue\n",
      "square-red\n",
      "square-green\n",
      "Time is up!\n"
     ]
    }
   ],
   "source": [
    "import time\n",
    "# given stimuli lists\n",
    "list1 = [\"triangle\", \"square\", \"circle\"]\n",
    "list2 = [\"red\", \"green\", \"blue\"]\n",
    "\n",
    "# set rounds to 0\n",
    "rounds = 0\n",
    "\n",
    "# nested for loop\n",
    "for shape in list1:\n",
    "    for color in list2:\n",
    "        # check if rounds smaller than 5\n",
    "        if rounds < 5:\n",
    "            print(shape + \"-\" + color)\n",
    "            time.sleep(1) # print every second\n",
    "            rounds+=1 # increment rounds\n",
    "        else:\n",
    "            break # exit loop\n",
    "    if rounds > 5:\n",
    "        break\n",
    "                \n",
    "# print \"Time is up!\"          \n",
    "print(\"Time is up!\")       "
   ]
  },
  {
   "cell_type": "markdown",
   "metadata": {},
   "source": [
    "**Expected Result:**\n",
    "<table>\n",
    "<tr>\n",
    "    <td>triangle-red</td>\n",
    "<tr>\n",
    "<tr>\n",
    "    <td>triangle-green</td>\n",
    "<tr>\n",
    "<tr>\n",
    "    <td>triangle-blue</td>\n",
    "<tr>\n",
    "<tr>\n",
    "    <td>square-red</td>\n",
    "<tr>\n",
    "<tr>\n",
    "    <td>square-green</td>\n",
    "<tr>\n",
    "<tr>\n",
    "    <td>Time is up!</td>\n",
    "<tr>\n",
    "</table>"
   ]
  },
  {
   "cell_type": "markdown",
   "metadata": {},
   "source": [
    "## Exercise 4 (optional)"
   ]
  },
  {
   "cell_type": "code",
   "execution_count": 2,
   "metadata": {},
   "outputs": [
    {
     "name": "stdout",
     "output_type": "stream",
     "text": [
      " ****  \n",
      " *   * \n",
      " *   * \n",
      " ****  \n",
      " *     \n",
      " *     \n",
      " *     \n",
      "\n"
     ]
    }
   ],
   "source": [
    "# string variable holding the result\n",
    "result=\"\" \n",
    "# for loop iterating over rows\n",
    "for row in range(0,7):\n",
    "    # nested for loop iterating over columns\n",
    "    for column in range(0,7):\n",
    "        # ckeck wehre to place * and add it to the result string \n",
    "        if (column == 1 or ((row == 0 or row == 3) and column > 0 and column < 5) or ((column == 5 or column == 1) and (row == 1 or row == 2))):  \n",
    "            # add * to result string\n",
    "            result=result+\"*\"    \n",
    "        else: \n",
    "            # add blank space to result string\n",
    "            result=result+\" \" \n",
    "    # adding line break at the end of each row\n",
    "    result=result+\"\\n\"    \n",
    "# print result\n",
    "print(result)"
   ]
  }
 ],
 "metadata": {
  "kernelspec": {
   "display_name": "Python 3",
   "language": "python",
   "name": "python3"
  },
  "language_info": {
   "codemirror_mode": {
    "name": "ipython",
    "version": 3
   },
   "file_extension": ".py",
   "mimetype": "text/x-python",
   "name": "python",
   "nbconvert_exporter": "python",
   "pygments_lexer": "ipython3",
   "version": "3.5.2"
  }
 },
 "nbformat": 4,
 "nbformat_minor": 2
}
