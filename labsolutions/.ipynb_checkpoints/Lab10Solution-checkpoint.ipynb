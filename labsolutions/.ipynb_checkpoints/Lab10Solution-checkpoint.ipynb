{
 "cells": [
  {
   "cell_type": "markdown",
   "metadata": {},
   "source": [
    "# Lab 10 Solution\n",
    "---\n"
   ]
  },
  {
   "cell_type": "markdown",
   "metadata": {},
   "source": [
    "## OOP version of Go-NoGo Experiment\n",
    "The solution for this exercise is located in the following modules:<br><br>\n",
    "**[L10_gonogo_solution.py](https://github.com/imarevic/psy_python_course/blob/master/labsolutions/Lab10_gonogo_solution/L10_gonogo_solution.py)**\n",
    "<br><br>\n",
    "Please note that the module depends on the directory structure chosen in this implementation. That is, all paths are relative to the main python module where the experiment is located and all classes implemented in the `oop_config.py` and `oop_experiment.py` modules are imported and instantiated using the given setup in this directory."
   ]
  }
 ],
 "metadata": {
  "kernelspec": {
   "display_name": "Python 3",
   "language": "python",
   "name": "python3"
  },
  "language_info": {
   "codemirror_mode": {
    "name": "ipython",
    "version": 3
   },
   "file_extension": ".py",
   "mimetype": "text/x-python",
   "name": "python",
   "nbconvert_exporter": "python",
   "pygments_lexer": "ipython3",
   "version": "3.6.9"
  }
 },
 "nbformat": 4,
 "nbformat_minor": 2
}
