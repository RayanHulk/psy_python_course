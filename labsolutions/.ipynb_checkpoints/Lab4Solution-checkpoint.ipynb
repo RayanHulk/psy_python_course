{
 "cells": [
  {
   "cell_type": "markdown",
   "metadata": {},
   "source": [
    "# Lab 4 Solution"
   ]
  },
  {
   "cell_type": "markdown",
   "metadata": {},
   "source": [
    "## Exercise 1 (10 points)\n",
    "Implement a function named `power` that takes as input a base and an exponent and returns the base raised to the exponent. If only a number is given, the number should be raised to the power of 2. "
   ]
  },
  {
   "cell_type": "code",
   "execution_count": 2,
   "metadata": {},
   "outputs": [
    {
     "name": "stdout",
     "output_type": "stream",
     "text": [
      "27\n",
      "16\n"
     ]
    }
   ],
   "source": [
    "## START CODE HERE ## (2 lines of code)\n",
    "def power(base, exponent = 2):\n",
    "    return base ** exponent\n",
    "## END CODE HERE ##\n",
    "\n",
    "# Uncomment the following two lines to test your function\n",
    "# print(power(3,3))\n",
    "# print(power(4))"
   ]
  },
  {
   "cell_type": "markdown",
   "metadata": {},
   "source": [
    "**Expected Result:**\n",
    "<table>\n",
    "<tr>\n",
    "    <td>27</td>\n",
    "<tr>\n",
    "    <td>16</td>\n",
    "<tr>\n",
    "</table>"
   ]
  },
  {
   "cell_type": "markdown",
   "metadata": {},
   "source": [
    "## Exercise 2 (10 points)\n",
    "Write a function named `numToList` that takes a number as input and outputs a list where each element corresponds to a digit of the number. For example, when passing `123` as input, a list containing `[1, 2, 3]` shold be returned. Implement it using a for loop.\n",
    "\n",
    "**Hint:** Convert the input to a string using `str()` before iterating."
   ]
  },
  {
   "cell_type": "code",
   "execution_count": 5,
   "metadata": {},
   "outputs": [
    {
     "name": "stdout",
     "output_type": "stream",
     "text": [
      "[1, 2, 3]\n",
      "[4, 8, 2, 7]\n"
     ]
    }
   ],
   "source": [
    "## START CODE HERE ## (5 lines of code)\n",
    "def numToList(number):\n",
    "    List = []\n",
    "    for digit in str(number):\n",
    "        List.append(int(digit))\n",
    "    return List\n",
    "## END CODE HERE ##\n",
    "\n",
    "\n",
    "# Uncomment the following two lines to test your function\n",
    "# print(numToList(123))\n",
    "# print(numToList(4827))"
   ]
  },
  {
   "cell_type": "markdown",
   "metadata": {},
   "source": [
    "**Expected Result:**\n",
    "<table>\n",
    "<tr>\n",
    "    <td>[1, 2, 3]</td>\n",
    "<tr>\n",
    "    <td>[4, 8, 2, 7]</td>\n",
    "<tr>\n",
    "</table>"
   ]
  },
  {
   "cell_type": "markdown",
   "metadata": {},
   "source": [
    "## Exercise 3 (10 points)\n",
    "Write a function named `digitSum` that takes as input a number and returns the digit sum (Quersumme). Implement it using the function `numToList` from Exercise 1 to strip the inputed number to  a list of number elements. Then iterate over that list to calculate the digit sum."
   ]
  },
  {
   "cell_type": "code",
   "execution_count": 7,
   "metadata": {},
   "outputs": [
    {
     "name": "stdout",
     "output_type": "stream",
     "text": [
      "10\n",
      "20\n"
     ]
    }
   ],
   "source": [
    "## START CODE HERE ## (6 lines of code)\n",
    "def digitSum(number):\n",
    "    List = numToList(number)\n",
    "    result = 0\n",
    "    for number in List:\n",
    "        result += number\n",
    "    return result\n",
    "## END CODE HERE ##\n",
    "\n",
    "\n",
    "# Uncomment the following two lines to test your function\n",
    "# print(digitSum(1234))\n",
    "# print(digitSum(479))"
   ]
  },
  {
   "cell_type": "markdown",
   "metadata": {},
   "source": [
    "**Expected Result:**\n",
    "<table>\n",
    "<tr>\n",
    "    <td>10</td>\n",
    "<tr>\n",
    "    <td>20</td>\n",
    "<tr>\n",
    "</table>"
   ]
  },
  {
   "cell_type": "markdown",
   "metadata": {},
   "source": [
    "## Exercise 4 (10 points)\n",
    "Write a function named `fillList` that takes as input a list and a maximum length. The function should fill the list with arbitrary numbers until the length of the list is equal to maximum length. "
   ]
  },
  {
   "cell_type": "code",
   "execution_count": 13,
   "metadata": {},
   "outputs": [
    {
     "name": "stdout",
     "output_type": "stream",
     "text": [
      "[1, 2, 3, 4, 5, 6]\n",
      "[5, 6, 7, 8, 9, 10, 11]\n"
     ]
    }
   ],
   "source": [
    "def fillList(List, Max):\n",
    "    ## START CODE HERE ## (5 lines of code)\n",
    "    lastElement = List[-1]\n",
    "    while len(List) < Max:\n",
    "        lastElement += 1\n",
    "        List.append(lastElement)\n",
    "    return List\n",
    "## END CODE HERE ##\n",
    "\n",
    "# Uncomment the following lines to test your function\n",
    "# myList1 = [1,2,3]\n",
    "# finalList1 = fillList(List = myList1,Max = 6)\n",
    "# print(finalList1)\n",
    "\n",
    "# myList2 = [5]\n",
    "# finalList2 = fillList(List = myList2, Max = 7)\n",
    "# print(finalList2)"
   ]
  },
  {
   "cell_type": "markdown",
   "metadata": {},
   "source": [
    "**Expected Result:**\n",
    "<table>\n",
    "<tr>\n",
    "    <td>[1, 2, 3, 4, 5, 6]</td>\n",
    "<tr>\n",
    "    <td>[5, 6, 7, 8, 9, 10, 11]</td>\n",
    "<tr>\n",
    "</table>"
   ]
  },
  {
   "cell_type": "markdown",
   "metadata": {},
   "source": [
    "## Exercise 5 (10 points)\n",
    "Write a function named _printName_ that takes as input two arguments (surname and name). It should print out the information in a nice format (see expected result below).<br><br>\n",
    "**Important**: The function should be called with a dictionary containing the information as input.<br>\n",
    "**Hint:** recall that \"nice\" string formatting can be achieved with `.format(arg1, arg2)` after a string."
   ]
  },
  {
   "cell_type": "code",
   "execution_count": 23,
   "metadata": {},
   "outputs": [
    {
     "name": "stdout",
     "output_type": "stream",
     "text": [
      "Surname: Max, Name: Mustermann\n"
     ]
    }
   ],
   "source": [
    "# defining a dict\n",
    "myDict = {\"surname\": \"Max\", \"name\": \"Mustermann\"}\n",
    "\n",
    "# function that prints two inputs in a nice format\n",
    "## START CODE HERE ## (2 lines of code)\n",
    "def printName(surname, name):\n",
    "    print(\"Surname: {}, Name: {}\".format(surname, name))\n",
    "## END CODE HERE ##\n",
    "\n",
    "# passing the dict as argument to the function printName()\n",
    "## START CODE HERE ## (1 line of code)\n",
    "printName(**myDict)\n",
    "## END CODE HERE ##"
   ]
  },
  {
   "cell_type": "markdown",
   "metadata": {},
   "source": [
    "**Expected Result:**\n",
    "<table>\n",
    "<tr>\n",
    "    <td>Surname : Max, Name: Mustermann</td>\n",
    "</table>"
   ]
  },
  {
   "cell_type": "markdown",
   "metadata": {},
   "source": [
    "## Exercise 6 (optional)\n",
    "Write comments that explain what the function below is doing. Use multiline comments at the top to explain the broad purpose of the function, as well as comments for each major operation within the function. You can call the function wih some input values (must be of type `int()`)to see what it does.\n",
    "\n",
    "**Hint:**\n",
    "```python\n",
    "def exampleFunction():\n",
    "    \"\"\"\n",
    "    This is a multiline comment explaining the\n",
    "    broad purpose of this function\n",
    "    \"\"\"\n",
    "    return print(\"This is a test\") # this is a normal comment saying that this line prints and returns a string\n",
    "```"
   ]
  },
  {
   "cell_type": "code",
   "execution_count": 70,
   "metadata": {},
   "outputs": [],
   "source": [
    "import time\n",
    "\n",
    "def triangleFunction(size, amount):\n",
    "    \"\"\"\n",
    "    Function that prints varying amount of trinagles with varying siyze to the screen\n",
    "    params: size, amount\n",
    "    returns: None\n",
    "    \"\"\"\n",
    "    \n",
    "    # check if valid arguments are entered\n",
    "    if ((amount > 3) or (size > 5)) or ((amount < 1) or (size < 1)):\n",
    "        raise Exception(\"Specfied inputs are not in the allowed range: \\nThe input for 'size' must range between 1 and 5! \\nThe input for 'amount' must range between 1 and 3! \")\n",
    "        \n",
    "    # start printing\n",
    "    print(\"Printing started...\\n \")\n",
    "    \n",
    "    # start for-loop over amount\n",
    "    for index in range(amount):\n",
    "        \n",
    "        n = 1 # setting index\n",
    "        # while loop for size\n",
    "        while (n <= size): \n",
    "            print(\"*\" * n) # printing n amount of asterixes\n",
    "            n += 1 # incrementing n\n",
    "            time.sleep(1) # wait for 1 sec\n",
    "        \n",
    "        # print trinagles\n",
    "        print(\"{} triangle printed \\n\".format(index+1))\n",
    "\n",
    "    # end printing\n",
    "    print(\"Finished printing!\")\n",
    "\n",
    "# call function to see what it does\n",
    "# choose values for size and amount\n",
    "triangleFunction(size= ... , amount = ...)"
   ]
  }
 ],
 "metadata": {
  "kernelspec": {
   "display_name": "Python 3",
   "language": "python",
   "name": "python3"
  },
  "language_info": {
   "codemirror_mode": {
    "name": "ipython",
    "version": 3
   },
   "file_extension": ".py",
   "mimetype": "text/x-python",
   "name": "python",
   "nbconvert_exporter": "python",
   "pygments_lexer": "ipython3",
   "version": "3.5.2"
  }
 },
 "nbformat": 4,
 "nbformat_minor": 1
}
