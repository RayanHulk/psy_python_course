{
 "cells": [
  {
   "cell_type": "markdown",
   "metadata": {},
   "source": [
    "# Lab 8 Solution\n",
    "---\n"
   ]
  },
  {
   "cell_type": "markdown",
   "metadata": {},
   "source": [
    "## Exercise 1\n",
    "The solution for this exercise is located here:<br><br>\n",
    "**[L8_ex1_solution.py](https://github.com/imarevic/PsyPythonCourse/blob/master/labsolutions/L8_ex1_solution.py)**\n",
    "<br><br>\n",
    "Please note that the file depends on the directory structure that was given in this exercise. That is, a directory named `instructions` containing the 3 text files to be loaded."
   ]
  },
  {
   "cell_type": "markdown",
   "metadata": {},
   "source": [
    "## Exercise 2\n",
    "The solution for this exercise is located here:<br><br>\n",
    "**[L8_ex2_solution.py](https://github.com/imarevic/PsyPythonCourse/blob/master/labsolutions/L8_ex2_solution.py)**\n",
    "<br><br>\n",
    "Please note that the file depends on the directory structure that was given in this exercise. That is, a directory named `instructions` containing the 3 text files to be loaded. The filenames that were used in this solution are `story1.txt`, `story2.txt` and `story3.txt`. A solution in which the text is split among more files is also possible."
   ]
  }
 ],
 "metadata": {
  "kernelspec": {
   "display_name": "Python 3",
   "language": "python",
   "name": "python3"
  },
  "language_info": {
   "codemirror_mode": {
    "name": "ipython",
    "version": 3
   },
   "file_extension": ".py",
   "mimetype": "text/x-python",
   "name": "python",
   "nbconvert_exporter": "python",
   "pygments_lexer": "ipython3",
   "version": "3.5.2"
  }
 },
 "nbformat": 4,
 "nbformat_minor": 2
}
