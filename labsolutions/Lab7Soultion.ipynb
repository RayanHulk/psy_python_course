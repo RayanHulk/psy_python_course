{
 "cells": [
  {
   "cell_type": "markdown",
   "metadata": {},
   "source": [
    "# Lab 7 Solution\n",
    "---\n"
   ]
  },
  {
   "cell_type": "markdown",
   "metadata": {},
   "source": [
    "## Exercise 1\n",
    "The solution for this exercise is located here:<br><br>\n",
    "**[L7_ex1_solution.py](https://github.com/imarevic/PsyPythonCourse/blob/master/labsolutions/L7_ex1_solution.py)**"
   ]
  },
  {
   "cell_type": "markdown",
   "metadata": {},
   "source": [
    "## Exercise 2\n",
    "The solution for this exercise is located here:<br><br>\n",
    "**[L7_ex2_solution.py](https://github.com/imarevic/PsyPythonCourse/blob/master/labsolutions/L7_ex2_solution.py)**"
   ]
  },
  {
   "cell_type": "markdown",
   "metadata": {},
   "source": [
    "## Exercise 3\n",
    "The solution for this exercise is located here:<br><br>\n",
    "**[L7_ex3_solution.py](https://github.com/imarevic/PsyPythonCourse/blob/master/labsolutions/L7_ex3_solution.py)**"
   ]
  },
  {
   "cell_type": "markdown",
   "metadata": {},
   "source": [
    "## Exercise 4 (optional)\n",
    "The solution for this exercise is located here:<br><br>\n",
    "**[L7_ex4_solution.py](https://github.com/imarevic/PsyPythonCourse/blob/master/labsolutions/L7_ex4_solution.py)**"
   ]
  }
 ],
 "metadata": {
  "kernelspec": {
   "display_name": "Python 3",
   "language": "python",
   "name": "python3"
  },
  "language_info": {
   "codemirror_mode": {
    "name": "ipython",
    "version": 3
   },
   "file_extension": ".py",
   "mimetype": "text/x-python",
   "name": "python",
   "nbconvert_exporter": "python",
   "pygments_lexer": "ipython3",
   "version": "3.5.2"
  }
 },
 "nbformat": 4,
 "nbformat_minor": 2
}
