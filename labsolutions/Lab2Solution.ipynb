{
 "cells": [
  {
   "cell_type": "markdown",
   "metadata": {},
   "source": [
    "# Lab 2 Solution\n",
    "\n",
    "---"
   ]
  },
  {
   "cell_type": "markdown",
   "metadata": {
    "collapsed": true
   },
   "source": [
    "## Exercise 1 (5 points)\n",
    "\n",
    "First, assign the following information to the respective variables:\n",
    "- experiment name: \"Stroop Task\"\n",
    "- session number: 1\n",
    "- participant number : 001\n",
    "\n",
    "Then print out the contents of the variables (separated by spaces) by using only **one** `print()` statement.<br>\n",
    "\n",
    "**Tip:** Python cannot store 001 as a number. Try storing it as a string."
   ]
  },
  {
   "cell_type": "code",
   "execution_count": 1,
   "metadata": {},
   "outputs": [
    {
     "name": "stdout",
     "output_type": "stream",
     "text": [
      "Stroop Task 1 001\n"
     ]
    }
   ],
   "source": [
    "# assigning information to variables\n",
    "## START CODE HERE ## (3 lines of code)\n",
    "expName = \"Stroop Task\"\n",
    "sessionNumber = 1\n",
    "partNumber = \"001\"\n",
    "## END CODE HERE ##\n",
    "\n",
    "# printing contents in one line\n",
    "## START CODE HERE ## (1 line of code)\n",
    "print(expName, sessionNumber, partNumber)\n",
    "## END CODE HERE ##"
   ]
  },
  {
   "cell_type": "markdown",
   "metadata": {
    "collapsed": true
   },
   "source": [
    "**Expected Result:**\n",
    "<table>\n",
    "<tr>\n",
    "    <td>Stroop Task 1 001</td>\n",
    "</table>"
   ]
  },
  {
   "cell_type": "markdown",
   "metadata": {},
   "source": [
    "## Exercise 2 (5 points)\n",
    "You are programming an experiment and you are given the following parameters about your screen dimensions:\n",
    "- screen height = 950 \n",
    "- screen width = 420\n",
    "\n",
    "First, calculate the center points of the screen by dividing the screen height and width by 2. Store the results in two variables named:\n",
    "\n",
    "`screenHeightHalf`\n",
    "\n",
    "`screenWidthHalf`\n",
    "\n",
    "Then create two new variables (`newScreenHeight` and `newScreenWidth`) for which you double the size of the original variables `screenHeight` and `screenWidth`.\n",
    "\n",
    "Finally, check if the original screen height equals the original screen width (i.e. check of the screen dimensions are a square). The result should be a boolean value (`True` or `False`) that youn can store in the variable `sizeCheck`."
   ]
  },
  {
   "cell_type": "code",
   "execution_count": 2,
   "metadata": {},
   "outputs": [
    {
     "name": "stdout",
     "output_type": "stream",
     "text": [
      "screen height half:  475.0\n",
      "screen width half:  210.0\n",
      "new screen height:  1900\n",
      "new screen width :  840\n",
      "screen is a square?? :  False\n"
     ]
    }
   ],
   "source": [
    "# given screen width and height\n",
    "screenHeight = 950\n",
    "screenWidth = 420\n",
    "\n",
    "# calculating center points of screen\n",
    "## START CODE HERE ## (2 lines of code)\n",
    "screenHeightHalf = screenHeight/2\n",
    "screenWidthHalf = screenWidth/2\n",
    "## END CODE HERE ##\n",
    "\n",
    "# doubeling original screen dimensions\n",
    "## START CODE HERE ## (2 lines of code)\n",
    "newScreenHeight = screenHeight * 2\n",
    "newScreenWidth = screenWidth * 2\n",
    "## END CODE HERE ##\n",
    "\n",
    "# checking if original screen is a square\n",
    "## START CODE HERE ## (1 line of code)\n",
    "sizeCheck = screenHeight == screenWidth\n",
    "## END CODE HERE ##\n",
    "\n",
    "\n",
    "# printing everything\n",
    "print(\"screen height half: \", screenHeightHalf)\n",
    "print(\"screen width half: \", screenWidthHalf)\n",
    "print(\"new screen height: \", newScreenHeight)\n",
    "print(\"new screen width : \", newScreenWidth)\n",
    "print(\"screen is a square?? : \", sizeCheck)"
   ]
  },
  {
   "cell_type": "markdown",
   "metadata": {},
   "source": [
    "**Expected Result:**\n",
    "<table>\n",
    "<tr>\n",
    "    <td><b>screen height half:<b></td>\n",
    "    <td>475.0</td>\n",
    "<tr>\n",
    "<tr>\n",
    "    <td><b>screen width half:<b></td>\n",
    "    <td>210.0</td>\n",
    "<tr>\n",
    "<tr>\n",
    "    <td><b>new screen height:<b></td>\n",
    "    <td>1900</td>\n",
    "<tr>\n",
    "<tr>\n",
    "    <td><b>new screen width:<b></td>\n",
    "    <td>840</td>\n",
    "<tr>\n",
    "<tr>\n",
    "    <td><b>screen is a square??:<b></td>\n",
    "    <td>False</td>\n",
    "<tr>\n",
    "</table>"
   ]
  },
  {
   "cell_type": "markdown",
   "metadata": {
    "collapsed": true
   },
   "source": [
    "## Exercise 3 (10 points)\n",
    "Write python code that collects the following demographic information from the user:\n",
    "- age\n",
    "- gender\n",
    "- major\n",
    "- handedness\n",
    "\n",
    "Also, store all of the information in a dictionairy."
   ]
  },
  {
   "cell_type": "code",
   "execution_count": 6,
   "metadata": {},
   "outputs": [
    {
     "name": "stdout",
     "output_type": "stream",
     "text": [
      "Please enter your age :28\n",
      "Please enter your gender (male/female): male\n",
      "Please enter your major: Psychology\n",
      "Are you right or left handed? right\n"
     ]
    }
   ],
   "source": [
    "## demographic information collection\n",
    "## START CODE HERE ## (4 lines of code)\n",
    "age = input(\"Please enter your age :\")\n",
    "gender = input(\"Please enter your gender (male/female): \")\n",
    "major = input(\"Please enter your major: \")\n",
    "handedness = input(\"Are you right or left handed? \")\n",
    "## END CODE HERE ##\n",
    "\n",
    "# storing input in a dictionairy\n",
    "## START CODE HERE ## (4 lines of code)\n",
    "demographics = {\"age\" : age,\n",
    "               \"gender\" : gender, \n",
    "               \"major\" : major,\n",
    "               \"handedness\" : handedness}\n",
    "## END CODE HERE ##"
   ]
  },
  {
   "cell_type": "markdown",
   "metadata": {},
   "source": [
    "**Expected Result:**\n",
    "<table>\n",
    "<tr>\n",
    "    <td><b>age:<b></td>\n",
    "    <td>input for age (e.g. 21)</td>\n",
    "<tr>\n",
    "<tr>\n",
    "    <td><b>gender:<b></td>\n",
    "    <td>input for gender (e.g. male or female)</td>\n",
    "<tr>\n",
    "<tr>\n",
    "    <td><b>major:<b></td>\n",
    "    <td>input for major (e.g. Psychology)</td>\n",
    "<tr>\n",
    "<tr>\n",
    "    <td><b>handedness:<b></td>\n",
    "    <td>input for handedness (e.g. lefty or righty)</td>\n",
    "<tr>\n",
    "</table>"
   ]
  },
  {
   "cell_type": "markdown",
   "metadata": {},
   "source": [
    "## Exercise 4 (15 points)\n",
    "Read in the following file (make sure it is stored in the same directory as this notebook):\n",
    "\n",
    "[instructions.txt](https://github.com/imarevic/PsyPythonCourse/blob/master/labs/Lab2/instructions.txt)\n",
    "\n",
    "Print the contents of the file to the screen."
   ]
  },
  {
   "cell_type": "code",
   "execution_count": 36,
   "metadata": {},
   "outputs": [
    {
     "name": "stdout",
     "output_type": "stream",
     "text": [
      "Welcome to this Experiment,\n",
      "\n",
      "This is the instructions file that should be read\n",
      "and printed to the screen.\n",
      "If you see these instructions than you read the file\n",
      "correctly and printed its contents.\n",
      "\n",
      ";)\n",
      "\n"
     ]
    }
   ],
   "source": [
    "# reading in instructions.txt file\n",
    "## START CODE HERE ## (2 lines of code)\n",
    "with open('instructions.txt', 'r') as file:\n",
    "    readfile = file.read()\n",
    "## END CODE HERE ##\n",
    "\n",
    "# printing contents\n",
    "## START CODE HERE ## (1 line of code)\n",
    "print(readfile)\n",
    "## END CODE HERE ##"
   ]
  },
  {
   "cell_type": "markdown",
   "metadata": {},
   "source": [
    "**Expected Result:**\n",
    "<table>\n",
    "<tr>\n",
    "    <td>Welcome to this Experiment, <br><br>\n",
    "\n",
    "This is the instructions file that should be read <br>\n",
    "and printed to the screen.<br>\n",
    "If you see these instructions than you read the file<br>\n",
    "correctly and printed its contents.<br>\n",
    "<br>\n",
    ";)\n",
    "\n",
    "</td>\n",
    "<tr>\n",
    "</table>"
   ]
  },
  {
   "cell_type": "markdown",
   "metadata": {},
   "source": [
    "## Exercise 5 (15 points)\n",
    "Write the the contents of the variable `text` to a file.\n",
    "Give the file the following file name:\n",
    "\n",
    "`textfile.txt`"
   ]
  },
  {
   "cell_type": "code",
   "execution_count": 35,
   "metadata": {},
   "outputs": [
    {
     "name": "stdout",
     "output_type": "stream",
     "text": [
      "This is a string that should be written to a file. \n",
      "We wish you good luck with writing this to disk ;)\n"
     ]
    }
   ],
   "source": [
    "# text variable with content\n",
    "text = \"This is a string that should be written to a file. \\nWe wish you good luck with writing this to disk ;)\"\n",
    "\n",
    "# writig string data to files\n",
    "## START CODE HERE ## (2 lines of code)\n",
    "with open('textfile.txt' , 'w') as file:\n",
    "    file.write(text)\n",
    "## END CODE HERE ##\n",
    "    \n",
    "# -------- check if written correctly ------ #\n",
    "# open resonses file\n",
    "with open('textfile.txt', 'r') as file:\n",
    "    readfile = file.read()\n",
    "\n",
    "# print contents of file\n",
    "print(readfile)"
   ]
  },
  {
   "cell_type": "markdown",
   "metadata": {},
   "source": [
    "**Expected Result:**\n",
    "<table>\n",
    "<tr>\n",
    "    <td>This is a string that should be written to a file. <br>\n",
    "We wish you good luck with writing this to disk ;) </td>\n",
    "<tr>\n",
    "</table>"
   ]
  },
  {
   "cell_type": "markdown",
   "metadata": {},
   "source": [
    "## Exercise 6 (optional)\n",
    "This exercise is for heavy drinkers who want to find out more about certain cocktails that are stored in a data structure named `cocktails`.<br>\n",
    "First save the following file in the same folder as this notebook:<br><br>\n",
    "[cocktails.py](https://github.com/imarevic/PsyPythonCourse/blob/master/labs/Lab2/cocktails.py)<br><br>\n",
    "Answer the questions about the cocktails. You can type your code below each question.\n",
    "\n",
    "**Tip:** Search the internet if you are not sure how to answer a particular question. Research is a central part to programming ;)"
   ]
  },
  {
   "cell_type": "code",
   "execution_count": 25,
   "metadata": {},
   "outputs": [
    {
     "name": "stdout",
     "output_type": "stream",
     "text": [
      "<class 'list'>\n",
      "77\n",
      "Vesper\n",
      "[{'unit': 'cl', 'ingredient': 'Gin', 'amount': 6}, {'unit': 'cl', 'ingredient': 'Vodka', 'amount': 1.5}, {'unit': 'cl', 'ingredient': 'Lillet Blonde', 'amount': 0.75}]\n",
      "0.75\n",
      "False\n"
     ]
    }
   ],
   "source": [
    "# We 'import' a variable from another file\n",
    "# using this syntax\n",
    "from cocktails import cocktails\n",
    "\n",
    "# You can take a look at the contents of cocktails\n",
    "# print(cocktails)\n",
    "\n",
    "# Looks nasty, isn't it?\n",
    "\n",
    "# First, get familiar with the structure of this giant object\n",
    "# What is the main data structure?\n",
    "print(type(cocktails))\n",
    "# How many cocktails does it contain?\n",
    "print(len(cocktails))\n",
    "# What is the first cocktail's name?\n",
    "print(cocktails[0][\"name\"])\n",
    "# What are the ingredients and how many are they?\n",
    "print(cocktails[0][\"ingredients\"])\n",
    "# What amount of Lillet Blonde does one need for this cocktail?\n",
    "print(cocktails[0][\"ingredients\"][2][\"amount\"])\n",
    "# You have 4 cl of Gin, and want to prepare the cocktail.\n",
    "# Find out with one line of code, whether 4 cl of Gin is enough\n",
    "# for the cocktail (Hint: look at ingredients again)\n",
    "print(cocktails[0][\"ingredients\"][0][\"amount\"] < 4)"
   ]
  },
  {
   "cell_type": "markdown",
   "metadata": {},
   "source": [
    "## Exercise 7 (optional)\n",
    "In this exercise you are asked to perform the following tasks sequentially:\n",
    "- read in the following file: [sometext.txt](https://github.com/imarevic/PsyPythonCourse/blob/master/labs/Lab2/sometext.txt) (make sure the file is located in the same directory as this notebook)\n",
    "- append the following line to the list: \"Yes I will.\\n\"\n",
    "- shuffle the list and print the contents again.\n",
    "- save the file as `outfile.txt`.\n",
    "\n",
    "**Tip:** Do some research in the python documentation how to split a string and how to shuffle list items.\n"
   ]
  },
  {
   "cell_type": "code",
   "execution_count": 39,
   "metadata": {},
   "outputs": [],
   "source": [
    "# importing random module\n",
    "import random\n",
    "# set seed (for reproducibility)\n",
    "random.seed(123)\n",
    "\n",
    "# open file and store each line in a list\n",
    "## START CODE HERE ## (2 lines of code)\n",
    "with open('sometext.txt' ,'r') as file:\n",
    "    inputlist = file.readlines()\n",
    "## END CODE HERE ##\n",
    "\n",
    "# append new sentence to the list\n",
    "## START CODE HERE ## (1 line of code)\n",
    "inputlist.append(\"Yes I will.\\n\")\n",
    "## END CODE HERE ##\n",
    "\n",
    "# shuffle list\n",
    "## START CODE HERE ## (1 line of code)\n",
    "random.shuffle(inputlist)\n",
    "## END CODE HERE ##\n",
    "\n",
    "# write new list to file\n",
    "## START CODE HERE ## (2 lines of code)\n",
    "with open('outfile.txt', 'w') as file:\n",
    "    file.writelines(inputlist)\n",
    "## END CODE HERE ##"
   ]
  }
 ],
 "metadata": {
  "kernelspec": {
   "display_name": "Python 3",
   "language": "python",
   "name": "python3"
  },
  "language_info": {
   "codemirror_mode": {
    "name": "ipython",
    "version": 3
   },
   "file_extension": ".py",
   "mimetype": "text/x-python",
   "name": "python",
   "nbconvert_exporter": "python",
   "pygments_lexer": "ipython3",
   "version": "3.5.2"
  }
 },
 "nbformat": 4,
 "nbformat_minor": 2
}
