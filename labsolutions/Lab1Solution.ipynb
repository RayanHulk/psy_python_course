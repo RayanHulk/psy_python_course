{
 "cells": [
  {
   "cell_type": "markdown",
   "metadata": {},
   "source": [
    "# Lab 1 Solution\n",
    "\n",
    "---\n",
    "\n",
    "## Exercise 1\n",
    "\n",
    "To find out your computers name type the following and hit Return:\n",
    "\n",
    "```bash\n",
    "hostname\n",
    "```"
   ]
  },
  {
   "cell_type": "markdown",
   "metadata": {},
   "source": [
    "## Exercise 2\n",
    "\n",
    "The task was to create the following path sequentially:\n",
    "\n",
    "```bash\n",
    "temp/example/exercises/final\n",
    "```\n",
    "\n",
    "This can be done by creating a directory then changing into that directory and so on. If the following commands are entered one at a time and Return is pressed after each line, the path will be created:\n",
    "\n",
    "```bash\n",
    "mkdir temp\n",
    "cd temp\n",
    "mkdir example\n",
    "cd example\n",
    "mkdir exercise\n",
    "cd exercise\n",
    "mkdir final\n",
    "```\n"
   ]
  },
  {
   "cell_type": "markdown",
   "metadata": {},
   "source": [
    "## Exercise 3\n",
    "\n",
    "The task was to move to the directory `final` and create the following files:\n",
    "\n",
    "`textfile.txt` <br>\n",
    "`secondtext.txt` <br>\n",
    "`emptyPython.py` <br>\n",
    "`emptyword.doc` <br>\n",
    "\n",
    "Finally, we had to check if the files were created correctly by listing them.\n",
    "\n",
    "To change to the directory `final`, we type the following and hit Return:\n",
    "```bash\n",
    "cd temp\\example\\exercises\\final\n",
    "```\n",
    "\n",
    "To create the files, we type each of the following lines and hit Return after each line:\n",
    "\n",
    "```bash\n",
    "echo . > textfile.txt\n",
    "echo . > secondtext.txt\n",
    "echo . > emptyPython.py\n",
    "echo . > emptyWord.doc\n",
    "```\n",
    "\n",
    "To check if the files were created, we type the following and hit Return:\n",
    "```bash\n",
    "dir\n",
    "```"
   ]
  },
  {
   "cell_type": "markdown",
   "metadata": {},
   "source": [
    "## Exercise 4\n",
    "\n",
    "\n",
    "The task was to remove all the files and directories that were created in Exercise 2 and 3.\n",
    "\n",
    "First, we will delete all files within the directory `final`. To do this, we execute the following command within the `final` directory:\n",
    "\n",
    "```bash\n",
    "del textfile.txt secondtext.txt emptyPython.py emptyWord.doc\n",
    "```\n",
    "\n",
    "Now `final` should be empty. Next, we change one directory up in the hirarchy. This means we go back into the directory `exercises`. Then we delete the directory `final`. This process is repeated until the entire path is deleted.\n",
    "Asuming you are in the `final` directory, the following commands will do the job:\n",
    "\n",
    "```bash\n",
    "cd ..\n",
    "rmdir final\n",
    "cd ..\n",
    "rmdir exercises\n",
    "cd ..\n",
    "rmdir example\n",
    "cd ..\n",
    "rmdir temp\n",
    "```"
   ]
  },
  {
   "cell_type": "markdown",
   "metadata": {},
   "source": [
    "## Exercise 5\n",
    "\n",
    "The task was to start the python interpreter in the command line and calculate the result of the following:\n",
    "\n",
    "`(((2*3) + 3) - 3) * 7`\n",
    "\n",
    "To start the python interpreter, we type `python` and hit Return:\n",
    "\n",
    "Next, we simply type the above operations and hit Return. Finally, we exit the interpreter:\n",
    "```python\n",
    "> (((2*3) + 3) - 3) * 7\n",
    "> 42\n",
    "> quit()\n",
    "```\n"
   ]
  },
  {
   "cell_type": "markdown",
   "metadata": {},
   "source": [
    "## Exercise 6\n",
    "\n",
    "The task was to copy the following python script into a texteditor and save it as:\n",
    "\n",
    "`exercise1.py`"
   ]
  },
  {
   "cell_type": "markdown",
   "metadata": {},
   "source": [
    "```python\n",
    "# Sentences\n",
    "a = 'You have completed you first lab!'\n",
    "b = 'You failed completely'\n",
    "c = 'Stop programming'\n",
    "d = 'Now you know how to use the command line'\n",
    "e = 'and execute python programs.'\n",
    "f = 'Congrats!'\n",
    "g = 'This will never get printed'\n",
    "h = 'We will see you next week.'\n",
    "i = 'Bye'\n",
    "j = 'This will never get printed'\n",
    "x = ''\n",
    "\n",
    "# Do nonsense comparison and print result\n",
    "if g != j:\n",
    "    def useless():\n",
    "        var1 = 2*3\n",
    "        var2 = 3\n",
    "        var3 = 5-2\n",
    "        \n",
    "        result = (var1 + var2) * var3\n",
    "        return result\n",
    "\n",
    "else:\n",
    "    lines = [a, d, e, x, f, x, h, i]\n",
    "    message = '\\n'.join(lines)\n",
    "    print(message)\n",
    "```"
   ]
  },
  {
   "cell_type": "markdown",
   "metadata": {},
   "source": [
    "To execute this program, we type the following in the console:\n",
    "```bash\n",
    "python exercise1.py\n",
    "```\n",
    "\n",
    "The following result appears:\n",
    "\n",
    "```bash\n",
    "You have completed you first lab!\n",
    "Now you know how to use the command line\n",
    "and execute python programs.\n",
    "\n",
    "Congrats!\n",
    "\n",
    "We will see you next week.\n",
    "Bye\n",
    "```\n"
   ]
  }
 ],
 "metadata": {
  "kernelspec": {
   "display_name": "Python 3",
   "language": "python",
   "name": "python3"
  },
  "language_info": {
   "codemirror_mode": {
    "name": "ipython",
    "version": 3
   },
   "file_extension": ".py",
   "mimetype": "text/x-python",
   "name": "python",
   "nbconvert_exporter": "python",
   "pygments_lexer": "ipython3",
   "version": "3.6.3"
  }
 },
 "nbformat": 4,
 "nbformat_minor": 2
}
