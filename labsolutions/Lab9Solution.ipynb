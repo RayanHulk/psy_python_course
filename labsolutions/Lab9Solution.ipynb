{
 "cells": [
  {
   "cell_type": "markdown",
   "metadata": {},
   "source": [
    "# Lab 9 Solution\n",
    "---\n"
   ]
  },
  {
   "cell_type": "markdown",
   "metadata": {},
   "source": [
    "## Go-NoGo Experiment\n",
    "The solution for this exercise is located here:<br><br>\n",
    "**[L9_gonogo_solution.py](https://github.com/imarevic/PsyPythonCourse/blob/master/labsolutions/Lab9_gonogo_solution/L9_gonogo_solution.py)**\n",
    "<br><br>\n",
    "Please note that the file depends on the directory structure chosen in this implementation. That is, all paths are relative to the main python module where the experiment is located."
   ]
  }
 ],
 "metadata": {
  "kernelspec": {
   "display_name": "Python 3",
   "language": "python",
   "name": "python3"
  },
  "language_info": {
   "codemirror_mode": {
    "name": "ipython",
    "version": 3
   },
   "file_extension": ".py",
   "mimetype": "text/x-python",
   "name": "python",
   "nbconvert_exporter": "python",
   "pygments_lexer": "ipython3",
   "version": "3.6.9"
  }
 },
 "nbformat": 4,
 "nbformat_minor": 2
}
