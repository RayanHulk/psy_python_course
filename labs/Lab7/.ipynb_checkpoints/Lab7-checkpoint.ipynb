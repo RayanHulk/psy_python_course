{
 "cells": [
  {
   "cell_type": "markdown",
   "metadata": {},
   "source": [
    "# Lab 7\n",
    "\n",
    "In this lab you will work on several exercises related to the use of PyGame Event Handling and the saving od results to a csv file. For each exercise we will provide a python script that you need to complete. For example:\n",
    "\n",
    "<strong><mark>samplelab.py</mark></strong>\n",
    "\n",
    "***This file will contain the code that you need to complete!***\n",
    "\n",
    "---\n",
    "In some of the scripts you will find parts that you are asked to complete. These parts are enclosed by the following comments:\n",
    "\n",
    "```python\n",
    "## START CODE HERE ## (2 lines od code)\n",
    "your python code\n",
    "more of your python code\n",
    "## END CODE HERE ##\n",
    "```\n",
    "In other exercises you will be asked to modify the existing code. In these cases, no hints where to modify the code will be given.\n",
    "\n",
    "---\n",
    "\n",
    "Students from Heidelberg University are asked to **save their python script** of each exercise. After completing the exercises, please upload all scripts to Moodle in a zip-File. <br>\n",
    "In this lab, a total of **50 points** can be achieved.\n",
    "\n",
    "---"
   ]
  },
  {
   "cell_type": "markdown",
   "metadata": {},
   "source": [
    "## Exercise 1 (15 points)"
   ]
  },
  {
   "cell_type": "markdown",
   "metadata": {},
   "source": [
    "In this exercise your task will be to modify an existing program in the following ways:\n",
    "- Currently, the program presents a blue triangle for 5 seconds. Modify the program to display the triangle indefinitely, and enable the user to exit the program.\n",
    "- Once the user presses the **R-KEY** on the keyboard, make the color of the triangle change to red and have that red triangle be on the screen for 3 seconds. After this time, the program should close automatically.\n",
    "\n",
    "Here is the program: <br><br>\n",
    "**[ex1.py](https://github.com/imarevic/PsyPythonCourse/blob/master/labs/Lab7/ex1.py)**"
   ]
  },
  {
   "cell_type": "markdown",
   "metadata": {},
   "source": [
    "## Exercise 2 (15 points)"
   ]
  },
  {
   "cell_type": "markdown",
   "metadata": {},
   "source": [
    "In this exercise you are given a list of tuples named `results`. Your task is the following:\n",
    "- Convert that dictionary to an `OrderedDict()`. The first tuple element should be the key and the second element the value.\n",
    "- Save the contents of the resulting dictionary to a csv file. Write a function that does this and call the function to check if it behaves correctly.\n",
    "\n",
    "Here is the program containing the `results` list of tuples: <br><br>\n",
    "**[ex2.py](https://github.com/imarevic/PsyPythonCourse/blob/master/labs/Lab7/ex2.py)**"
   ]
  },
  {
   "cell_type": "markdown",
   "metadata": {},
   "source": [
    "## Exercise 3 (20 points)"
   ]
  },
  {
   "cell_type": "markdown",
   "metadata": {},
   "source": [
    "In this exercise you are given a program that is supposed to present circles in differing colors one at a time. Each presentation is followed by a fixation cross. The participant's task will be to click on the circles as soon as they appear.<br>\n",
    "Your task will be to implement a function called `processMouseEvents()` that prints the following to the console depending on whether the participant clicked **inside** or **outside** the circle:\n",
    "- print *Hit!* for mouse clicks inside the circle.\n",
    "- print *Miss!* for mouse clicks outside the circle. \n",
    "\n",
    "<br>\n",
    "Here is the program: <br><br>\n",
    "**[ex3.py](https://github.com/imarevic/PsyPythonCourse/blob/master/labs/Lab7/ex3.py)**\n",
    "\n",
    "<br>\n",
    "Also make sure that the function `processMouseEvents()` keeps the ability of exiting the program.\n",
    "<br><br>\n",
    "**Hint:** Look at the functions `drawCircle(color)` and `startPresentation()`. There you see that the function you are asked to implement should set the variable `expGlobals[\"response\"]` to `1` for hits and `0` for misses."
   ]
  },
  {
   "cell_type": "markdown",
   "metadata": {},
   "source": [
    "## Exercise 4 (optional)"
   ]
  },
  {
   "cell_type": "markdown",
   "metadata": {},
   "source": [
    "In this exercise ..."
   ]
  }
 ],
 "metadata": {
  "kernelspec": {
   "display_name": "Python 3",
   "language": "python",
   "name": "python3"
  },
  "language_info": {
   "codemirror_mode": {
    "name": "ipython",
    "version": 3
   },
   "file_extension": ".py",
   "mimetype": "text/x-python",
   "name": "python",
   "nbconvert_exporter": "python",
   "pygments_lexer": "ipython3",
   "version": "3.5.2"
  }
 },
 "nbformat": 4,
 "nbformat_minor": 2
}
