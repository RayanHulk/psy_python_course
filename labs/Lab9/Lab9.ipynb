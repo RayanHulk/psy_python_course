{
 "cells": [
  {
   "cell_type": "markdown",
   "metadata": {},
   "source": [
    "# Lab 9\n",
    "\n",
    "In this lab you will create your first real graphical experiment, similar to the one we created in Chapter 9 (Stroop Experiment). In this lab, however, your task will be to complete a program to form a simplified Go-NoGo Task. That is, the task should look as follows:<br>\n",
    "- Get demographic input from the console.\n",
    "- Present instructions.\n",
    "- Present circles in RED or GREEN color in random alternation, each preceded by a fixation cross. Each circle should be presented either a maximum of 5 seconds if no response was made by the participant or until the participant responds.\n",
    "- The participant's task is to press the SPACE bar as fast as possible for green circles and withold the response for red circles (see text files with instructions).\n",
    "- Whenever a response was made, record it and save the reaction time. When no response was made, append \"na\" as the reaction time.\n",
    "- Make sure all results are logged correctly and saved to a directory named `data`.\n",
    "\n",
    "Please save the following file on your computer:\n",
    "\n",
    "[gonogo_exp.py](https://github.com/imarevic/PsyPythonCourse/tree/master/labs/Lab9/gonogo_exp.py)\n",
    "\n",
    "***This file contains Lab 9!***\n",
    "\n",
    "---\n",
    "You will also need the following modules:<br><br>\n",
    "*Python Module with Configuaration Dictionaries:*\n",
    "\n",
    "[config.py](https://github.com/imarevic/PsyPythonCourse/tree/master/labs/Lab9/config.py)\n",
    "\n",
    "*TextPresenter Module:*\n",
    "\n",
    "[TextPresenter.py](https://github.com/imarevic/PsyPythonCourse/tree/master/labs/Lab9/TextPresenter.py)\n",
    "\n",
    "Also, please place the following stimuli file in a directory named `stimuli`:\n",
    "\n",
    "[stimuli.csv](https://github.com/imarevic/PsyPythonCourse/tree/master/labs/Lab9/stimuli/stimuli.csv)\n",
    "\n",
    "Finally, please place the following text instruction files in a directory named `instructions`:\n",
    "\n",
    "[welcome.txt](https://github.com/imarevic/PsyPythonCourse/tree/master/labs/Lab9/instructions/welcome.txt)<br>\n",
    "[intro1.txt](https://github.com/imarevic/PsyPythonCourse/tree/master/labs/Lab9/instructions/intro1.txt)<br>\n",
    "[intro2.txt](https://github.com/imarevic/PsyPythonCourse/tree/master/labs/Lab9/instructions/intro2.txt)<br>\n",
    "[starttask.txt](https://github.com/imarevic/PsyPythonCourse/tree/master/labs/Lab9/instructions/starttask.txt)<br>\n",
    "[endtask.txt](https://github.com/imarevic/PsyPythonCourse/tree/master/labs/Lab9/instructions/endtask.txt)<br>\n",
    "[goodbye.txt](https://github.com/imarevic/PsyPythonCourse/tree/master/labs/Lab9/instructions/goodbye.txt)<br>\n",
    "<br>\n",
    "Make sure that a directory `data` also exists, because this is where the results are to be stored.\n",
    "\n",
    "\n",
    "---\n",
    "In the `gonogo_exp.py` script you will find parts that you are asked to complete. Thes parts are enclosed by the following comments:\n",
    "\n",
    "```python\n",
    "## START CODE HERE ##\n",
    "your python code\n",
    "more of your python code\n",
    "## END CODE HERE ##\n",
    "```\n",
    "\n",
    "---\n",
    "\n",
    "Students from Heidelberg University are asked to **save their python script and all dependent files** after completing it and upload it to Moodle. <br>\n",
    "In this lab, a total of **50 points** can be achieved.\n",
    "\n",
    "---"
   ]
  }
 ],
 "metadata": {
  "kernelspec": {
   "display_name": "Python 3",
   "language": "python",
   "name": "python3"
  },
  "language_info": {
   "codemirror_mode": {
    "name": "ipython",
    "version": 3
   },
   "file_extension": ".py",
   "mimetype": "text/x-python",
   "name": "python",
   "nbconvert_exporter": "python",
   "pygments_lexer": "ipython3",
   "version": "3.6.7"
  }
 },
 "nbformat": 4,
 "nbformat_minor": 2
}
