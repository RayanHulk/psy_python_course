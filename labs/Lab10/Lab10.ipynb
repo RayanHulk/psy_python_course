{
 "cells": [
  {
   "cell_type": "markdown",
   "metadata": {},
   "source": [
    "# Lab 10\n",
    "\n",
    "In this lab you will migrate the simplified Go-NoGo Task friom Lab 9 to an OOP version. That is, the task should look as follows:<br>\n",
    "- Use [config.py](https://github.com/imarevic/psy_python_course/tree/master/labs/Lab10/config.py) and implement a `Settings` class by adopting this module.\n",
    "- Use [experiment.py](https://github.com/imarevic/psy_python_course/tree/master/labs/Lab10/experiment.py) and implement an `Experiment` class by adopting this module.\n",
    "- Use [main_gonogo.py](https://github.com/imarevic/psy_python_course/tree/master/labs/Lab10/main_gonogo.py) and implement a `main()` function that calls a `run()` method from your `Experiment` class.\n",
    "\n",
    "---\n",
    "You will also need the same modules and files as in L9. They are listed here:<br><br>\n",
    "\n",
    "*TextPresenter Module:*\n",
    "\n",
    "[TextPresenter.py](https://github.com/imarevic/psy_python_course/tree/master/labs/Lab10/TextPresenter.py)\n",
    "\n",
    "Also, please place the following stimuli file in a directory named `stimuli`:\n",
    "\n",
    "[stimuli.csv](https://github.com/imarevic/psy_python_course/tree/master/labs/Lab10/stimuli/stimuli.csv)\n",
    "\n",
    "Finally, please place the following text instruction files in a directory named `instructions`:\n",
    "\n",
    "[welcome.txt](https://github.com/imarevic/psy_python_course/tree/master/labs/Lab10/instructions/welcome.txt)<br>\n",
    "[intro1.txt](https://github.com/imarevic/psy_python_course/tree/master/labs/Lab10/instructions/intro1.txt)<br>\n",
    "[intro2.txt](https://github.com/imarevic/psy_python_course/tree/master/labs/Lab10/instructions/intro2.txt)<br>\n",
    "[starttask.txt](https://github.com/imarevic/psy_python_course/tree/master/labs/Lab10/instructions/starttask.txt)<br>\n",
    "[endtask.txt](https://github.com/imarevic/psy_python_course/tree/master/labs/Lab10/instructions/endtask.txt)<br>\n",
    "[goodbye.txt](https://github.com/imarevic/psy_python_course/tree/master/labs/Lab10/instructions/goodbye.txt)<br>\n",
    "<br>\n",
    "Make sure that a directory `data` also exists, because this is where the results are to be stored.\n",
    "\n",
    "\n",
    "---\n",
    "\n",
    "Students from Heidelberg University are asked to **save their python script and all dependent files** after completing it and upload it to Moodle. <br>\n",
    "In this lab, a total of **50 points** can be achieved.\n",
    "\n",
    "---"
   ]
  }
 ],
 "metadata": {
  "kernelspec": {
   "display_name": "Python 3",
   "language": "python",
   "name": "python3"
  },
  "language_info": {
   "codemirror_mode": {
    "name": "ipython",
    "version": 3
   },
   "file_extension": ".py",
   "mimetype": "text/x-python",
   "name": "python",
   "nbconvert_exporter": "python",
   "pygments_lexer": "ipython3",
   "version": "3.6.9"
  }
 },
 "nbformat": 4,
 "nbformat_minor": 2
}
