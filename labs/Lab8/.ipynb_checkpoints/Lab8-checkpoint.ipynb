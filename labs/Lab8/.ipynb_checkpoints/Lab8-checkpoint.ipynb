{
 "cells": [
  {
   "cell_type": "markdown",
   "metadata": {},
   "source": [
    "# Lab 8\n",
    "\n",
    "In this lab you will work on two exercises related to presenting textblocks in PyGame. This time we will not provide any code for you to complete. That is, you will need to write all the code by yourself given some information and instruction files that we provide you with.\n",
    "\n",
    "---\n",
    "\n",
    "Students from Heidelberg University are asked to **save their python script** of each exercise. After completing the exercises, please upload all scripts to Moodle in a zip-File. <br>\n",
    "In this lab, a total of **50 points** can be achieved.\n",
    "\n",
    "---"
   ]
  },
  {
   "cell_type": "markdown",
   "metadata": {},
   "source": [
    "## Exercise 1 (20 points)\n",
    "In this exercise your task will be to load a set of instructions from a directory that you define yourself and print all instructions to the console in order to check if they were loaded correctly. Here is a detailed description of your task:\n",
    "- Copy and paste each of the following instructions into an editor and save them in a folder/directory named `instructions`:<br><br>\n",
    "[inst1.txt](https://github.com/imarevic/PsyPythonCourse/blob/master/labs/Lab8/inst1.txt)<br>\n",
    "[inst2.txt](https://github.com/imarevic/PsyPythonCourse/blob/master/labs/Lab8/inst2.txt)<br>\n",
    "[inst3.txt](https://github.com/imarevic/PsyPythonCourse/blob/master/labs/Lab8/inst3.txt)<br>\n",
    "<br>\n",
    "\n",
    "- Write code that gets the path to that directory.\n",
    "- Load the instructions from that directory and store all of them in a dictionary that you name `instructions`.\n",
    "- Print all instructions to the console.\n",
    "\n",
    "**Hint:** Define a function that loads the instructions for you. Call that function when storing the instructions in the `instructions` dictionary.\n"
   ]
  },
  {
   "cell_type": "markdown",
   "metadata": {},
   "source": [
    "## Exercise 2 (30 points)\n",
    "In the research field of **mind wandering**, participants are oftne asked to complete a boring task during which they are sometimes interrupted and asked if they were mind wandering or not. These boring tasks often consist of reading long passages from boring and useless books. In this exercise, you are given such a passage and are asked to break that passage down into small pieces, so each piece can be presented on one text slide on the screen. The user of the program should then be able to *click through* the passage piece by piece with the **RETURN** button. To be more precise, yor task will be to save short paragraphs of the following text in as many text files as you see fit for the screen size of your choice. You are then asked to load all of these text files and present them to the user one by one. The user should be able to andvance to the next text slide by pressing **RETURN**.\n",
    "<br><br>\n",
    "Here is the boring text passage:<br>\n",
    "\n",
    ">It was the Dover road that lay, on a Friday night late in November, before the first of the persons with whom this history has business. The Dover road lay, as to him, beyond the Dover mail, as it lumbered up Shooter’s Hill. He walked up hill in the mire by the side of the mail, as the rest of the passengers did; not because they had the least relish for walking exercise, under the circumstances, but because the hill, and the harness, and the mud, and the mail, were all so heavy, that the horses had three times already come to a stop, besides once drawing the coach across the road, with the mutinous intent of taking it back to Blackheath. Reins and whip and coachman and guard, however, in combination, had read that article of war which forbade a purpose otherwise strongly in favour of the argument, that some brute animals are endued with Reason; and the team had capitulated and returned to their duty.\n",
    "With drooping heads and tremulous tails, they mashed their way through the thick mud, floundering and stumbling between whiles, as if they were falling to pieces at the larger joints. As often as the driver rested them and brought them to a stand, with a wary “Wo-ho! so-ho-then!” the near leader violently shook his head and everything upon it—like an unusually emphatic horse, denying that the coach could be got up the hill. Whenever the leader made this rattle, the passenger started, as a nervous passenger might, and was disturbed in mind.\n",
    "There was a steaming mist in all the hollows, and it had roamed in its forlornness up the hill, like an evil spirit, seeking rest and finding none. A clammy and intensely cold mist, it made its slow way through the air in ripples that visibly followed and overspread one another, as the waves of an unwholesome sea might do. It was dense enough to shut out everything from the light of the coach-lamps but these its own workings, and a few yards of road; and the reek of the labouring horses steamed into it, as if they had made it all.\n"
   ]
  },
  {
   "cell_type": "markdown",
   "metadata": {},
   "source": [
    "**Note:** This is an excerpt from \"A Tale of Two Cities\" by Charles Dickens retrieved from the open source webpage *Project Gutenberg* which offers free ebooks: [www.gutenberg.org](https://www.gutenberg.org)"
   ]
  }
 ],
 "metadata": {
  "kernelspec": {
   "display_name": "Python 3",
   "language": "python",
   "name": "python3"
  },
  "language_info": {
   "codemirror_mode": {
    "name": "ipython",
    "version": 3
   },
   "file_extension": ".py",
   "mimetype": "text/x-python",
   "name": "python",
   "nbconvert_exporter": "python",
   "pygments_lexer": "ipython3",
   "version": "3.5.2"
  }
 },
 "nbformat": 4,
 "nbformat_minor": 2
}
