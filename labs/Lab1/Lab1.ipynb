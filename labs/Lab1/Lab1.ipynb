{
 "cells": [
  {
   "cell_type": "markdown",
   "metadata": {},
   "source": [
    "# Lab 1\n",
    "\n",
    "Welcome to the first lab exercise. Students from the course at Heidelberg University are asked to take screenshots of their command line or write the result of an exercise to a textfile. Please upload these files to Moodle for grading.\n",
    "\n",
    "---\n",
    "\n",
    "## Exercise 1  (1 point)\n",
    "\n",
    "Start the command line and do the following:\n",
    "\n",
    "- Find out what your computers name is!\n"
   ]
  },
  {
   "cell_type": "markdown",
   "metadata": {},
   "source": [
    "## Exercise 2 (3 points)\n",
    "\n",
    "Create directories that form the following path:\n",
    "\n",
    "```bash\n",
    "temp/example/exercises/final\n",
    "```\n",
    "\n",
    "It does not matter where you start this path. You can just use the directory you are currently in."
   ]
  },
  {
   "cell_type": "markdown",
   "metadata": {},
   "source": [
    "## Exercise 3 (5 points)\n",
    "\n",
    "Move to the directory `final` that you have created in the previous exercise.\n",
    "Create the following files within the `final` directory:\n",
    "\n",
    "`textfile.txt` <br>\n",
    "`secondtext.txt` <br>\n",
    "`emptyPython.py` <br>\n",
    "`emptyword.doc` <br>\n",
    "\n",
    "Check if the files have been created correctly by listing them."
   ]
  },
  {
   "cell_type": "markdown",
   "metadata": {},
   "source": [
    "## Exercise 4 (5 points)\n",
    "\n",
    "\n",
    "Remove all the files and directories that you created in Exercise 2 and 3.\n",
    "\n"
   ]
  },
  {
   "cell_type": "markdown",
   "metadata": {},
   "source": [
    "## Exercise 5 (5 points)\n",
    "\n",
    "Start the python interpreter in the command line and calculate the result of the following:\n",
    "\n",
    "`(((2*3) + 3) - 3) * 7`\n",
    "\n",
    "What is the result?\n"
   ]
  },
  {
   "cell_type": "markdown",
   "metadata": {},
   "source": [
    "## Exercise 6 (1 point)\n",
    "\n",
    "Copy the following python script into your texteditor and save it as:\n",
    "\n",
    "`exercise1.py`"
   ]
  },
  {
   "cell_type": "markdown",
   "metadata": {},
   "source": [
    "```python\n",
    "# Sentences\n",
    "a = 'You have completed you first lab!'\n",
    "b = 'You failed completely'\n",
    "c = 'Stop programming'\n",
    "d = 'Now you know how to use the command line'\n",
    "e = 'and execute python programs.'\n",
    "f = 'Congrats!'\n",
    "g = 'This will never get printed'\n",
    "h = 'We will see you next week.'\n",
    "i = 'Bye'\n",
    "j = 'This will never get printed'\n",
    "x = ''\n",
    "\n",
    "# Do nonsense comparison and print result\n",
    "if g != j:\n",
    "    def useless():\n",
    "        var1 = 2*3\n",
    "        var2 = 3\n",
    "        var3 = 5-2\n",
    "        \n",
    "        result = (var1 + var2) * var3\n",
    "        return result\n",
    "\n",
    "else:\n",
    "    lines = [a, d, e, x, f, x, h, i]\n",
    "    message = '\\n'.join(lines)\n",
    "    print(message)\n",
    "```"
   ]
  },
  {
   "cell_type": "markdown",
   "metadata": {},
   "source": [
    "Run the program from the command line. <br>\n",
    "<br>\n",
    "What is the result?"
   ]
  }
 ],
 "metadata": {
  "kernelspec": {
   "display_name": "Python 3",
   "language": "python",
   "name": "python3"
  },
  "language_info": {
   "codemirror_mode": {
    "name": "ipython",
    "version": 3
   },
   "file_extension": ".py",
   "mimetype": "text/x-python",
   "name": "python",
   "nbconvert_exporter": "python",
   "pygments_lexer": "ipython3",
   "version": "3.6.0"
  }
 },
 "nbformat": 4,
 "nbformat_minor": 2
}
