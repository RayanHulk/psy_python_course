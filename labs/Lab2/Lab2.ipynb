{
 "cells": [
  {
   "cell_type": "markdown",
   "metadata": {},
   "source": [
    "# Lab 2\n",
    "\n",
    "In this lab you will go through some exercises from Chapter 2 (Python Basics). Please save this notebook on your computer by either downloading the entire \"PsyPythonCourse\" repository or by clicking on \"RAW\" and copying the contents of this file to an empty editor and saving the file with the extension `.ipynb`.\n",
    "\n",
    "Once the notebook is saved on your computer, follow theses steps to open it:\n",
    "- Navigate to the location the notebook is in with the commad line\n",
    "- Type `jupyter notebook` and hit Return to start the notebook\n",
    "- Click on your notebook to open it\n",
    "\n",
    "---\n",
    "In each exercise you will be asked to complete the code that is enclosed by the following comments:\n",
    "\n",
    "```python\n",
    "## START CODE HERE ## (2 lines od code)\n",
    "your python code\n",
    "more of your python code\n",
    "## END CODE HERE ##\n",
    "```\n",
    "\n",
    "---\n",
    "\n",
    "Students from Heidelberg University are asked to **save their notebook** after completing all exercises and upload it to Moodle. <br>\n",
    "In this lab, a total of **50 points** can be achieved.\n",
    "\n",
    "---"
   ]
  },
  {
   "cell_type": "markdown",
   "metadata": {
    "collapsed": true
   },
   "source": [
    "## Exercise 1 (5 points)\n",
    "\n",
    "First, assign the following information to the respective variables:\n",
    "- experiment name: \"Stroop Task\"\n",
    "- session number: 1\n",
    "- participant number : 001\n",
    "\n",
    "Then print out the contents of the variables (separated by spaces) by using only **one** `print()` statement.<br>\n",
    "\n",
    "**Tip:** Python cannot store 001 as a number. Try storing it as a string."
   ]
  },
  {
   "cell_type": "code",
   "execution_count": 6,
   "metadata": {},
   "outputs": [],
   "source": [
    "# assigning information to variables\n",
    "## START CODE HERE ## (3 lines of code)\n",
    "expName = None\n",
    "sessionNumber = None\n",
    "partNumber = None\n",
    "## END CODE HERE ##\n",
    "\n",
    "# printing contents in one line\n",
    "## START CODE HERE ## (1 line of code)\n",
    "\n",
    "## END CODE HERE ##"
   ]
  },
  {
   "cell_type": "markdown",
   "metadata": {
    "collapsed": true
   },
   "source": [
    "**Expected Result:**\n",
    "<table>\n",
    "<tr>\n",
    "    <td>Stroop Task 1 001</td>\n",
    "</table>"
   ]
  },
  {
   "cell_type": "markdown",
   "metadata": {},
   "source": [
    "## Exercise 2 (5 points)\n",
    "You are programming an experiment and you are given the following parameters about your screen dimensions:\n",
    "- screen height = 950 \n",
    "- screen width = 420\n",
    "\n",
    "First, calculate the center points of the screen by dividing the screen height and width by 2. Store the results in two variables named:\n",
    "\n",
    "`screenHeightHalf`\n",
    "\n",
    "`screenWidthHalf`\n",
    "\n",
    "Then create two new variables (`newScreenHeight` and `newScreenWidth`) for which you double the size of the original variables `screenHeight` and `screenWidth`.\n",
    "\n",
    "Finally, check if the original screen height equals the original screen width (i.e. check of the screen dimensions are a square). The result should be a boolean value (`True` or `False`) that youn can store in the variable `sizeCheck`."
   ]
  },
  {
   "cell_type": "code",
   "execution_count": 16,
   "metadata": {},
   "outputs": [
    {
     "name": "stdout",
     "output_type": "stream",
     "text": [
      "screen height half:  None\n",
      "screen width half:  None\n",
      "new screen height:  None\n",
      "new screen width :  None\n",
      "screen is a square?? :  None\n"
     ]
    }
   ],
   "source": [
    "# given screen width and height\n",
    "screenHeigth = 950\n",
    "screenWidth = 420\n",
    "\n",
    "# calculating center points of screen\n",
    "## START CODE HERE ## (2 lines of code)\n",
    "screenHeightHalf = None\n",
    "screenWidthHalf = None\n",
    "## END CODE HERE ##\n",
    "\n",
    "# doubeling original screen dimensions\n",
    "## START CODE HERE ## (2 lines of code)\n",
    "newScreenHeight = None\n",
    "newScreenWidth = None\n",
    "## END CODE HERE ##\n",
    "\n",
    "# checking if original screen is a square\n",
    "## START CODE HERE ## (1 line of code)\n",
    "sizeCheck = None\n",
    "## END CODE HERE ##\n",
    "\n",
    "\n",
    "# printing everything\n",
    "print(\"screen height half: \", screenHeightHalf)\n",
    "print(\"screen width half: \", screenWidthHalf)\n",
    "print(\"new screen height: \", newScreenHeight)\n",
    "print(\"new screen width : \", newScreenWidth)\n",
    "print(\"screen is a square?? : \", sizeCheck)"
   ]
  },
  {
   "cell_type": "markdown",
   "metadata": {},
   "source": [
    "**Expected Result:**\n",
    "<table>\n",
    "<tr>\n",
    "    <td><b>screen height half:<b></td>\n",
    "    <td>475.0</td>\n",
    "<tr>\n",
    "<tr>\n",
    "    <td><b>screen width half:<b></td>\n",
    "    <td>210.0</td>\n",
    "<tr>\n",
    "<tr>\n",
    "    <td><b>new screen height:<b></td>\n",
    "    <td>1900</td>\n",
    "<tr>\n",
    "<tr>\n",
    "    <td><b>new screen width:<b></td>\n",
    "    <td>840</td>\n",
    "<tr>\n",
    "<tr>\n",
    "    <td><b>screen is a square??:<b></td>\n",
    "    <td>False</td>\n",
    "<tr>\n",
    "</table>"
   ]
  },
  {
   "cell_type": "markdown",
   "metadata": {
    "collapsed": true
   },
   "source": [
    "## Exercise 3 (10 points)\n",
    "Write python code that collects the following demographic information from the user:\n",
    "- age\n",
    "- gender\n",
    "- major\n",
    "- handedness\n",
    "\n",
    "Also, store all of the information in a dictionairy."
   ]
  },
  {
   "cell_type": "code",
   "execution_count": 22,
   "metadata": {
    "collapsed": true
   },
   "outputs": [],
   "source": [
    "## demographic information collection\n",
    "## START CODE HERE ## (4 lines of code)\n",
    "age = None\n",
    "gender = None\n",
    "major = None\n",
    "handedness = None\n",
    "## END CODE HERE ##\n",
    "\n",
    "# storing input in a dictionairy\n",
    "## START CODE HERE ## (4 lines of code)\n",
    "demographics = {None,\n",
    "               None,\n",
    "               None,\n",
    "               None}\n",
    "## END CODE HERE ##"
   ]
  },
  {
   "cell_type": "markdown",
   "metadata": {},
   "source": [
    "**Expected Result:**\n",
    "<table>\n",
    "<tr>\n",
    "    <td><b>age:<b></td>\n",
    "    <td>input for age (e.g. 21)</td>\n",
    "<tr>\n",
    "<tr>\n",
    "    <td><b>gender:<b></td>\n",
    "    <td>input for gender (e.g. male or female)</td>\n",
    "<tr>\n",
    "<tr>\n",
    "    <td><b>major:<b></td>\n",
    "    <td>input for major (e.g. Psychology)</td>\n",
    "<tr>\n",
    "<tr>\n",
    "    <td><b>handedness:<b></td>\n",
    "    <td>input for handedness (e.g. lefty or righty)</td>\n",
    "<tr>\n",
    "</table>"
   ]
  },
  {
   "cell_type": "markdown",
   "metadata": {},
   "source": [
    "## Exercise 4 (15 points)\n",
    "Read in the following file (make sure it is stored in the same directory as this notebook):\n",
    "\n",
    "[instructions.txt](https://github.com/imarevic/PsyPythonCourse/blob/master/labs/Lab2/instructions.txt)\n",
    "\n",
    "Print the contents of the file to the screen."
   ]
  },
  {
   "cell_type": "code",
   "execution_count": 29,
   "metadata": {},
   "outputs": [],
   "source": [
    "# reading in instructions.txt file\n",
    "## START CODE HERE ## (2 lines of code)\n",
    "\n",
    "    \n",
    "## END CODE HERE ##\n",
    "\n",
    "# printing contents\n",
    "## START CODE HERE ## (1 line of code)\n",
    "\n",
    "## END CODE HERE ##"
   ]
  },
  {
   "cell_type": "markdown",
   "metadata": {},
   "source": [
    "**Expected Result:**\n",
    "<table>\n",
    "<tr>\n",
    "    <td>Welcome to this Experiment, <br><br>\n",
    "\n",
    "This is the instructions file that should be read <br>\n",
    "and printed to the screen.<br>\n",
    "If you see these instructions than you read the file<br>\n",
    "correctly and printed its contents.<br>\n",
    "<br>\n",
    ";)\n",
    "\n",
    "</td>\n",
    "<tr>\n",
    "</table>"
   ]
  },
  {
   "cell_type": "markdown",
   "metadata": {},
   "source": [
    "## Exercise 5 (15 points)\n",
    "Write the the contents of the variable `text` to a file.\n",
    "Give the file the following file name:\n",
    "\n",
    "`textfile.txt`"
   ]
  },
  {
   "cell_type": "code",
   "execution_count": 34,
   "metadata": {},
   "outputs": [
    {
     "ename": "FileNotFoundError",
     "evalue": "[Errno 2] No such file or directory: 'textfile.txt'",
     "output_type": "error",
     "traceback": [
      "\u001b[0;31m---------------------------------------------------------------------------\u001b[0m",
      "\u001b[0;31mFileNotFoundError\u001b[0m                         Traceback (most recent call last)",
      "\u001b[0;32m<ipython-input-34-3a7e473afa77>\u001b[0m in \u001b[0;36m<module>\u001b[0;34m()\u001b[0m\n\u001b[1;32m     10\u001b[0m \u001b[0;31m# -------- check if written correctly ------ #\u001b[0m\u001b[0;34m\u001b[0m\u001b[0;34m\u001b[0m\u001b[0m\n\u001b[1;32m     11\u001b[0m \u001b[0;31m# open resonses file\u001b[0m\u001b[0;34m\u001b[0m\u001b[0;34m\u001b[0m\u001b[0m\n\u001b[0;32m---> 12\u001b[0;31m \u001b[0;32mwith\u001b[0m \u001b[0mopen\u001b[0m\u001b[0;34m(\u001b[0m\u001b[0;34m'textfile.txt'\u001b[0m\u001b[0;34m,\u001b[0m \u001b[0;34m'r'\u001b[0m\u001b[0;34m)\u001b[0m \u001b[0;32mas\u001b[0m \u001b[0mfile\u001b[0m\u001b[0;34m:\u001b[0m\u001b[0;34m\u001b[0m\u001b[0m\n\u001b[0m\u001b[1;32m     13\u001b[0m     \u001b[0mreadfile\u001b[0m \u001b[0;34m=\u001b[0m \u001b[0mfile\u001b[0m\u001b[0;34m.\u001b[0m\u001b[0mread\u001b[0m\u001b[0;34m(\u001b[0m\u001b[0;34m)\u001b[0m\u001b[0;34m\u001b[0m\u001b[0m\n\u001b[1;32m     14\u001b[0m \u001b[0;34m\u001b[0m\u001b[0m\n",
      "\u001b[0;31mFileNotFoundError\u001b[0m: [Errno 2] No such file or directory: 'textfile.txt'"
     ]
    }
   ],
   "source": [
    "# text variable with content\n",
    "text = \"This is a string that should be written to a file. \\nWe wish you good luck with writing this to disk ;)\"\n",
    "\n",
    "# writig string data to files\n",
    "## START CODE HERE ## (2 lines of code)\n",
    "\n",
    "    \n",
    "## END CODE HERE ##\n",
    "    \n",
    "# -------- check if written correctly ------ #\n",
    "# open resonses file\n",
    "with open('textfile.txt', 'r') as file:\n",
    "    readfile = file.read()\n",
    "\n",
    "# print contents of file\n",
    "print(readfile)"
   ]
  },
  {
   "cell_type": "markdown",
   "metadata": {},
   "source": [
    "**Expected Result:**\n",
    "<table>\n",
    "<tr>\n",
    "    <td>This is a string that should be written to a file. <br>\n",
    "We wish you good luck with writing this to disk ;) </td>\n",
    "<tr>\n",
    "</table>"
   ]
  },
  {
   "cell_type": "markdown",
   "metadata": {},
   "source": [
    "## Exercise 6 (optional)\n",
    "This exercise is for heavy drinkers who want to find out more about certain cocktails that are stored in a data structure named `cocktails`.<br>\n",
    "Answer the questions about the cocktails. You can type your code below each question.\n",
    "\n",
    "**Tip:** Search the internet if you are not sure how to answer a particular question. Research is a central part to programming ;)"
   ]
  },
  {
   "cell_type": "code",
   "execution_count": 11,
   "metadata": {},
   "outputs": [],
   "source": [
    "# We 'import' a variable from another file\n",
    "# using this syntax\n",
    "from cocktails import cocktails\n",
    "\n",
    "# You can take a look at the contents of cocktails\n",
    "# print(cocktails)\n",
    "\n",
    "# Looks nasty, isn't it?\n",
    "\n",
    "# First, get familiar with the structure of this giant object\n",
    "# What is the main data structure?\n",
    "\n",
    "# How many cocktails does it contain?\n",
    "\n",
    "# What is the first cocktail's name?\n",
    "\n",
    "# What are the ingredients and how many are they?\n",
    "\n",
    "# What amount of Lillet Blonde does one need for this cocktail?\n",
    "\n",
    "# You have 4 cl of Gin, and want to prepare the cocktail.\n",
    "# Find out with one line of code, whether 4 cl of Gin is enough\n",
    "# for the cocktail (Hint: look at ingredients again)\n"
   ]
  },
  {
   "cell_type": "markdown",
   "metadata": {},
   "source": [
    "## Exercise 7 (optional)\n",
    "In this exercise you are asked to perform the following tasks sequentially:\n",
    "- read in the following file: [sometext.txt](https://github.com/imarevic/PsyPythonCourse/blob/master/labs/Lab2/sometext.txt) (make sure the file is located in the same directory as this notebook)\n",
    "- split the file after each line of text, maintainig the *new line character* `\\n`.\n",
    "- store the splitted lines in a list and print its contents.\n",
    "- Append the following line to the list: \"Yes I will.\\n\"\n",
    "- shuffle the list and print the contents again.\n",
    "- save the file as `outfile.txt`.\n",
    "\n",
    "**Tip:** Do some research in the python documentation how to split a string and how to shuffle list items.\n"
   ]
  },
  {
   "cell_type": "code",
   "execution_count": 1,
   "metadata": {},
   "outputs": [],
   "source": [
    "# importing random module\n",
    "import random\n",
    "# set seed (for reproducibility)\n",
    "random.seed(123)\n",
    "\n",
    "# open file\n",
    "## START CODE HERE ## (2 lines of code)\n",
    "\n",
    "## END CODE HERE ##\n",
    "\n",
    "# split lines and store them in list named \"data\"\n",
    "## START CODE HERE ## (2 line of code)\n",
    "data = None\n",
    "## END CODE HERE ##\n",
    "\n",
    "# append new sentence to the list\n",
    "## START CODE HERE ## (1 line of code)\n",
    "\n",
    "## END CODE HERE ##\n",
    "\n",
    "# shuffle list\n",
    "## START CODE HERE ## (1 line of code)\n",
    "\n",
    "## END CODE HERE ##\n",
    "\n",
    "# write to file\n",
    "## START CODE HERE ## (2 lines of code)\n",
    "\n",
    "## END CODE HERE ##\n",
    "\n"
   ]
  }
 ],
 "metadata": {
  "kernelspec": {
   "display_name": "Python 3",
   "language": "python",
   "name": "python3"
  },
  "language_info": {
   "codemirror_mode": {
    "name": "ipython",
    "version": 3
   },
   "file_extension": ".py",
   "mimetype": "text/x-python",
   "name": "python",
   "nbconvert_exporter": "python",
   "pygments_lexer": "ipython3",
   "version": "3.5.2"
  }
 },
 "nbformat": 4,
 "nbformat_minor": 2
}
