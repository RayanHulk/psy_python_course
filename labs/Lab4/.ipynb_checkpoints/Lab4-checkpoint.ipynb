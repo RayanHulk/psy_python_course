{
 "cells": [
  {
   "cell_type": "markdown",
   "metadata": {},
   "source": [
    "# Lab 4\n",
    "\n",
    "In this lab you will go through some exercises from Chapter 4 (Python Functions). Please save this notebook on your computer by either downloading the entire \"PsyPythonCourse\" repository or by clicking on \"RAW\" and copying the contents of this file to an empty editor and saving the file with the extension `.ipynb`.\n",
    "\n",
    "Once the notebook is saved on your computer, follow these steps to open it:\n",
    "- Navigate to the location the notebook is in with the commad line\n",
    "- Type `jupyter notebook` and hit Return to start the notebook\n",
    "- Click on your notebook to open it\n",
    "\n",
    "---\n",
    "In each exercise you will be asked to complete the code that is enclosed by the following comments:\n",
    "\n",
    "```python\n",
    "## START CODE HERE ## (2 lines od code)\n",
    "your python code\n",
    "more of your python code\n",
    "## END CODE HERE ##\n",
    "```\n",
    "\n",
    "---\n",
    "\n",
    "Students from Heidelberg University are asked to **save their notebook** after completing all exercises and upload it to Moodle. <br>\n",
    "In this lab, a total of **50 points** can be achieved.\n",
    "\n",
    "---"
   ]
  },
  {
   "cell_type": "markdown",
   "metadata": {},
   "source": [
    "## Exercise 1 (10 points)\n",
    "Implement a function named `power` that takes as input a base and an exponent and returns the base raised to the exponent. If only a number is given, the number should be raised to the power of 2. "
   ]
  },
  {
   "cell_type": "code",
   "execution_count": 1,
   "metadata": {},
   "outputs": [],
   "source": [
    "## START CODE HERE ## (2 lines of code)\n",
    "\n",
    "## END CODE HERE ##\n",
    "\n",
    "# Uncomment the following two lines to test your function\n",
    "# print(power(3,3))\n",
    "# print(power(4))"
   ]
  },
  {
   "cell_type": "markdown",
   "metadata": {},
   "source": [
    "**Expected Result:**\n",
    "<table>\n",
    "<tr>\n",
    "    <td>27</td>\n",
    "<tr>\n",
    "    <td>16</td>\n",
    "<tr>\n",
    "</table>"
   ]
  },
  {
   "cell_type": "markdown",
   "metadata": {},
   "source": [
    "## Exercise 2 (10 points)\n",
    "Write a function named `numToList` that takes a number as input and outputs a list where each element corresponds to a digit of the number. For example, when passing `123` as input, a list containing `[1, 2, 3]` shold be returned. Implement it using a for loop.\n",
    "\n",
    "**Hint:** Convert the input to a string using `str()` before iterating."
   ]
  },
  {
   "cell_type": "code",
   "execution_count": 2,
   "metadata": {},
   "outputs": [],
   "source": [
    "## START CODE HERE ## (5 lines of code)\n",
    "\n",
    "## END CODE HERE ##\n",
    "\n",
    "\n",
    "# Uncomment the following two lines to test your function\n",
    "# print(numToList(123))\n",
    "# print(numToList(4827))"
   ]
  },
  {
   "cell_type": "markdown",
   "metadata": {},
   "source": [
    "**Expected Result:**\n",
    "<table>\n",
    "<tr>\n",
    "    <td>[1, 2, 3]</td>\n",
    "<tr>\n",
    "    <td>[4, 8, 2, 7]</td>\n",
    "<tr>\n",
    "</table>"
   ]
  },
  {
   "cell_type": "markdown",
   "metadata": {},
   "source": [
    "## Exercise 3 (10 points)\n",
    "Write a function named `digitSum` that takes as input a number and returns the digit sum (Quersumme). Implement it using the function `numToList` from Exercise 1 to strip the inputed number to  a list of number elements. Then iterate over that list to calculate the digit sum."
   ]
  },
  {
   "cell_type": "code",
   "execution_count": 3,
   "metadata": {},
   "outputs": [],
   "source": [
    "## START CODE HERE ## (6 lines of code)\n",
    "\n",
    "## END CODE HERE ##\n",
    "\n",
    "\n",
    "# Uncomment the following two lines to test your function\n",
    "# print(digitSum(1234))\n",
    "# print(digitSum(479))"
   ]
  },
  {
   "cell_type": "markdown",
   "metadata": {},
   "source": [
    "**Expected Result:**\n",
    "<table>\n",
    "<tr>\n",
    "    <td>10</td>\n",
    "<tr>\n",
    "    <td>20</td>\n",
    "<tr>\n",
    "</table>"
   ]
  },
  {
   "cell_type": "markdown",
   "metadata": {},
   "source": [
    "## Exercise 4 (10 points)\n",
    "Write a function named `fillList` that takes as input a list and a maximum length. The function should fill the list with arbitrary numbers until the length of the list is equal to maximum length. "
   ]
  },
  {
   "cell_type": "code",
   "execution_count": 5,
   "metadata": {},
   "outputs": [
    {
     "ename": "SyntaxError",
     "evalue": "unexpected EOF while parsing (<ipython-input-5-1f067af5b197>, line 13)",
     "output_type": "error",
     "traceback": [
      "\u001b[0;36m  File \u001b[0;32m\"<ipython-input-5-1f067af5b197>\"\u001b[0;36m, line \u001b[0;32m13\u001b[0m\n\u001b[0;31m    # print(finalList2)\u001b[0m\n\u001b[0m                       ^\u001b[0m\n\u001b[0;31mSyntaxError\u001b[0m\u001b[0;31m:\u001b[0m unexpected EOF while parsing\n"
     ]
    }
   ],
   "source": [
    "def fillList(List, Max):\n",
    "    ## START CODE HERE ## (5 lines of code)\n",
    "\n",
    "    ## END CODE HERE ##\n",
    "\n",
    "# Uncomment the following lines to test your function\n",
    "# myList1 = [1,2,3]\n",
    "# finalList1 = fillList(List = myList1,Max = 6)\n",
    "# print(finalList1)\n",
    "\n",
    "# myList2 = [5]\n",
    "# finalList2 = fillList(List = myList2, Max = 7)\n",
    "# print(finalList2)"
   ]
  },
  {
   "cell_type": "markdown",
   "metadata": {},
   "source": [
    "**Expected Result:**\n",
    "<table>\n",
    "<tr>\n",
    "    <td>[1, 2, 3, 4, 5, 6]</td>\n",
    "<tr>\n",
    "    <td>[5, 6, 7, 8, 9, 10, 11]</td>\n",
    "<tr>\n",
    "</table>"
   ]
  },
  {
   "cell_type": "markdown",
   "metadata": {},
   "source": [
    "## Exercise 5 (10 points)\n",
    "Write a function named _printName_ that takes as input two arguments (surname and name). It should print out the information in a nice format (see expected result below).<br><br>\n",
    "**Important**: The function should be called with a dictionary containing the information as input.<br>\n",
    "**Hint:** recall that \"nice\" string formatting can be achieved with `.format(arg1, arg2)` after a string."
   ]
  },
  {
   "cell_type": "code",
   "execution_count": 7,
   "metadata": {},
   "outputs": [],
   "source": [
    "# defining a dict\n",
    "myDict = {\"surname\": \"Max\", \"name\": \"Mustermann\"}\n",
    "\n",
    "# function that prints two inputs in a nice format\n",
    "## START CODE HERE ## (2 lines of code)\n",
    "\n",
    "## END CODE HERE ##\n",
    "\n",
    "# passing the dict as argument to the function printName()\n",
    "## START CODE HERE ## (1 line of code)\n",
    "\n",
    "## END CODE HERE ##"
   ]
  },
  {
   "cell_type": "markdown",
   "metadata": {},
   "source": [
    "**Expected Result:**\n",
    "<table>\n",
    "<tr>\n",
    "    <td>Surname : Max, Name: Mustermann</td>\n",
    "</table>"
   ]
  },
  {
   "cell_type": "markdown",
   "metadata": {},
   "source": [
    "## Exercise 6 (optional)\n",
    "Write comments that explain what the function below is doing. Use multiline comments at the top to explain the broad purpose of the function, as well as comments for each major operation within the function. You can call the function with some input values (must be of type `int()`) to see what the function does.\n",
    "\n",
    "**Hint:**\n",
    "```python\n",
    "def exampleFunction():\n",
    "    \"\"\"\n",
    "    This is a multiline comment explaining the\n",
    "    broad purpose of this function\n",
    "    \"\"\"\n",
    "    text = \"This is a test\"\n",
    "    return text # this is a normal comment saying that this line returns a string in the variable 'text'\n",
    "```"
   ]
  },
  {
   "cell_type": "code",
   "execution_count": 70,
   "metadata": {},
   "outputs": [],
   "source": [
    "import time\n",
    "\n",
    "def triangleFunction(size, amount):\n",
    "    \n",
    "    if ((amount > 3) or (size > 5)) or ((amount < 1) or (size < 1)):\n",
    "        raise Exception(\"Specfied inputs are not in the allowed range: \\nThe input for 'size' must range between 1 and 5! \\nThe input for 'amount' must range between 1 and 3! \")\n",
    "        \n",
    "        \n",
    "    print(\"Printing started...\\n \")\n",
    "    \n",
    "    for index in range(amount):\n",
    "        \n",
    "        n = 1\n",
    "        while (n <= size):\n",
    "            print(\"*\" * n)\n",
    "            n += 1\n",
    "            time.sleep(1)\n",
    "            \n",
    "        print(\"{} triangle printed \\n\".format(index+1))\n",
    "\n",
    "\n",
    "    print(\"Finished printing!\")\n",
    "\n",
    "# call function to see what it does\n",
    "# choose values for size and amount\n",
    "triangleFunction(size= ... , amount = ...)"
   ]
  }
 ],
 "metadata": {
  "kernelspec": {
   "display_name": "Python 3",
   "language": "python",
   "name": "python3"
  },
  "language_info": {
   "codemirror_mode": {
    "name": "ipython",
    "version": 3
   },
   "file_extension": ".py",
   "mimetype": "text/x-python",
   "name": "python",
   "nbconvert_exporter": "python",
   "pygments_lexer": "ipython3",
   "version": "3.5.2"
  }
 },
 "nbformat": 4,
 "nbformat_minor": 1
}
