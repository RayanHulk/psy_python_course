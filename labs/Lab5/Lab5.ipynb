{
 "cells": [
  {
   "cell_type": "markdown",
   "metadata": {},
   "source": [
    "# Lab 5\n",
    "\n",
    "In this lab you will create your first mini experiment, similar to the one we created in Chapter 5 (A Mini Experiment). Please save the following file on your computer:\n",
    "\n",
    "[lab5.py](https://github.com/imarevic/PsyPythonCourse/tree/master/labs/Lab5/lab5.py)\n",
    "\n",
    "***This file contains Lab 5!***\n",
    "\n",
    "---\n",
    "In this script you will find parts that you are asked to complete. Thes parts are enclosed by the following comments:\n",
    "\n",
    "```python\n",
    "## START CODE HERE ## (2 lines od code)\n",
    "your python code\n",
    "more of your python code\n",
    "## END CODE HERE ##\n",
    "```\n",
    "\n",
    "---\n",
    "\n",
    "Students from Heidelberg University are asked to **save their python script** after completing it and upload it to Moodle. <br>\n",
    "In this lab, a total of **50 points** can be achieved.\n",
    "\n",
    "---"
   ]
  }
 ],
 "metadata": {
  "kernelspec": {
   "display_name": "Python 3",
   "language": "python",
   "name": "python3"
  },
  "language_info": {
   "codemirror_mode": {
    "name": "ipython",
    "version": 3
   },
   "file_extension": ".py",
   "mimetype": "text/x-python",
   "name": "python",
   "nbconvert_exporter": "python",
   "pygments_lexer": "ipython3",
   "version": "3.5.2"
  }
 },
 "nbformat": 4,
 "nbformat_minor": 2
}
