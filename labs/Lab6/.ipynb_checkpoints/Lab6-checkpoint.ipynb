{
 "cells": [
  {
   "cell_type": "markdown",
   "metadata": {},
   "source": [
    "# Lab 6\n",
    "\n",
    "In this lab you will work on several exercises related to the use of PyGame Basics. For each exercise we will provide a python script that you need to complete. For example:\n",
    "\n",
    "<strong><mark>samplelab.py</mark></strong>\n",
    "\n",
    "***This file will contain the code that you need to complete!***\n",
    "\n",
    "---\n",
    "In some of the scripts you will find parts that you are asked to complete. These parts are enclosed by the following comments:\n",
    "\n",
    "```python\n",
    "## START CODE HERE ## (2 lines od code)\n",
    "your python code\n",
    "more of your python code\n",
    "## END CODE HERE ##\n",
    "```\n",
    "In other exercises you will be asked to modify the existing code. In these cases, no hints where to modify the code will be given.\n",
    "\n",
    "---\n",
    "\n",
    "Students from Heidelberg University are asked to **save their python script** of each exercise. After completing the exercises, please upload all scripts to Moodle in a zip-File. <br>\n",
    "In this lab, a total of **50 points** can be achieved.\n",
    "\n",
    "---"
   ]
  },
  {
   "cell_type": "markdown",
   "metadata": {},
   "source": [
    "## Exercise 1 (10 points)"
   ]
  },
  {
   "cell_type": "markdown",
   "metadata": {},
   "source": [
    "In this exercise your task is to modify specific parts of a program that we provide you with. Please save the following program on your computer:<br><br>\n",
    "**[ex1.py](https://github.com/imarevic/PsyPythonCourse/blob/master/labs/Lab6/ex1.py)**"
   ]
  },
  {
   "cell_type": "markdown",
   "metadata": {},
   "source": [
    "Please make the following modifications:\n",
    "- create two background colors. One named `bgOrange = (255, 165, 0)` and one named `bgBlue = (0, 0, 205)`\n",
    "- remove the line of code that sets a caption\n",
    "- change the screen size to be FULLSCREEN (research how to do that in the PyGame documentation)\n",
    "- disable the mouse (research how to do that in the PyGame documentation)\n",
    "- display the orange screen for 3 seconds, followed by the blue screen for 4.5 seconds"
   ]
  },
  {
   "cell_type": "markdown",
   "metadata": {},
   "source": [
    "## Exercise 2 (15 points)"
   ]
  },
  {
   "cell_type": "markdown",
   "metadata": {},
   "source": [
    "In this task you are given an experiment in which items are to be presented to participants either on the left or on the right side of the screen. Here is the program: <br><br>\n",
    "**[ex2.py](https://github.com/imarevic/PsyPythonCourse/blob/master/labs/Lab6/ex2.py)**"
   ]
  },
  {
   "cell_type": "markdown",
   "metadata": {},
   "source": [
    "Your task is to complete the code as follows:\n",
    "- shuffle the list (keep in mind that shuffeling is an 'in place' operation)\n",
    "- implement the function that renders each item `renderStimulus()` either on the left or the right side of the screen depending on whether a randomly generated number between 1 and 10 is even or odd.\n",
    "\n",
    "**Hints:** \n",
    "- use if-then to check whether the randomly generated number is odd or even. You can use the modulo `%` operator to check whether a number is odd or even.\n",
    "- search in the PyGame documentation how to move a rectangle around on the screen. Here is some **pseudocode** that might help you:\n",
    "```python\n",
    "itemRect = screenRect.move(x-coordinates, y-coordinates) \n",
    "```\n",
    "Note that you need to calculate the x-cordinates and y-cordinates relative to the screens width and height. The width and height of any rectangle can ba accessed through `rect.width` and `rect.height` respectively. For example, to place the center of a text rectangle at the center position of the left half of the screen we could do the following:\n",
    "```python\n",
    "screenRect.move(0 + screenRect.width/4 - textItemRect.width/2,\n",
    "                screenRect.height/2 - textItemRect.height/2)\n",
    "```\n",
    "Here, the expression `0 + screenRect.width/4 - textItemRect.width/2` indicates the x-coordinates, and the expression `screenRect.height/2 - textItemRect.height/2` the y-coordinates."
   ]
  },
  {
   "cell_type": "markdown",
   "metadata": {},
   "source": [
    "## Exercise 3 (10 points)"
   ]
  },
  {
   "cell_type": "code",
   "execution_count": null,
   "metadata": {},
   "outputs": [],
   "source": []
  },
  {
   "cell_type": "code",
   "execution_count": null,
   "metadata": {},
   "outputs": [],
   "source": []
  },
  {
   "cell_type": "markdown",
   "metadata": {},
   "source": [
    "## Exercise 4 (15 points)"
   ]
  },
  {
   "cell_type": "code",
   "execution_count": null,
   "metadata": {},
   "outputs": [],
   "source": []
  },
  {
   "cell_type": "code",
   "execution_count": null,
   "metadata": {},
   "outputs": [],
   "source": []
  },
  {
   "cell_type": "markdown",
   "metadata": {},
   "source": [
    "## Exercise 5 (optional)"
   ]
  },
  {
   "cell_type": "code",
   "execution_count": null,
   "metadata": {},
   "outputs": [],
   "source": []
  },
  {
   "cell_type": "code",
   "execution_count": null,
   "metadata": {},
   "outputs": [],
   "source": []
  }
 ],
 "metadata": {
  "kernelspec": {
   "display_name": "Python 3",
   "language": "python",
   "name": "python3"
  },
  "language_info": {
   "codemirror_mode": {
    "name": "ipython",
    "version": 3
   },
   "file_extension": ".py",
   "mimetype": "text/x-python",
   "name": "python",
   "nbconvert_exporter": "python",
   "pygments_lexer": "ipython3",
   "version": "3.5.2"
  }
 },
 "nbformat": 4,
 "nbformat_minor": 2
}
