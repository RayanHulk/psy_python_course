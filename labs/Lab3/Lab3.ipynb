{
 "cells": [
  {
   "cell_type": "markdown",
   "metadata": {},
   "source": [
    "# Lab 3\n",
    "\n",
    "In this lab you will go through some exercises from Chapter 3 (Python Dynamics). Please save this notebook on your computer by either downloading the entire \"PsyPythonCourse\" repository or by clicking on \"RAW\" and copying the contents of this file to an empty editor and saving the file with the extension `.ipynb`.\n",
    "\n",
    "Once the notebook is saved on your computer, follow theses steps to open it:\n",
    "- Navigate to the location the notebook is in with the commad line\n",
    "- Type `jupyter notebook` and hit Return to start the notebook\n",
    "- Click on your notebook to open it\n",
    "\n",
    "---\n",
    "In each exercise you will be asked to complete the code that is enclosed by the following comments:\n",
    "\n",
    "```python\n",
    "## START CODE HERE ## (2 lines od code)\n",
    "your python code\n",
    "more of your python code\n",
    "## END CODE HERE ##\n",
    "```\n",
    "\n",
    "---\n",
    "\n",
    "Students from Heidelberg University are asked to **save their notebook** after completing all exercises and upload it to Moodle. <br>\n",
    "In this lab, a total of **50 points** can be achieved.\n",
    "\n",
    "---"
   ]
  },
  {
   "cell_type": "markdown",
   "metadata": {},
   "source": [
    "## Exercise 1 (10 points)"
   ]
  },
  {
   "cell_type": "code",
   "execution_count": null,
   "metadata": {
    "collapsed": true
   },
   "outputs": [],
   "source": []
  },
  {
   "cell_type": "markdown",
   "metadata": {},
   "source": [
    "**Expected Result:**\n",
    "<table>\n",
    "<tr>\n",
    "    <td><b>Key<b></td>\n",
    "    <td>Value</td>\n",
    "<tr>\n",
    "</table>"
   ]
  },
  {
   "cell_type": "markdown",
   "metadata": {},
   "source": [
    "## Exercise 2 (20 points)"
   ]
  },
  {
   "cell_type": "code",
   "execution_count": null,
   "metadata": {
    "collapsed": true
   },
   "outputs": [],
   "source": []
  },
  {
   "cell_type": "markdown",
   "metadata": {},
   "source": [
    "**Expected Result:**\n",
    "<table>\n",
    "<tr>\n",
    "    <td><b>Key<b></td>\n",
    "    <td>Value</td>\n",
    "<tr>\n",
    "</table>"
   ]
  },
  {
   "cell_type": "markdown",
   "metadata": {},
   "source": [
    "## Exercise 3 (20 points)"
   ]
  },
  {
   "cell_type": "code",
   "execution_count": null,
   "metadata": {
    "collapsed": true
   },
   "outputs": [],
   "source": []
  },
  {
   "cell_type": "markdown",
   "metadata": {},
   "source": [
    "**Expected Result:**\n",
    "<table>\n",
    "<tr>\n",
    "    <td><b>Key<b></td>\n",
    "    <td>Value</td>\n",
    "<tr>\n",
    "</table>"
   ]
  }
 ],
 "metadata": {
  "kernelspec": {
   "display_name": "Python 3",
   "language": "python",
   "name": "python3"
  },
  "language_info": {
   "codemirror_mode": {
    "name": "ipython",
    "version": 3
   },
   "file_extension": ".py",
   "mimetype": "text/x-python",
   "name": "python",
   "nbconvert_exporter": "python",
   "pygments_lexer": "ipython3",
   "version": "3.5.2"
  }
 },
 "nbformat": 4,
 "nbformat_minor": 2
}
