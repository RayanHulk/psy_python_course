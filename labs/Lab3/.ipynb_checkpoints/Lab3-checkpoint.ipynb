{
 "cells": [
  {
   "cell_type": "markdown",
   "metadata": {},
   "source": [
    "# Lab 3\n",
    "\n",
    "In this lab you will go through some exercises from Chapter 3 (Python Dynamics). Please save this notebook on your computer by either downloading the entire \"PsyPythonCourse\" repository or by clicking on \"RAW\" and copying the contents of this file to an empty editor and saving the file with the extension `.ipynb`.\n",
    "\n",
    "Once the notebook is saved on your computer, follow these steps to open it:\n",
    "- Navigate to the location the notebook is in with the commad line\n",
    "- Type `jupyter notebook` and hit Return to start the notebook\n",
    "- Click on your notebook to open it\n",
    "\n",
    "---\n",
    "In each exercise you will be asked to complete the code that is enclosed by the following comments:\n",
    "\n",
    "```python\n",
    "## START CODE HERE ## (2 lines od code)\n",
    "your python code\n",
    "more of your python code\n",
    "## END CODE HERE ##\n",
    "```\n",
    "\n",
    "---\n",
    "\n",
    "Students from Heidelberg University are asked to **save their notebook** after completing all exercises and upload it to Moodle. <br>\n",
    "In this lab, a total of **50 points** can be achieved.\n",
    "\n",
    "---"
   ]
  },
  {
   "cell_type": "markdown",
   "metadata": {},
   "source": [
    "## Exercise 1 (10 points)\n",
    "\n",
    "Complete the following code and make sure that all experimental conditions get executed dependent on the users input. Use `if` and `elif` statements to check the conditions 1 and 2 and an `else` statement to ckeck for the last condition (condition 3):"
   ]
  },
  {
   "cell_type": "code",
   "execution_count": 12,
   "metadata": {},
   "outputs": [
    {
     "name": "stdout",
     "output_type": "stream",
     "text": [
      "Please enter condition (1, 2, or 3) :1\n"
     ]
    }
   ],
   "source": [
    "# collecting user input\n",
    "userInput = input(\"Please enter condition (1, 2, or 3) :\")\n",
    "condition = int(userInput)\n",
    "\n",
    "# information to be printed dependent on condition\n",
    "cond1 = \"Please take medication A\"\n",
    "cond2 = \"Please take medication B\"\n",
    "cond3 = \"Please take medication C\"\n",
    "\n",
    "## START CODE HERE ## (6 lines of code)\n",
    "\n",
    "## END CODE HERE"
   ]
  },
  {
   "cell_type": "markdown",
   "metadata": {},
   "source": [
    "**Expected Result:**\n",
    "<table>\n",
    "<tr>\n",
    "    <td><b>When input = 1<b></td>\n",
    "    <td>Please take medication A</td>\n",
    "<tr>\n",
    "    <td><b>When input = 2<b></td>\n",
    "    <td>Please take medication B</td>\n",
    "<tr>\n",
    "     <td><b>When input = 3<b></td>\n",
    "    <td>Please take medication C</td>\n",
    "<tr>\n",
    "</table>"
   ]
  },
  {
   "cell_type": "markdown",
   "metadata": {},
   "source": [
    "## Exercise 2 (20 points)\n",
    "\n",
    "In this exercise, we want to create an experiment in which we play a guessing game with the participants.<br> \n",
    "Let's call this experiment **\"The Guessing Game\"**. <br>\n",
    "At the top of the python script we are generating a random number between 1 and 99 that we store in a variable named `n`.\n",
    "Next, we get a first guess from the participant. This guess is stored in the variable `guess`.\n",
    "<br><br>\n",
    "Your task is to complete the program in the following way:\n",
    "- If the participants guess is too low, print \"guess is too low\"\n",
    "- If the participants guess is too high, print \"guess is too high\"\n",
    "- If the participants guess is right, print \"you guessed it!\n",
    "\n",
    "Also, after checking for each of these conditions, ask the participant to input a new guess.\n",
    "\n",
    "*Note:* Make sure to exit the while loop once the guess is correct!\n"
   ]
  },
  {
   "cell_type": "code",
   "execution_count": null,
   "metadata": {
    "collapsed": true
   },
   "outputs": [],
   "source": [
    "# import random module (used to generate a random number)\n",
    "import random\n",
    "# generating random number\n",
    "n = random.randint(1, 99)\n",
    "# asking for first guess\n",
    "guess = int(input(\"Enter an integer from 1 to 99: \"))\n",
    "\n",
    "# infinfite while loop\n",
    "while True:\n",
    "    ## START CODE HERE ## (min. 9 lines of code)\n",
    "    \n",
    "    \n",
    "    ## END CODE HERE ##"
   ]
  },
  {
   "cell_type": "markdown",
   "metadata": {},
   "source": [
    "**Expected Result:**<br>\n",
    "(Example of one guessing game)\n",
    "<table>\n",
    "<tr>\n",
    "    <td><b>Enter an integer from 1 to 99:<b></td>\n",
    "    <td>40</td>\n",
    "<tr>\n",
    "<tr>\n",
    "    <td>guess is too low</td>\n",
    "<tr>\n",
    "<tr>\n",
    "    <td><b>Enter an integer from 1 to 99:<b></td>\n",
    "    <td>58</td>\n",
    "<tr>\n",
    "    <td>guess is too high</td>\n",
    "<tr>\n",
    "<tr>\n",
    "    <td><b>Enter an integer from 1 to 99:<b></td>\n",
    "    <td>42</td>\n",
    "<tr>\n",
    "    <td>you guessed it!</td>\n",
    "<tr>\n",
    "<tr>\n",
    "</table>"
   ]
  },
  {
   "cell_type": "markdown",
   "metadata": {},
   "source": [
    "## Exercise 3 (20 points)\n",
    "In this exercise you are given shapes and colors in two lists, namely `list1` and `list2`. We want to pair each shape with each color sequentially and present the resulting pairs (e.g. `triangle-red`) to the participants. Further we want the presentation to happen every second.<br>\n",
    "Use a nested for loop to pair  *shapes* with *colors* and exit both loops once 5 rounds are reached.\n",
    "\n",
    "**Tip:** To accomplish this, you need to check whether `rounds` is smaller than `5` within the nested loop and increment `rounds` each time you present something to the participant."
   ]
  },
  {
   "cell_type": "code",
   "execution_count": 2,
   "metadata": {},
   "outputs": [
    {
     "name": "stdout",
     "output_type": "stream",
     "text": [
      "Time is up!\n"
     ]
    }
   ],
   "source": [
    "import time\n",
    "# given stimuli lists\n",
    "list1 = [\"triangle\", \"square\", \"circle\"]\n",
    "list2 = [\"red\", \"green\", \"blue\"]\n",
    "\n",
    "# set rounds to 0\n",
    "rounds = 0\n",
    "\n",
    "# nested for loop\n",
    "## START CODE HERE ## (8 lines of code)\n",
    "\n",
    "\n",
    "    \n",
    "## END CODE HERE ##\n",
    "\n",
    "# print \"Time is up!\"          \n",
    "print(\"Time is up!\") "
   ]
  },
  {
   "cell_type": "markdown",
   "metadata": {},
   "source": [
    "**Expected Result:**\n",
    "<table>\n",
    "<tr>\n",
    "    <td>triangle-red</td>\n",
    "<tr>\n",
    "<tr>\n",
    "    <td>triangle-green</td>\n",
    "<tr>\n",
    "<tr>\n",
    "    <td>triangle-blue</td>\n",
    "<tr>\n",
    "<tr>\n",
    "    <td>square-red</td>\n",
    "<tr>\n",
    "<tr>\n",
    "    <td>square-green</td>\n",
    "<tr>\n",
    "<tr>\n",
    "    <td>Time is up!</td>\n",
    "<tr>\n",
    "</table>"
   ]
  },
  {
   "cell_type": "markdown",
   "metadata": {},
   "source": [
    "## Exercise 4 (optional)\n",
    "This exercise is a difficult one and is for students who cannot get enough of `for` loops and conditionals (`if..else`).\n",
    "As psychologists we would like to draw the letter \"P\" by using asterixes ('*'). \n",
    "Write a program that prints the following to the console:\n",
    "<br><br>\n",
    "\n",
    "`****`<br>\n",
    "`*    *`<br>\n",
    "`*    *`<br>\n",
    "`****`<br>\n",
    "`*`<br>\n",
    "`*`<br>\n",
    "`*`<br>\n",
    "\n",
    "**Tip:** Use python `operators` (`and`, `or`, `<`, `>`) inside a nested for loop to check where in a combination of rows and columns a `*` should be placed and where to place an empty space ` `.<br><br>\n",
    "\n",
    "Expand the following code:"
   ]
  },
  {
   "cell_type": "code",
   "execution_count": 9,
   "metadata": {},
   "outputs": [
    {
     "ename": "SyntaxError",
     "evalue": "invalid syntax (<ipython-input-9-563b81ee10a8>, line 8)",
     "output_type": "error",
     "traceback": [
      "\u001b[0;36m  File \u001b[0;32m\"<ipython-input-9-563b81ee10a8>\"\u001b[0;36m, line \u001b[0;32m8\u001b[0m\n\u001b[0;31m    if # YOUR CODE:\u001b[0m\n\u001b[0m                     ^\u001b[0m\n\u001b[0;31mSyntaxError\u001b[0m\u001b[0;31m:\u001b[0m invalid syntax\n"
     ]
    }
   ],
   "source": [
    "# string variable holding the result\n",
    "result=\"\" \n",
    "# for loop iterating over rows\n",
    "for row in range(0,7):\n",
    "    # nested for loop iterating over columns\n",
    "    for column in range(0,7):\n",
    "        # ckeck wehre to place * and add it to the result string \n",
    "        if # YOUR CODE:  \n",
    "            # YOUR CODE   \n",
    "        else:      \n",
    "            #YOUR CODE \n",
    "    # adding line break at the end of each row\n",
    "    result=result+\"\\n\"    \n",
    "# print result\n",
    "print(result)"
   ]
  }
 ],
 "metadata": {
  "kernelspec": {
   "display_name": "Python 3",
   "language": "python",
   "name": "python3"
  },
  "language_info": {
   "codemirror_mode": {
    "name": "ipython",
    "version": 3
   },
   "file_extension": ".py",
   "mimetype": "text/x-python",
   "name": "python",
   "nbconvert_exporter": "python",
   "pygments_lexer": "ipython3",
   "version": "3.5.2"
  }
 },
 "nbformat": 4,
 "nbformat_minor": 2
}
